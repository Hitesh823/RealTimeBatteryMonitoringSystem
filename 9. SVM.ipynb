{
  "nbformat": 4,
  "nbformat_minor": 0,
  "metadata": {
    "colab": {
      "provenance": [],
      "authorship_tag": "ABX9TyNnLL8JHIBrvxHahrS5suZ4",
      "include_colab_link": true
    },
    "kernelspec": {
      "name": "python3",
      "display_name": "Python 3"
    },
    "language_info": {
      "name": "python"
    }
  },
  "cells": [
    {
      "cell_type": "markdown",
      "metadata": {
        "id": "view-in-github",
        "colab_type": "text"
      },
      "source": [
        "<a href=\"https://colab.research.google.com/github/punjabinuclei/RealTimeBatteryMonitoringSystem/blob/main/SVM.ipynb\" target=\"_parent\"><img src=\"https://colab.research.google.com/assets/colab-badge.svg\" alt=\"Open In Colab\"/></a>"
      ]
    },
    {
      "cell_type": "code",
      "execution_count": 1,
      "metadata": {
        "id": "Lfvtwa0tW0Ij"
      },
      "outputs": [],
      "source": [
        "import pandas as pd # data processing\n",
        "import numpy as np # working with arrays\n",
        "import matplotlib.pyplot as plt # visualization\n",
        "import seaborn as sb # visualization\n",
        "from termcolor import colored as cl # text customization\n",
        "\n",
        "from sklearn.model_selection import train_test_split # data split\n",
        "\n",
        "from sklearn import svm\n",
        "from sklearn.metrics import explained_variance_score as evs # evaluation metric\n",
        "from sklearn.metrics import r2_score as r2 # evaluation metric\n",
        "\n",
        "sb.set_style('whitegrid') # plot style\n",
        "plt.rcParams['figure.figsize'] = (20, 10)\n",
        "from sklearn import preprocessing # preprocessData\n"
      ]
    },
    {
      "cell_type": "code",
      "source": [
        "df=pd.read_csv(r\"SocFinal.csv\")\n",
        "df=df.dropna()\n",
        "df\n"
      ],
      "metadata": {
        "colab": {
          "base_uri": "https://localhost:8080/",
          "height": 423
        },
        "id": "I9248AICXJ7h",
        "outputId": "1efe7ddb-1068-4ac9-d02c-46584ccb3496"
      },
      "execution_count": 2,
      "outputs": [
        {
          "output_type": "execute_result",
          "data": {
            "text/plain": [
              "       Voltage   Current  Temperature  Capacity  StandardDeviation  \\\n",
              "0      4.17604  -0.15069     23.97615   2.99746          11.492914   \n",
              "1      4.17014  -0.15069     23.97615   2.99239          11.492369   \n",
              "2      4.16761  -0.15069     23.76583   2.98986          11.388522   \n",
              "3      4.16509  -0.15325     23.66067   2.98732          11.336982   \n",
              "4      4.16273  -0.15325     23.76583   2.98478          11.388420   \n",
              "...        ...       ...          ...       ...                ...   \n",
              "14952  2.80077 -11.13838      8.83332   0.52128           8.443293   \n",
              "14953  2.80010 -10.93406      8.83332   0.52099           8.347490   \n",
              "14954  2.79993 -10.88298      8.83332   0.52099           8.323558   \n",
              "14955  2.80178 -15.74596      8.93848   0.53256          10.664245   \n",
              "14956  2.80027 -14.01173      8.93848   0.53214           9.834418   \n",
              "\n",
              "       DCResistance  MeanofVariables  StateofCharge  \n",
              "0         -0.039153         7.001010      99.915333  \n",
              "1         -0.016789         7.000802      99.746333  \n",
              "2         -0.016444         6.948222      99.662000  \n",
              "3         -0.015400         6.921297      99.577333  \n",
              "4         -0.014600         6.947633      99.492667  \n",
              "...             ...              ...            ...  \n",
              "14952     -0.000061         0.743607      17.376000  \n",
              "14953     -0.000016         0.794593      17.366333  \n",
              "14954      0.000117         0.807320      17.366333  \n",
              "14955     -0.000108        -0.384565      17.752000  \n",
              "14956     -0.000025         0.048720      17.738000  \n",
              "\n",
              "[14957 rows x 8 columns]"
            ],
            "text/html": [
              "\n",
              "  <div id=\"df-6c515b34-9565-4626-a6d8-f66b86b1a5c7\">\n",
              "    <div class=\"colab-df-container\">\n",
              "      <div>\n",
              "<style scoped>\n",
              "    .dataframe tbody tr th:only-of-type {\n",
              "        vertical-align: middle;\n",
              "    }\n",
              "\n",
              "    .dataframe tbody tr th {\n",
              "        vertical-align: top;\n",
              "    }\n",
              "\n",
              "    .dataframe thead th {\n",
              "        text-align: right;\n",
              "    }\n",
              "</style>\n",
              "<table border=\"1\" class=\"dataframe\">\n",
              "  <thead>\n",
              "    <tr style=\"text-align: right;\">\n",
              "      <th></th>\n",
              "      <th>Voltage</th>\n",
              "      <th>Current</th>\n",
              "      <th>Temperature</th>\n",
              "      <th>Capacity</th>\n",
              "      <th>StandardDeviation</th>\n",
              "      <th>DCResistance</th>\n",
              "      <th>MeanofVariables</th>\n",
              "      <th>StateofCharge</th>\n",
              "    </tr>\n",
              "  </thead>\n",
              "  <tbody>\n",
              "    <tr>\n",
              "      <th>0</th>\n",
              "      <td>4.17604</td>\n",
              "      <td>-0.15069</td>\n",
              "      <td>23.97615</td>\n",
              "      <td>2.99746</td>\n",
              "      <td>11.492914</td>\n",
              "      <td>-0.039153</td>\n",
              "      <td>7.001010</td>\n",
              "      <td>99.915333</td>\n",
              "    </tr>\n",
              "    <tr>\n",
              "      <th>1</th>\n",
              "      <td>4.17014</td>\n",
              "      <td>-0.15069</td>\n",
              "      <td>23.97615</td>\n",
              "      <td>2.99239</td>\n",
              "      <td>11.492369</td>\n",
              "      <td>-0.016789</td>\n",
              "      <td>7.000802</td>\n",
              "      <td>99.746333</td>\n",
              "    </tr>\n",
              "    <tr>\n",
              "      <th>2</th>\n",
              "      <td>4.16761</td>\n",
              "      <td>-0.15069</td>\n",
              "      <td>23.76583</td>\n",
              "      <td>2.98986</td>\n",
              "      <td>11.388522</td>\n",
              "      <td>-0.016444</td>\n",
              "      <td>6.948222</td>\n",
              "      <td>99.662000</td>\n",
              "    </tr>\n",
              "    <tr>\n",
              "      <th>3</th>\n",
              "      <td>4.16509</td>\n",
              "      <td>-0.15325</td>\n",
              "      <td>23.66067</td>\n",
              "      <td>2.98732</td>\n",
              "      <td>11.336982</td>\n",
              "      <td>-0.015400</td>\n",
              "      <td>6.921297</td>\n",
              "      <td>99.577333</td>\n",
              "    </tr>\n",
              "    <tr>\n",
              "      <th>4</th>\n",
              "      <td>4.16273</td>\n",
              "      <td>-0.15325</td>\n",
              "      <td>23.76583</td>\n",
              "      <td>2.98478</td>\n",
              "      <td>11.388420</td>\n",
              "      <td>-0.014600</td>\n",
              "      <td>6.947633</td>\n",
              "      <td>99.492667</td>\n",
              "    </tr>\n",
              "    <tr>\n",
              "      <th>...</th>\n",
              "      <td>...</td>\n",
              "      <td>...</td>\n",
              "      <td>...</td>\n",
              "      <td>...</td>\n",
              "      <td>...</td>\n",
              "      <td>...</td>\n",
              "      <td>...</td>\n",
              "      <td>...</td>\n",
              "    </tr>\n",
              "    <tr>\n",
              "      <th>14952</th>\n",
              "      <td>2.80077</td>\n",
              "      <td>-11.13838</td>\n",
              "      <td>8.83332</td>\n",
              "      <td>0.52128</td>\n",
              "      <td>8.443293</td>\n",
              "      <td>-0.000061</td>\n",
              "      <td>0.743607</td>\n",
              "      <td>17.376000</td>\n",
              "    </tr>\n",
              "    <tr>\n",
              "      <th>14953</th>\n",
              "      <td>2.80010</td>\n",
              "      <td>-10.93406</td>\n",
              "      <td>8.83332</td>\n",
              "      <td>0.52099</td>\n",
              "      <td>8.347490</td>\n",
              "      <td>-0.000016</td>\n",
              "      <td>0.794593</td>\n",
              "      <td>17.366333</td>\n",
              "    </tr>\n",
              "    <tr>\n",
              "      <th>14954</th>\n",
              "      <td>2.79993</td>\n",
              "      <td>-10.88298</td>\n",
              "      <td>8.83332</td>\n",
              "      <td>0.52099</td>\n",
              "      <td>8.323558</td>\n",
              "      <td>0.000117</td>\n",
              "      <td>0.807320</td>\n",
              "      <td>17.366333</td>\n",
              "    </tr>\n",
              "    <tr>\n",
              "      <th>14955</th>\n",
              "      <td>2.80178</td>\n",
              "      <td>-15.74596</td>\n",
              "      <td>8.93848</td>\n",
              "      <td>0.53256</td>\n",
              "      <td>10.664245</td>\n",
              "      <td>-0.000108</td>\n",
              "      <td>-0.384565</td>\n",
              "      <td>17.752000</td>\n",
              "    </tr>\n",
              "    <tr>\n",
              "      <th>14956</th>\n",
              "      <td>2.80027</td>\n",
              "      <td>-14.01173</td>\n",
              "      <td>8.93848</td>\n",
              "      <td>0.53214</td>\n",
              "      <td>9.834418</td>\n",
              "      <td>-0.000025</td>\n",
              "      <td>0.048720</td>\n",
              "      <td>17.738000</td>\n",
              "    </tr>\n",
              "  </tbody>\n",
              "</table>\n",
              "<p>14957 rows × 8 columns</p>\n",
              "</div>\n",
              "      <button class=\"colab-df-convert\" onclick=\"convertToInteractive('df-6c515b34-9565-4626-a6d8-f66b86b1a5c7')\"\n",
              "              title=\"Convert this dataframe to an interactive table.\"\n",
              "              style=\"display:none;\">\n",
              "        \n",
              "  <svg xmlns=\"http://www.w3.org/2000/svg\" height=\"24px\"viewBox=\"0 0 24 24\"\n",
              "       width=\"24px\">\n",
              "    <path d=\"M0 0h24v24H0V0z\" fill=\"none\"/>\n",
              "    <path d=\"M18.56 5.44l.94 2.06.94-2.06 2.06-.94-2.06-.94-.94-2.06-.94 2.06-2.06.94zm-11 1L8.5 8.5l.94-2.06 2.06-.94-2.06-.94L8.5 2.5l-.94 2.06-2.06.94zm10 10l.94 2.06.94-2.06 2.06-.94-2.06-.94-.94-2.06-.94 2.06-2.06.94z\"/><path d=\"M17.41 7.96l-1.37-1.37c-.4-.4-.92-.59-1.43-.59-.52 0-1.04.2-1.43.59L10.3 9.45l-7.72 7.72c-.78.78-.78 2.05 0 2.83L4 21.41c.39.39.9.59 1.41.59.51 0 1.02-.2 1.41-.59l7.78-7.78 2.81-2.81c.8-.78.8-2.07 0-2.86zM5.41 20L4 18.59l7.72-7.72 1.47 1.35L5.41 20z\"/>\n",
              "  </svg>\n",
              "      </button>\n",
              "      \n",
              "  <style>\n",
              "    .colab-df-container {\n",
              "      display:flex;\n",
              "      flex-wrap:wrap;\n",
              "      gap: 12px;\n",
              "    }\n",
              "\n",
              "    .colab-df-convert {\n",
              "      background-color: #E8F0FE;\n",
              "      border: none;\n",
              "      border-radius: 50%;\n",
              "      cursor: pointer;\n",
              "      display: none;\n",
              "      fill: #1967D2;\n",
              "      height: 32px;\n",
              "      padding: 0 0 0 0;\n",
              "      width: 32px;\n",
              "    }\n",
              "\n",
              "    .colab-df-convert:hover {\n",
              "      background-color: #E2EBFA;\n",
              "      box-shadow: 0px 1px 2px rgba(60, 64, 67, 0.3), 0px 1px 3px 1px rgba(60, 64, 67, 0.15);\n",
              "      fill: #174EA6;\n",
              "    }\n",
              "\n",
              "    [theme=dark] .colab-df-convert {\n",
              "      background-color: #3B4455;\n",
              "      fill: #D2E3FC;\n",
              "    }\n",
              "\n",
              "    [theme=dark] .colab-df-convert:hover {\n",
              "      background-color: #434B5C;\n",
              "      box-shadow: 0px 1px 3px 1px rgba(0, 0, 0, 0.15);\n",
              "      filter: drop-shadow(0px 1px 2px rgba(0, 0, 0, 0.3));\n",
              "      fill: #FFFFFF;\n",
              "    }\n",
              "  </style>\n",
              "\n",
              "      <script>\n",
              "        const buttonEl =\n",
              "          document.querySelector('#df-6c515b34-9565-4626-a6d8-f66b86b1a5c7 button.colab-df-convert');\n",
              "        buttonEl.style.display =\n",
              "          google.colab.kernel.accessAllowed ? 'block' : 'none';\n",
              "\n",
              "        async function convertToInteractive(key) {\n",
              "          const element = document.querySelector('#df-6c515b34-9565-4626-a6d8-f66b86b1a5c7');\n",
              "          const dataTable =\n",
              "            await google.colab.kernel.invokeFunction('convertToInteractive',\n",
              "                                                     [key], {});\n",
              "          if (!dataTable) return;\n",
              "\n",
              "          const docLinkHtml = 'Like what you see? Visit the ' +\n",
              "            '<a target=\"_blank\" href=https://colab.research.google.com/notebooks/data_table.ipynb>data table notebook</a>'\n",
              "            + ' to learn more about interactive tables.';\n",
              "          element.innerHTML = '';\n",
              "          dataTable['output_type'] = 'display_data';\n",
              "          await google.colab.output.renderOutput(dataTable, element);\n",
              "          const docLink = document.createElement('div');\n",
              "          docLink.innerHTML = docLinkHtml;\n",
              "          element.appendChild(docLink);\n",
              "        }\n",
              "      </script>\n",
              "    </div>\n",
              "  </div>\n",
              "  "
            ]
          },
          "metadata": {},
          "execution_count": 2
        }
      ]
    },
    {
      "cell_type": "code",
      "source": [
        "features = ['Voltage','Current','Temperature', 'Capacity', 'StandardDeviation', 'DCResistance', 'MeanofVariables']\n",
        "X = df.loc[:, features]\n",
        "y = df.loc[:, ['StateofCharge']]\n",
        "\n"
      ],
      "metadata": {
        "id": "tth1DPyRXNC7"
      },
      "execution_count": 3,
      "outputs": []
    },
    {
      "cell_type": "code",
      "source": [
        "X_train, X_test, y_train, y_test = train_test_split(\n",
        "    X, y, test_size=0.2, random_state=1)\n",
        "X_train, X_val, y_train, y_val = train_test_split(\n",
        "    X_train, y_train, test_size=0.25, random_state=1)\n"
      ],
      "metadata": {
        "id": "c0U6T8VCXQaj"
      },
      "execution_count": 4,
      "outputs": []
    },
    {
      "cell_type": "code",
      "source": [
        "regr = svm.SVR()\n",
        "regr.fit(X_train, y_train)\n",
        "regr_yhat = regr.predict(X_test)"
      ],
      "metadata": {
        "colab": {
          "base_uri": "https://localhost:8080/"
        },
        "id": "qj8vV6qNXSxB",
        "outputId": "0d22a119-a658-4447-8eb4-dd22aeb7ed87"
      },
      "execution_count": 15,
      "outputs": [
        {
          "output_type": "stream",
          "name": "stderr",
          "text": [
            "/usr/local/lib/python3.8/dist-packages/sklearn/utils/validation.py:993: DataConversionWarning: A column-vector y was passed when a 1d array was expected. Please change the shape of y to (n_samples, ), for example using ravel().\n",
            "  y = column_or_1d(y, warn=True)\n"
          ]
        }
      ]
    },
    {
      "cell_type": "code",
      "source": [
        "print(cl('EXPLAINED VARIANCE SCORE:', attrs = ['bold']))\n",
        "print('-------------------------------------------------------------------------------')\n",
        "print(cl('Explained Variance Score of SVM model is {}'.format(evs(y_test, regr_yhat)), attrs = ['bold']))"
      ],
      "metadata": {
        "colab": {
          "base_uri": "https://localhost:8080/"
        },
        "id": "mYxfAsKWXslA",
        "outputId": "abdd6b1c-40d7-467b-ff4e-52ba6efe38b3"
      },
      "execution_count": 19,
      "outputs": [
        {
          "output_type": "stream",
          "name": "stdout",
          "text": [
            "EXPLAINED VARIANCE SCORE:\n",
            "-------------------------------------------------------------------------------\n",
            "Explained Variance Score of SVM model is 0.6017240703698977\n"
          ]
        }
      ]
    },
    {
      "cell_type": "code",
      "source": [
        "print(cl('R-SQUARED:', attrs = ['bold']))\n",
        "print('-------------------------------------------------------------------------------')\n",
        "print(cl('R-Squared of SVM model is {}'.format(r2(y_test, regr_yhat)), attrs = ['bold']))"
      ],
      "metadata": {
        "colab": {
          "base_uri": "https://localhost:8080/"
        },
        "id": "Q47nFmmaYAFy",
        "outputId": "57b0cf8f-8390-4804-9e4c-8e51bd322e9b"
      },
      "execution_count": 10,
      "outputs": [
        {
          "output_type": "stream",
          "name": "stdout",
          "text": [
            "R-SQUARED:\n",
            "-------------------------------------------------------------------------------\n",
            "R-Squared of SVM model is 0.6016565998780863\n"
          ]
        }
      ]
    },
    {
      "cell_type": "code",
      "source": [],
      "metadata": {
        "id": "g7uPq9biYRHN"
      },
      "execution_count": null,
      "outputs": []
    }
  ]
}
