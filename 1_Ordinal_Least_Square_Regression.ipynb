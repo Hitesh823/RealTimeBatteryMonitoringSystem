{
 "cells": [
  {
   "cell_type": "markdown",
   "metadata": {
    "id": "z2zMZKzEJ68x"
   },
   "source": [
    "\n",
    "# **State of Charge Estimation using Machine Learning** "
   ]
  },
  {
   "cell_type": "markdown",
   "metadata": {
    "id": "UvXF-AK9KnkL"
   },
   "source": [
    "Why linear regression? Linear regression is an algorithm used to predict values that are continuous in nature.\n",
    "\n",
    "To predict the state of charget we are going to use the following linear regression algorithm: Ordinal Least Square (OLS) algorithm"
   ]
  },
  {
   "cell_type": "markdown",
   "metadata": {
    "id": "eeSsJq8fHicJ"
   },
   "source": [
    "# Importing Important Libraries\n",
    "\n",
    "\n"
   ]
  },
  {
   "cell_type": "markdown",
   "metadata": {
    "id": "QSzILxCuLIST"
   },
   "source": [
    "Our primary packages for this project are going to be pandas for data processing, NumPy to work with arrays, matplotlib & seaborn for data visualizations, and finally scikit-learn for building an evaluating our ML model. Let’s import all the required packages into our python environment."
   ]
  },
  {
   "cell_type": "code",
   "execution_count": 14,
   "metadata": {
    "id": "BNnWJTZgHicS"
   },
   "outputs": [],
   "source": [
    "\n",
    "import pandas as pd # data processing\n",
    "import numpy as np # working with arrays\n",
    "from termcolor import colored as cl # text customization\n",
    "\n",
    "from sklearn.model_selection import train_test_split # data split\n",
    "\n",
    "from sklearn.linear_model import LinearRegression # OLS algorithm\n",
    "\n",
    "from sklearn.metrics import explained_variance_score as evs # evaluation metric\n",
    "from sklearn.metrics import r2_score as r2 # evaluation metric\n",
    "\n",
    "from sklearn import preprocessing # preprocessData"
   ]
  },
  {
   "cell_type": "markdown",
   "metadata": {
    "id": "VEFE9czVIyhR"
   },
   "source": [
    "# Loading our Dataset"
   ]
  },
  {
   "cell_type": "markdown",
   "metadata": {
    "id": "9RDNBOL2LPg6"
   },
   "source": [
    "Using the ‘read_csv’ function provided by the Pandas package, we can import the data into our python environment. After importing the data, we can use the ‘head’ function to get a glimpse of our dataset."
   ]
  },
  {
   "cell_type": "code",
   "execution_count": null,
   "metadata": {
    "colab": {
     "base_uri": "https://localhost:8080/",
     "height": 423
    },
    "id": "SJ7BG-B6HicT",
    "outputId": "3ed69ca8-c918-40b7-dd06-e975a342fb8b",
    "scrolled": true
   },
   "outputs": [],
   "source": []
  },
  {
   "cell_type": "code",
   "execution_count": 5,
   "metadata": {},
   "outputs": [
    {
     "data": {
      "text/html": [
       "<div>\n",
       "<style scoped>\n",
       "    .dataframe tbody tr th:only-of-type {\n",
       "        vertical-align: middle;\n",
       "    }\n",
       "\n",
       "    .dataframe tbody tr th {\n",
       "        vertical-align: top;\n",
       "    }\n",
       "\n",
       "    .dataframe thead th {\n",
       "        text-align: right;\n",
       "    }\n",
       "</style>\n",
       "<table border=\"1\" class=\"dataframe\">\n",
       "  <thead>\n",
       "    <tr style=\"text-align: right;\">\n",
       "      <th></th>\n",
       "      <th>Voltage(V)</th>\n",
       "      <th>Current (A)</th>\n",
       "      <th>Temperature (C)</th>\n",
       "      <th>SOC%</th>\n",
       "    </tr>\n",
       "  </thead>\n",
       "  <tbody>\n",
       "    <tr>\n",
       "      <th>0</th>\n",
       "      <td>4.181530</td>\n",
       "      <td>-0.592617</td>\n",
       "      <td>23.549685</td>\n",
       "      <td>99.999989</td>\n",
       "    </tr>\n",
       "    <tr>\n",
       "      <th>1</th>\n",
       "      <td>4.174833</td>\n",
       "      <td>-0.597150</td>\n",
       "      <td>23.699697</td>\n",
       "      <td>99.994465</td>\n",
       "    </tr>\n",
       "    <tr>\n",
       "      <th>2</th>\n",
       "      <td>4.173691</td>\n",
       "      <td>-0.595770</td>\n",
       "      <td>23.470728</td>\n",
       "      <td>99.988943</td>\n",
       "    </tr>\n",
       "    <tr>\n",
       "      <th>3</th>\n",
       "      <td>4.172785</td>\n",
       "      <td>-0.596164</td>\n",
       "      <td>23.707592</td>\n",
       "      <td>99.983422</td>\n",
       "    </tr>\n",
       "    <tr>\n",
       "      <th>4</th>\n",
       "      <td>4.171997</td>\n",
       "      <td>-0.596558</td>\n",
       "      <td>23.628637</td>\n",
       "      <td>99.977902</td>\n",
       "    </tr>\n",
       "    <tr>\n",
       "      <th>...</th>\n",
       "      <td>...</td>\n",
       "      <td>...</td>\n",
       "      <td>...</td>\n",
       "      <td>...</td>\n",
       "    </tr>\n",
       "    <tr>\n",
       "      <th>952192</th>\n",
       "      <td>2.951639</td>\n",
       "      <td>0.000000</td>\n",
       "      <td>19.411720</td>\n",
       "      <td>26.814976</td>\n",
       "    </tr>\n",
       "    <tr>\n",
       "      <th>952193</th>\n",
       "      <td>2.954870</td>\n",
       "      <td>0.000000</td>\n",
       "      <td>19.253963</td>\n",
       "      <td>26.814976</td>\n",
       "    </tr>\n",
       "    <tr>\n",
       "      <th>952194</th>\n",
       "      <td>2.957982</td>\n",
       "      <td>0.000000</td>\n",
       "      <td>19.301291</td>\n",
       "      <td>26.814976</td>\n",
       "    </tr>\n",
       "    <tr>\n",
       "      <th>952195</th>\n",
       "      <td>2.960897</td>\n",
       "      <td>0.000000</td>\n",
       "      <td>19.372282</td>\n",
       "      <td>26.814976</td>\n",
       "    </tr>\n",
       "    <tr>\n",
       "      <th>952196</th>\n",
       "      <td>2.960897</td>\n",
       "      <td>0.000000</td>\n",
       "      <td>19.459049</td>\n",
       "      <td>26.814976</td>\n",
       "    </tr>\n",
       "  </tbody>\n",
       "</table>\n",
       "<p>10404442 rows × 4 columns</p>\n",
       "</div>"
      ],
      "text/plain": [
       "        Voltage(V)  Current (A)  Temperature (C)       SOC%\n",
       "0         4.181530    -0.592617        23.549685  99.999989\n",
       "1         4.174833    -0.597150        23.699697  99.994465\n",
       "2         4.173691    -0.595770        23.470728  99.988943\n",
       "3         4.172785    -0.596164        23.707592  99.983422\n",
       "4         4.171997    -0.596558        23.628637  99.977902\n",
       "...            ...          ...              ...        ...\n",
       "952192    2.951639     0.000000        19.411720  26.814976\n",
       "952193    2.954870     0.000000        19.253963  26.814976\n",
       "952194    2.957982     0.000000        19.301291  26.814976\n",
       "952195    2.960897     0.000000        19.372282  26.814976\n",
       "952196    2.960897     0.000000        19.459049  26.814976\n",
       "\n",
       "[10404442 rows x 4 columns]"
      ]
     },
     "execution_count": 5,
     "metadata": {},
     "output_type": "execute_result"
    }
   ],
   "source": [
    "# list of csv files to merge\n",
    "files = ['File1.csv', 'File2.csv', 'File3.csv', 'File4.csv', 'File5.csv', 'File6.csv', 'File7.csv', 'File8.csv', 'File9.csv', 'File10.csv', 'File11.csv', 'File12.csv','File13.csv','File14.csv','File15.csv','File16.csv','File17.csv','File18.csv','File19.csv','File20.csv','File21.csv']\n",
    "\n",
    "# read each file into a dataframe\n",
    "dfs = [pd.read_csv(file) for file in files]\n",
    "\n",
    "# merge all dataframes into one\n",
    "merged_df = pd.concat(dfs)\n",
    "\n",
    "df=merged_df\n",
    "df=df.drop(columns=['QDischarge_mA_h'])\n",
    "df"
   ]
  },
  {
   "cell_type": "markdown",
   "metadata": {
    "id": "OazFABXRLeyt"
   },
   "source": [
    "Now, using the ‘describe’ function we can get a statistical view of the data like mean, median, standard deviation, and so on."
   ]
  },
  {
   "cell_type": "code",
   "execution_count": 6,
   "metadata": {},
   "outputs": [
    {
     "data": {
      "text/html": [
       "<div>\n",
       "<style scoped>\n",
       "    .dataframe tbody tr th:only-of-type {\n",
       "        vertical-align: middle;\n",
       "    }\n",
       "\n",
       "    .dataframe tbody tr th {\n",
       "        vertical-align: top;\n",
       "    }\n",
       "\n",
       "    .dataframe thead th {\n",
       "        text-align: right;\n",
       "    }\n",
       "</style>\n",
       "<table border=\"1\" class=\"dataframe\">\n",
       "  <thead>\n",
       "    <tr style=\"text-align: right;\">\n",
       "      <th></th>\n",
       "      <th>Voltage(V)</th>\n",
       "      <th>Current (A)</th>\n",
       "      <th>Temperature (C)</th>\n",
       "      <th>SOC%</th>\n",
       "    </tr>\n",
       "  </thead>\n",
       "  <tbody>\n",
       "    <tr>\n",
       "      <th>0</th>\n",
       "      <td>4.181530</td>\n",
       "      <td>-0.592617</td>\n",
       "      <td>23.549685</td>\n",
       "      <td>99.999989</td>\n",
       "    </tr>\n",
       "    <tr>\n",
       "      <th>1</th>\n",
       "      <td>4.174833</td>\n",
       "      <td>-0.597150</td>\n",
       "      <td>23.699697</td>\n",
       "      <td>99.994465</td>\n",
       "    </tr>\n",
       "    <tr>\n",
       "      <th>2</th>\n",
       "      <td>4.173691</td>\n",
       "      <td>-0.595770</td>\n",
       "      <td>23.470728</td>\n",
       "      <td>99.988943</td>\n",
       "    </tr>\n",
       "    <tr>\n",
       "      <th>3</th>\n",
       "      <td>4.172785</td>\n",
       "      <td>-0.596164</td>\n",
       "      <td>23.707592</td>\n",
       "      <td>99.983422</td>\n",
       "    </tr>\n",
       "    <tr>\n",
       "      <th>4</th>\n",
       "      <td>4.171997</td>\n",
       "      <td>-0.596558</td>\n",
       "      <td>23.628637</td>\n",
       "      <td>99.977902</td>\n",
       "    </tr>\n",
       "    <tr>\n",
       "      <th>...</th>\n",
       "      <td>...</td>\n",
       "      <td>...</td>\n",
       "      <td>...</td>\n",
       "      <td>...</td>\n",
       "    </tr>\n",
       "    <tr>\n",
       "      <th>952192</th>\n",
       "      <td>2.951639</td>\n",
       "      <td>0.000000</td>\n",
       "      <td>19.411720</td>\n",
       "      <td>26.814976</td>\n",
       "    </tr>\n",
       "    <tr>\n",
       "      <th>952193</th>\n",
       "      <td>2.954870</td>\n",
       "      <td>0.000000</td>\n",
       "      <td>19.253963</td>\n",
       "      <td>26.814976</td>\n",
       "    </tr>\n",
       "    <tr>\n",
       "      <th>952194</th>\n",
       "      <td>2.957982</td>\n",
       "      <td>0.000000</td>\n",
       "      <td>19.301291</td>\n",
       "      <td>26.814976</td>\n",
       "    </tr>\n",
       "    <tr>\n",
       "      <th>952195</th>\n",
       "      <td>2.960897</td>\n",
       "      <td>0.000000</td>\n",
       "      <td>19.372282</td>\n",
       "      <td>26.814976</td>\n",
       "    </tr>\n",
       "    <tr>\n",
       "      <th>952196</th>\n",
       "      <td>2.960897</td>\n",
       "      <td>0.000000</td>\n",
       "      <td>19.459049</td>\n",
       "      <td>26.814976</td>\n",
       "    </tr>\n",
       "  </tbody>\n",
       "</table>\n",
       "<p>10404442 rows × 4 columns</p>\n",
       "</div>"
      ],
      "text/plain": [
       "        Voltage(V)  Current (A)  Temperature (C)       SOC%\n",
       "0         4.181530    -0.592617        23.549685  99.999989\n",
       "1         4.174833    -0.597150        23.699697  99.994465\n",
       "2         4.173691    -0.595770        23.470728  99.988943\n",
       "3         4.172785    -0.596164        23.707592  99.983422\n",
       "4         4.171997    -0.596558        23.628637  99.977902\n",
       "...            ...          ...              ...        ...\n",
       "952192    2.951639     0.000000        19.411720  26.814976\n",
       "952193    2.954870     0.000000        19.253963  26.814976\n",
       "952194    2.957982     0.000000        19.301291  26.814976\n",
       "952195    2.960897     0.000000        19.372282  26.814976\n",
       "952196    2.960897     0.000000        19.459049  26.814976\n",
       "\n",
       "[10404442 rows x 4 columns]"
      ]
     },
     "execution_count": 6,
     "metadata": {},
     "output_type": "execute_result"
    }
   ],
   "source": [
    "df=df.dropna()\n",
    "df"
   ]
  },
  {
   "cell_type": "code",
   "execution_count": 7,
   "metadata": {
    "colab": {
     "base_uri": "https://localhost:8080/",
     "height": 344
    },
    "id": "L11iYzEhLazc",
    "outputId": "a69dac53-8acc-4958-8e08-bd980a16296b"
   },
   "outputs": [
    {
     "data": {
      "text/html": [
       "<div>\n",
       "<style scoped>\n",
       "    .dataframe tbody tr th:only-of-type {\n",
       "        vertical-align: middle;\n",
       "    }\n",
       "\n",
       "    .dataframe tbody tr th {\n",
       "        vertical-align: top;\n",
       "    }\n",
       "\n",
       "    .dataframe thead th {\n",
       "        text-align: right;\n",
       "    }\n",
       "</style>\n",
       "<table border=\"1\" class=\"dataframe\">\n",
       "  <thead>\n",
       "    <tr style=\"text-align: right;\">\n",
       "      <th></th>\n",
       "      <th>Voltage(V)</th>\n",
       "      <th>Current (A)</th>\n",
       "      <th>Temperature (C)</th>\n",
       "      <th>SOC%</th>\n",
       "    </tr>\n",
       "  </thead>\n",
       "  <tbody>\n",
       "    <tr>\n",
       "      <th>count</th>\n",
       "      <td>1.040444e+07</td>\n",
       "      <td>1.040444e+07</td>\n",
       "      <td>1.040444e+07</td>\n",
       "      <td>1.040444e+07</td>\n",
       "    </tr>\n",
       "    <tr>\n",
       "      <th>mean</th>\n",
       "      <td>3.647758e+00</td>\n",
       "      <td>-1.835622e+00</td>\n",
       "      <td>2.687299e+01</td>\n",
       "      <td>5.763467e+01</td>\n",
       "    </tr>\n",
       "    <tr>\n",
       "      <th>std</th>\n",
       "      <td>3.057403e-01</td>\n",
       "      <td>3.374173e+00</td>\n",
       "      <td>6.423043e+00</td>\n",
       "      <td>2.444498e+01</td>\n",
       "    </tr>\n",
       "    <tr>\n",
       "      <th>min</th>\n",
       "      <td>2.499885e+00</td>\n",
       "      <td>-2.162164e+01</td>\n",
       "      <td>1.446602e+01</td>\n",
       "      <td>-4.655625e+00</td>\n",
       "    </tr>\n",
       "    <tr>\n",
       "      <th>25%</th>\n",
       "      <td>3.513553e+00</td>\n",
       "      <td>-6.117824e-01</td>\n",
       "      <td>2.249713e+01</td>\n",
       "      <td>3.874107e+01</td>\n",
       "    </tr>\n",
       "    <tr>\n",
       "      <th>50%</th>\n",
       "      <td>3.694062e+00</td>\n",
       "      <td>-5.967358e-01</td>\n",
       "      <td>2.419503e+01</td>\n",
       "      <td>5.863420e+01</td>\n",
       "    </tr>\n",
       "    <tr>\n",
       "      <th>75%</th>\n",
       "      <td>3.856229e+00</td>\n",
       "      <td>-5.949639e-01</td>\n",
       "      <td>3.091583e+01</td>\n",
       "      <td>7.850611e+01</td>\n",
       "    </tr>\n",
       "    <tr>\n",
       "      <th>max</th>\n",
       "      <td>4.183539e+00</td>\n",
       "      <td>4.489444e+00</td>\n",
       "      <td>6.983727e+01</td>\n",
       "      <td>9.999999e+01</td>\n",
       "    </tr>\n",
       "  </tbody>\n",
       "</table>\n",
       "</div>"
      ],
      "text/plain": [
       "         Voltage(V)   Current (A)  Temperature (C)          SOC%\n",
       "count  1.040444e+07  1.040444e+07     1.040444e+07  1.040444e+07\n",
       "mean   3.647758e+00 -1.835622e+00     2.687299e+01  5.763467e+01\n",
       "std    3.057403e-01  3.374173e+00     6.423043e+00  2.444498e+01\n",
       "min    2.499885e+00 -2.162164e+01     1.446602e+01 -4.655625e+00\n",
       "25%    3.513553e+00 -6.117824e-01     2.249713e+01  3.874107e+01\n",
       "50%    3.694062e+00 -5.967358e-01     2.419503e+01  5.863420e+01\n",
       "75%    3.856229e+00 -5.949639e-01     3.091583e+01  7.850611e+01\n",
       "max    4.183539e+00  4.489444e+00     6.983727e+01  9.999999e+01"
      ]
     },
     "execution_count": 7,
     "metadata": {},
     "output_type": "execute_result"
    }
   ],
   "source": [
    "df.describe()"
   ]
  },
  {
   "cell_type": "markdown",
   "metadata": {
    "id": "jbgSCxI_L-gz"
   },
   "source": [
    "### **Data Visualization**\n",
    "\n",
    "In this process, we are going to produce three different types of charts including heatmap, scatter plot, and a distribution plot.\n",
    "\n",
    "(i) **Heatmap**:\n",
    "Heatmaps are very useful to find relations between two variables in a dataset. Heatmap can be easily produced using the ‘heatmap’ function provided by the seaborn package in python."
   ]
  },
  {
   "cell_type": "code",
   "execution_count": 5,
   "metadata": {
    "colab": {
     "base_uri": "https://localhost:8080/",
     "height": 532
    },
    "id": "b-qQg-CIMPhT",
    "outputId": "558f2d96-c991-4931-940b-b1a957a0af87",
    "scrolled": true
   },
   "outputs": [
    {
     "data": {
      "image/png": "[encoded data removed]",
      "text/plain": [
       "<Figure size 1440x720 with 2 Axes>"
      ]
     },
     "metadata": {},
     "output_type": "display_data"
    }
   ],
   "source": [
    "import seaborn as sb # visualization\n",
    "import matplotlib.pyplot as plt # visualization\n",
    "\n",
    "sb.heatmap(df.corr(), annot = True, cmap = 'magma')\n",
    "\n",
    "plt.savefig('heatmap.png')\n",
    "plt.show()"
   ]
  },
  {
   "cell_type": "code",
   "execution_count": null,
   "metadata": {
    "id": "MCiR8MFoAXEL"
   },
   "outputs": [],
   "source": []
  },
  {
   "cell_type": "markdown",
   "metadata": {
    "id": "wjtkx-K2OEYu"
   },
   "source": [
    "## **Feature Selection & Data Split**\n",
    " In this process we are going to define the ‘X’ variable (independent variable) and the ‘Y’ variable (dependent variable). After defining the variables, we will use them to split the data into a train set and test set. Splitting the data can be done using the ‘train_test_split’ function provided by scikit-learn in python."
   ]
  },
  {
   "cell_type": "code",
   "execution_count": 8,
   "metadata": {
    "id": "mIC5zqkaK3a4"
   },
   "outputs": [],
   "source": [
    "features = ['Voltage(V)','Current (A)', 'Temperature (C)']\n",
    "X = df.loc[:, features]\n",
    "y = df.loc[:, ['SOC%']]"
   ]
  },
  {
   "cell_type": "code",
   "execution_count": 9,
   "metadata": {
    "id": "hcKCMGbCLEUI"
   },
   "outputs": [],
   "source": [
    "# \n",
    "X_train, X_test, y_train, y_test = train_test_split(\n",
    "    X, y, test_size=0.2, random_state=1)\n",
    "X_train, X_val, y_train, y_val = train_test_split(\n",
    "    X_train, y_train, test_size=0.25, random_state=1)"
   ]
  },
  {
   "cell_type": "code",
   "execution_count": 10,
   "metadata": {
    "colab": {
     "base_uri": "https://localhost:8080/",
     "height": 206
    },
    "id": "KsPK_jOq271U",
    "outputId": "6469dc49-8b00-470b-cbe3-01cbd7c23d9d"
   },
   "outputs": [
    {
     "data": {
      "text/html": [
       "<div>\n",
       "<style scoped>\n",
       "    .dataframe tbody tr th:only-of-type {\n",
       "        vertical-align: middle;\n",
       "    }\n",
       "\n",
       "    .dataframe tbody tr th {\n",
       "        vertical-align: top;\n",
       "    }\n",
       "\n",
       "    .dataframe thead th {\n",
       "        text-align: right;\n",
       "    }\n",
       "</style>\n",
       "<table border=\"1\" class=\"dataframe\">\n",
       "  <thead>\n",
       "    <tr style=\"text-align: right;\">\n",
       "      <th></th>\n",
       "      <th>SOC%</th>\n",
       "    </tr>\n",
       "  </thead>\n",
       "  <tbody>\n",
       "    <tr>\n",
       "      <th>807046</th>\n",
       "      <td>17.071958</td>\n",
       "    </tr>\n",
       "    <tr>\n",
       "      <th>414622</th>\n",
       "      <td>69.215793</td>\n",
       "    </tr>\n",
       "    <tr>\n",
       "      <th>481083</th>\n",
       "      <td>17.986776</td>\n",
       "    </tr>\n",
       "    <tr>\n",
       "      <th>417956</th>\n",
       "      <td>32.453617</td>\n",
       "    </tr>\n",
       "    <tr>\n",
       "      <th>370240</th>\n",
       "      <td>70.269626</td>\n",
       "    </tr>\n",
       "  </tbody>\n",
       "</table>\n",
       "</div>"
      ],
      "text/plain": [
       "             SOC%\n",
       "807046  17.071958\n",
       "414622  69.215793\n",
       "481083  17.986776\n",
       "417956  32.453617\n",
       "370240  70.269626"
      ]
     },
     "execution_count": 10,
     "metadata": {},
     "output_type": "execute_result"
    }
   ],
   "source": [
    "y_val.head()"
   ]
  },
  {
   "cell_type": "markdown",
   "metadata": {
    "id": "dB0--OQhOUUh"
   },
   "source": [
    "## **Modeling**\n",
    "In this process, we are going to build and train five different types of linear regression models which are the OLS model, Ridge regression model, Lasso regression model, Bayesian regression model, Elastic Net regression model. For all the models, we are going to use the pre-built algorithms provided by the scikit-learn package in python. And the process for all the models are the same, first, we define a variable to store the model algorithm, next, we fit the train set variables into the model, and finally make some predictions in the test set."
   ]
  },
  {
   "cell_type": "markdown",
   "metadata": {
    "id": "G1eFszbfHicV"
   },
   "source": [
    "Training the Model"
   ]
  },
  {
   "cell_type": "code",
   "execution_count": 15,
   "metadata": {
    "id": "LxMs-Q6VN-IQ"
   },
   "outputs": [],
   "source": [
    "# MODELING\n",
    "\n",
    "# 1. OLS\n",
    "\n",
    "ols = LinearRegression()\n",
    "ols.fit(X_train, y_train)\n",
    "ols_yhat_test = ols.predict(X_test)\n",
    "ols_yhat_val = ols.predict(X_val)\n"
   ]
  },
  {
   "cell_type": "markdown",
   "metadata": {
    "id": "C--Lq4ujOgNi"
   },
   "source": [
    "Using the algorithms provided by scikit-learn, we have successfully built five different linear regression models. Now, to know which model is more appropriate for our data, we can evaluate each of the models using the evaluation metrics and come to a conclusion."
   ]
  },
  {
   "cell_type": "markdown",
   "metadata": {
    "id": "jSMMxMQuOoUu"
   },
   "source": [
    "## **Model Evaluation**\n",
    "To evaluate our model we are going to use the ‘explained_variance_score’ metric and the ‘r2_score’ metric functions which are provided by the scikit-learn package in python.\n",
    "\n",
    "When it comes to the ‘explained_variance_score’ metric, the score should not below 0.60 or 60%. If it is the case, then our built model is not sufficient for our data to solve the given case. So, the ideal score of the ‘explained_variance_score’ should be between 0.60 and 1.0.\n",
    "\n",
    "Our next evaluation metric is the ‘r2_score’ (R-squared) metric. What is R-squared? R-squared is a measurement of how well the dependent variable explains the variance of the independent variable. It is the most popular evaluation metric for regression models. The ideal ‘r2_score’ of a build should be more than 0.70 (at least > 0.60).\n",
    "\n",
    "We are now going to compare the metric scores of each model and choose which model is more suitable for the given dataset."
   ]
  },
  {
   "cell_type": "code",
   "execution_count": 16,
   "metadata": {
    "colab": {
     "base_uri": "https://localhost:8080/"
    },
    "id": "FaabbrKYOMpi",
    "outputId": "11968089-e102-486e-85fd-b61e1bde3ee3"
   },
   "outputs": [
    {
     "name": "stdout",
     "output_type": "stream",
     "text": [
      "\u001b[1mEXPLAINED VARIANCE SCORE:\u001b[0m\n",
      "-------------------------------------------------------------------------------\n",
      "\u001b[1mExplained Variance Score of OLS model is 0.8903049312035369\u001b[0m\n",
      "-------------------------------------------------------------------------------\n"
     ]
    }
   ],
   "source": [
    "# 1. Explained Variance Score\n",
    "\n",
    "print(cl('EXPLAINED VARIANCE SCORE:', attrs = ['bold']))\n",
    "print('-------------------------------------------------------------------------------')\n",
    "print(cl('Explained Variance Score of OLS model is {}'.format(evs(y_test, ols_yhat_test)), attrs = ['bold']))\n",
    "print('-------------------------------------------------------------------------------')"
   ]
  },
  {
   "cell_type": "code",
   "execution_count": 17,
   "metadata": {
    "colab": {
     "base_uri": "https://localhost:8080/"
    },
    "id": "vn9yId5COm1p",
    "outputId": "961b31c1-97d3-47aa-fdce-60c3920a4237"
   },
   "outputs": [
    {
     "name": "stdout",
     "output_type": "stream",
     "text": [
      "\u001b[1mR-SQUARED:\u001b[0m\n",
      "-------------------------------------------------------------------------------\n",
      "\u001b[1mR-Squared of OLS model is 0.8903048935935215\u001b[0m\n",
      "-------------------------------------------------------------------------------\n"
     ]
    }
   ],
   "source": [
    "# 2. R-squared\n",
    "\n",
    "print(cl('R-SQUARED:', attrs = ['bold']))\n",
    "print('-------------------------------------------------------------------------------')\n",
    "print(cl('R-Squared of OLS model is {}'.format(r2(y_test, ols_yhat_test)), attrs = ['bold']))\n",
    "print('-------------------------------------------------------------------------------')\n"
   ]
  },
  {
   "cell_type": "markdown",
   "metadata": {
    "id": "qHVGgpzpTFd1"
   },
   "source": [
    "With Validation Data"
   ]
  },
  {
   "cell_type": "code",
   "execution_count": 18,
   "metadata": {
    "colab": {
     "base_uri": "https://localhost:8080/"
    },
    "id": "pW93VRrLTFBs",
    "outputId": "b778fa2c-c91d-4940-8e75-24f5daac66b5"
   },
   "outputs": [
    {
     "name": "stdout",
     "output_type": "stream",
     "text": [
      "\u001b[1mEXPLAINED VARIANCE SCORE:\u001b[0m\n",
      "-------------------------------------------------------------------------------\n",
      "\u001b[1mExplained Variance Score of OLS model is 0.8903037473347574\u001b[0m\n",
      "-------------------------------------------------------------------------------\n"
     ]
    }
   ],
   "source": [
    "# 1. Explained Variance Score\n",
    "\n",
    "print(cl('EXPLAINED VARIANCE SCORE:', attrs = ['bold']))\n",
    "print('-------------------------------------------------------------------------------')\n",
    "print(cl('Explained Variance Score of OLS model is {}'.format(evs(y_val, ols_yhat_val)), attrs = ['bold']))\n",
    "print('-------------------------------------------------------------------------------')\n"
   ]
  },
  {
   "cell_type": "code",
   "execution_count": 19,
   "metadata": {
    "colab": {
     "base_uri": "https://localhost:8080/"
    },
    "id": "PQecemGvTJZK",
    "outputId": "e76985d3-8cf6-4aaa-db00-030b961b1d27"
   },
   "outputs": [
    {
     "name": "stdout",
     "output_type": "stream",
     "text": [
      "\u001b[1mR-SQUARED:\u001b[0m\n",
      "-------------------------------------------------------------------------------\n",
      "\u001b[1mR-Squared of OLS model is 0.8903037133617391\u001b[0m\n",
      "-------------------------------------------------------------------------------\n"
     ]
    }
   ],
   "source": [
    "# 2. R-squared\n",
    "\n",
    "print(cl('R-SQUARED:', attrs = ['bold']))\n",
    "print('-------------------------------------------------------------------------------')\n",
    "print(cl('R-Squared of OLS model is {}'.format(r2(y_val, ols_yhat_val)), attrs = ['bold']))\n",
    "print('-------------------------------------------------------------------------------')"
   ]
  },
  {
   "cell_type": "markdown",
   "metadata": {
    "id": "j5Cdjj6lybAb"
   },
   "source": []
  },
  {
   "cell_type": "code",
   "execution_count": 20,
   "metadata": {
    "colab": {
     "base_uri": "https://localhost:8080/"
    },
    "id": "yPnnBH9Q3jQn",
    "outputId": "875cbbae-4d63-439a-a2e8-deb1aab4f6c5"
   },
   "outputs": [
    {
     "data": {
      "text/plain": [
       "array([[ 3.6397562, -4.4052646, 28.975996 ]])"
      ]
     },
     "execution_count": 20,
     "metadata": {},
     "output_type": "execute_result"
    }
   ],
   "source": [
    "X_test.iloc[0].values.reshape(1,-1)"
   ]
  },
  {
   "cell_type": "code",
   "execution_count": 21,
   "metadata": {
    "colab": {
     "base_uri": "https://localhost:8080/"
    },
    "id": "xZtpDvn9T5FA",
    "outputId": "3b67f1be-b20e-4090-de61-a12ba13ae094"
   },
   "outputs": [
    {
     "name": "stderr",
     "output_type": "stream",
     "text": [
      "C:\\Users\\hp\\AppData\\Local\\Programs\\Python\\Python310\\lib\\site-packages\\sklearn\\base.py:420: UserWarning: X does not have valid feature names, but LinearRegression was fitted with feature names\n",
      "  warnings.warn(\n"
     ]
    },
    {
     "data": {
      "text/plain": [
       "array([[64.40204503]])"
      ]
     },
     "execution_count": 21,
     "metadata": {},
     "output_type": "execute_result"
    }
   ],
   "source": [
    "ols.predict(X_test.iloc[0].values.reshape(1,-1) )"
   ]
  },
  {
   "cell_type": "code",
   "execution_count": 22,
   "metadata": {
    "colab": {
     "base_uri": "https://localhost:8080/"
    },
    "id": "KgR_t6na4I3f",
    "outputId": "c2adcb13-864d-4fd5-98fa-d080cb074454"
   },
   "outputs": [
    {
     "data": {
      "text/plain": [
       "SOC%    60.360871\n",
       "Name: 430862, dtype: float64"
      ]
     },
     "execution_count": 22,
     "metadata": {},
     "output_type": "execute_result"
    }
   ],
   "source": [
    "y_test.iloc[0]"
   ]
  },
  {
   "cell_type": "code",
   "execution_count": null,
   "metadata": {},
   "outputs": [],
   "source": []
  }
 ],
 "metadata": {
  "colab": {
   "provenance": []
  },
  "kernelspec": {
   "display_name": "Python 3 (ipykernel)",
   "language": "python",
   "name": "python3"
  },
  "language_info": {
   "codemirror_mode": {
    "name": "ipython",
    "version": 3
   },
   "file_extension": ".py",
   "mimetype": "text/x-python",
   "name": "python",
   "nbconvert_exporter": "python",
   "pygments_lexer": "ipython3",
   "version": "3.10.2"
  }
 },
 "nbformat": 4,
 "nbformat_minor": 1
}
