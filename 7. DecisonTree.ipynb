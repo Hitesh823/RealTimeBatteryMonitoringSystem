{
 "cells": [
  {
   "cell_type": "markdown",
   "metadata": {
    "colab_type": "text",
    "id": "view-in-github"
   },
   "source": [
    "<a href=\"https://colab.research.google.com/github/punjabinuclei/RealTimeBatteryMonitoringSystem/blob/main/7.%20DecisonTree.ipynb\" target=\"_parent\"><img src=\"https://colab.research.google.com/assets/colab-badge.svg\" alt=\"Open In Colab\"/></a>"
   ]
  },
  {
   "cell_type": "markdown",
   "metadata": {
    "id": "DgR9c-YGlqso"
   },
   "source": [
    "#Decision Tree Regression\n",
    "\n",
    "Decision trees can also be applied to regression problems, using the DecisionTreeRegressor class.\n",
    "\n",
    "\n",
    "*   Decision trees have an advantage that it is easy to understand, lesser data cleaning is required, non-linearity does not affect the model’s performance and the number of hyper-parameters to be tuned is almost null.\n",
    "\n",
    "\n"
   ]
  },
  {
   "cell_type": "code",
   "execution_count": 1,
   "metadata": {
    "id": "Lfvtwa0tW0Ij"
   },
   "outputs": [],
   "source": [
    "import pandas as pd # data processing\n",
    "import numpy as np # working with arrays\n",
    "from termcolor import colored as cl # text customization\n",
    "\n",
    "# Decision trees can also be applied to regression problems, using the DecisionTreeRegressor class.\n",
    "from sklearn import tree\n",
    "from sklearn.model_selection import train_test_split # data split\n",
    "\n",
    "from sklearn.metrics import explained_variance_score as evs # evaluation metric\n",
    "from sklearn.metrics import r2_score as r2 # evaluation metric\n",
    "\n",
    "from sklearn import preprocessing # preprocessData\n"
   ]
  },
  {
   "cell_type": "markdown",
   "metadata": {
    "id": "0hQoowZkn_cb"
   },
   "source": [
    "# Loading our Dataset\n",
    "Using the ‘read_csv’ function provided by the Pandas package, we can import the data into our python environment. After importing the data, we can use the ‘head’ function to get a glimpse of our dataset."
   ]
  },
  {
   "cell_type": "code",
   "execution_count": 3,
   "metadata": {
    "colab": {
     "base_uri": "https://localhost:8080/",
     "height": 423
    },
    "id": "mZvfGFGxZMPP",
    "outputId": "64fff47a-3aa7-44ff-d3cf-76c8d586fa4e"
   },
   "outputs": [
    {
     "data": {
      "text/html": [
       "<div>\n",
       "<style scoped>\n",
       "    .dataframe tbody tr th:only-of-type {\n",
       "        vertical-align: middle;\n",
       "    }\n",
       "\n",
       "    .dataframe tbody tr th {\n",
       "        vertical-align: top;\n",
       "    }\n",
       "\n",
       "    .dataframe thead th {\n",
       "        text-align: right;\n",
       "    }\n",
       "</style>\n",
       "<table border=\"1\" class=\"dataframe\">\n",
       "  <thead>\n",
       "    <tr style=\"text-align: right;\">\n",
       "      <th></th>\n",
       "      <th>Voltage(V)</th>\n",
       "      <th>Current (A)</th>\n",
       "      <th>Temperature (C)</th>\n",
       "      <th>SOC%</th>\n",
       "    </tr>\n",
       "  </thead>\n",
       "  <tbody>\n",
       "    <tr>\n",
       "      <th>0</th>\n",
       "      <td>4.181530</td>\n",
       "      <td>-0.592617</td>\n",
       "      <td>23.549685</td>\n",
       "      <td>99.999989</td>\n",
       "    </tr>\n",
       "    <tr>\n",
       "      <th>1</th>\n",
       "      <td>4.174833</td>\n",
       "      <td>-0.597150</td>\n",
       "      <td>23.699697</td>\n",
       "      <td>99.994465</td>\n",
       "    </tr>\n",
       "    <tr>\n",
       "      <th>2</th>\n",
       "      <td>4.173691</td>\n",
       "      <td>-0.595770</td>\n",
       "      <td>23.470728</td>\n",
       "      <td>99.988943</td>\n",
       "    </tr>\n",
       "    <tr>\n",
       "      <th>3</th>\n",
       "      <td>4.172785</td>\n",
       "      <td>-0.596164</td>\n",
       "      <td>23.707592</td>\n",
       "      <td>99.983422</td>\n",
       "    </tr>\n",
       "    <tr>\n",
       "      <th>4</th>\n",
       "      <td>4.171997</td>\n",
       "      <td>-0.596558</td>\n",
       "      <td>23.628637</td>\n",
       "      <td>99.977902</td>\n",
       "    </tr>\n",
       "    <tr>\n",
       "      <th>...</th>\n",
       "      <td>...</td>\n",
       "      <td>...</td>\n",
       "      <td>...</td>\n",
       "      <td>...</td>\n",
       "    </tr>\n",
       "    <tr>\n",
       "      <th>952192</th>\n",
       "      <td>2.951639</td>\n",
       "      <td>0.000000</td>\n",
       "      <td>19.411720</td>\n",
       "      <td>26.814976</td>\n",
       "    </tr>\n",
       "    <tr>\n",
       "      <th>952193</th>\n",
       "      <td>2.954870</td>\n",
       "      <td>0.000000</td>\n",
       "      <td>19.253963</td>\n",
       "      <td>26.814976</td>\n",
       "    </tr>\n",
       "    <tr>\n",
       "      <th>952194</th>\n",
       "      <td>2.957982</td>\n",
       "      <td>0.000000</td>\n",
       "      <td>19.301291</td>\n",
       "      <td>26.814976</td>\n",
       "    </tr>\n",
       "    <tr>\n",
       "      <th>952195</th>\n",
       "      <td>2.960897</td>\n",
       "      <td>0.000000</td>\n",
       "      <td>19.372282</td>\n",
       "      <td>26.814976</td>\n",
       "    </tr>\n",
       "    <tr>\n",
       "      <th>952196</th>\n",
       "      <td>2.960897</td>\n",
       "      <td>0.000000</td>\n",
       "      <td>19.459049</td>\n",
       "      <td>26.814976</td>\n",
       "    </tr>\n",
       "  </tbody>\n",
       "</table>\n",
       "<p>10404442 rows × 4 columns</p>\n",
       "</div>"
      ],
      "text/plain": [
       "        Voltage(V)  Current (A)  Temperature (C)       SOC%\n",
       "0         4.181530    -0.592617        23.549685  99.999989\n",
       "1         4.174833    -0.597150        23.699697  99.994465\n",
       "2         4.173691    -0.595770        23.470728  99.988943\n",
       "3         4.172785    -0.596164        23.707592  99.983422\n",
       "4         4.171997    -0.596558        23.628637  99.977902\n",
       "...            ...          ...              ...        ...\n",
       "952192    2.951639     0.000000        19.411720  26.814976\n",
       "952193    2.954870     0.000000        19.253963  26.814976\n",
       "952194    2.957982     0.000000        19.301291  26.814976\n",
       "952195    2.960897     0.000000        19.372282  26.814976\n",
       "952196    2.960897     0.000000        19.459049  26.814976\n",
       "\n",
       "[10404442 rows x 4 columns]"
      ]
     },
     "execution_count": 3,
     "metadata": {},
     "output_type": "execute_result"
    }
   ],
   "source": [
    "# list of csv files to merge\n",
    "files = ['File1.csv', 'File2.csv', 'File3.csv', 'File4.csv', 'File5.csv', 'File6.csv', 'File7.csv', 'File8.csv', 'File9.csv', 'File10.csv', 'File11.csv', 'File12.csv','File13.csv','File14.csv','File15.csv','File16.csv','File17.csv','File18.csv','File19.csv','File20.csv','File21.csv']\n",
    "\n",
    "# read each file into a dataframe\n",
    "dfs = [pd.read_csv(file) for file in files]\n",
    "\n",
    "# merge all dataframes into one\n",
    "merged_df = pd.concat(dfs)\n",
    "\n",
    "df=merged_df\n",
    "df=df.drop(columns=['QDischarge_mA_h'])\n",
    "df=df.dropna()\n",
    "df"
   ]
  },
  {
   "cell_type": "code",
   "execution_count": 4,
   "metadata": {
    "id": "tth1DPyRXNC7"
   },
   "outputs": [],
   "source": [
    "features = ['Voltage(V)','Current (A)', 'Temperature (C)']\n",
    "X = df.loc[:, features]\n",
    "y = df.loc[:, ['SOC%']]"
   ]
  },
  {
   "cell_type": "markdown",
   "metadata": {
    "id": "MpsT4wPzpJBQ"
   },
   "source": [
    "The data should ideally be divided into 3 sets – namely, train, test, and validation/dev sets.\n",
    "\n",
    "- **Train Set:** The train set would contain the data which will be fed into the model. In simple terms, our model would learn from this data. For instance, a Regression model would use the examples in this data to find gradients in order to reduce the cost function. Then these gradients will be used to reduce the cost and predict data effectively.\n",
    "- **Dev Set:** The development set is used to validate the trained model. This is the most important setting as it will form the basis of our model evaluation. If the difference between error on the training set and error on the dev set is huge, it means the model as high variance and hence, a case of over-fitting.\n",
    "- **Test Set:** The test set contains the data on which we test the trained and validated model. It tells us how efficient our overall model is and how likely is it going to predict something which does not make sense. There are a plethora of evaluation metrics (like precision, recall, accuracy, etc.) which can be used to measure the performance of our model."
   ]
  },
  {
   "cell_type": "code",
   "execution_count": 5,
   "metadata": {
    "id": "c0U6T8VCXQaj"
   },
   "outputs": [],
   "source": [
    "X_train, X_test, y_train, y_test = train_test_split(\n",
    "    X, y, test_size=0.2, random_state=1)\n",
    "X_train, X_val, y_train, y_val = train_test_split(\n",
    "    X_train, y_train, test_size=0.25, random_state=1)\n"
   ]
  },
  {
   "cell_type": "markdown",
   "metadata": {
    "id": "_fDEn9atny4q"
   },
   "source": [
    "# Model Training\n",
    "**Decision trees** can also be applied to regression problems, using the DecisionTreeRegressor class.\n"
   ]
  },
  {
   "cell_type": "code",
   "execution_count": 6,
   "metadata": {
    "id": "VlHI8dzgZg1I"
   },
   "outputs": [],
   "source": [
    "\n",
    "clf = tree.DecisionTreeRegressor()\n",
    "clf = clf.fit(X_train, y_train)\n",
    "clf_yhat_test = clf.predict(X_test)\n",
    "clf_yhat_val=clf.predict(X_val)\n"
   ]
  },
  {
   "cell_type": "markdown",
   "metadata": {
    "id": "351rY-F9p6j1"
   },
   "source": [
    "**Model Evaluation**\n",
    "\n",
    "To evaluate our model we are going to use the ‘explained_variance_score’ metric and the ‘r2_score’ metric functions which are provided by the scikit-learn package in python.\n",
    "\n",
    "When it comes to the ‘explained_variance_score’ metric, the score should not below 0.60 or 60%. If it is the case, then our built model is not sufficient for our data to solve the given case. So, the ideal score of the ‘explained_variance_score’ should be between 0.60 and 1.0.\n",
    "\n",
    "Our next evaluation metric is the ‘r2_score’ (R-squared) metric. What is R-squared? R-squared is a measurement of how well the dependent variable explains the variance of the independent variable. It is the most popular evaluation metric for regression models. The ideal ‘r2_score’ of a build should be more than 0.70 (at least > 0.60).\n",
    "\n",
    "We are now going to compare the metric scores of each model and choose which model is more suitable for the given dataset."
   ]
  },
  {
   "cell_type": "markdown",
   "metadata": {
    "id": "vKR6iziaqpEr"
   },
   "source": [
    "# Evaluating Model with Test Data"
   ]
  },
  {
   "cell_type": "code",
   "execution_count": 7,
   "metadata": {
    "colab": {
     "base_uri": "https://localhost:8080/"
    },
    "id": "Q8Us1mFsZaQk",
    "outputId": "7aaaac5c-8e6a-4705-dd6d-12ff852ca264"
   },
   "outputs": [
    {
     "name": "stdout",
     "output_type": "stream",
     "text": [
      "\u001b[1mEXPLAINED VARIANCE SCORE:\u001b[0m\n",
      "-------------------------------------------------------------------------------\n",
      "\u001b[1mExplained Variance Score of SVM model is 0.9768925501065459\u001b[0m\n"
     ]
    }
   ],
   "source": [
    "print(cl('EXPLAINED VARIANCE SCORE:', attrs = ['bold']))\n",
    "print('-------------------------------------------------------------------------------')\n",
    "print(cl('Explained Variance Score of SVM model is {}'.format(evs(y_test, clf_yhat_test)), attrs = ['bold']))"
   ]
  },
  {
   "cell_type": "code",
   "execution_count": 8,
   "metadata": {
    "colab": {
     "base_uri": "https://localhost:8080/"
    },
    "id": "-DxSduO6ZgD4",
    "outputId": "b6546a6a-2df1-4373-d6e5-68491c9e5867"
   },
   "outputs": [
    {
     "name": "stdout",
     "output_type": "stream",
     "text": [
      "\u001b[1mR-SQUARED:\u001b[0m\n",
      "-------------------------------------------------------------------------------\n",
      "\u001b[1mR-Squared of SVM model is 0.9768925102282883\u001b[0m\n"
     ]
    }
   ],
   "source": [
    "print(cl('R-SQUARED:', attrs = ['bold']))\n",
    "print('-------------------------------------------------------------------------------')\n",
    "print(cl('R-Squared of SVM model is {}'.format(r2(y_test, clf_yhat_test)), attrs = ['bold']))"
   ]
  },
  {
   "cell_type": "markdown",
   "metadata": {
    "id": "i8pdmAd0qui2"
   },
   "source": [
    "## Evaluating Model with Validation Data"
   ]
  },
  {
   "cell_type": "code",
   "execution_count": 9,
   "metadata": {
    "colab": {
     "base_uri": "https://localhost:8080/"
    },
    "id": "xvtdbGU0Zf8v",
    "outputId": "13555244-709d-4c96-d05a-249a4217f16f"
   },
   "outputs": [
    {
     "name": "stdout",
     "output_type": "stream",
     "text": [
      "\u001b[1mEXPLAINED VARIANCE SCORE:\u001b[0m\n",
      "-------------------------------------------------------------------------------\n",
      "\u001b[1mExplained Variance Score of SVM model is 0.9768957819473763\u001b[0m\n"
     ]
    }
   ],
   "source": [
    "print(cl('EXPLAINED VARIANCE SCORE:', attrs = ['bold']))\n",
    "print('-------------------------------------------------------------------------------')\n",
    "print(cl('Explained Variance Score of SVM model is {}'.format(evs(y_val, clf_yhat_val)), attrs = ['bold']))"
   ]
  },
  {
   "cell_type": "code",
   "execution_count": 56,
   "metadata": {
    "colab": {
     "base_uri": "https://localhost:8080/"
    },
    "id": "Zy13GrElmyWc",
    "outputId": "d8687b6c-1e29-4aeb-b6be-c18f86f9bd25"
   },
   "outputs": [
    {
     "name": "stdout",
     "output_type": "stream",
     "text": [
      "R-SQUARED:\n",
      "-------------------------------------------------------------------------------\n",
      "R-Squared of SVM model is 0.9999983803694567\n"
     ]
    }
   ],
   "source": [
    "print(cl('R-SQUARED:', attrs = ['bold']))\n",
    "print('-------------------------------------------------------------------------------')\n",
    "print(cl('R-Squared of SVM model is {}'.format(r2(y_val, clf_yhat_val)), attrs = ['bold']))"
   ]
  },
  {
   "cell_type": "code",
   "execution_count": 61,
   "metadata": {
    "colab": {
     "base_uri": "https://localhost:8080/"
    },
    "id": "mbOvYiEfv-gx",
    "outputId": "092f8004-ff9b-4018-fb08-f915ba426d95"
   },
   "outputs": [
    {
     "data": {
      "text/plain": [
       "array([[ 3.90803000e+00, -2.89889000e+00,  9.04363000e+00,\n",
       "         2.41436000e+00,  5.08306134e+00, -1.13837000e-04,\n",
       "         2.65960250e+00]])"
      ]
     },
     "execution_count": 61,
     "metadata": {},
     "output_type": "execute_result"
    }
   ],
   "source": [
    "X_test.iloc[0].values.reshape(1,-1)"
   ]
  },
  {
   "cell_type": "code",
   "execution_count": 63,
   "metadata": {
    "colab": {
     "base_uri": "https://localhost:8080/"
    },
    "id": "Bn9ibnRh-ioO",
    "outputId": "1dcf52cb-377a-46a0-c712-e0ac2fad0172"
   },
   "outputs": [
    {
     "name": "stderr",
     "output_type": "stream",
     "text": [
      "/usr/local/lib/python3.8/dist-packages/sklearn/base.py:450: UserWarning: X does not have valid feature names, but DecisionTreeRegressor was fitted with feature names\n",
      "  warnings.warn(\n"
     ]
    },
    {
     "data": {
      "text/plain": [
       "array([80.47066667])"
      ]
     },
     "execution_count": 63,
     "metadata": {},
     "output_type": "execute_result"
    }
   ],
   "source": [
    "clf.predict(X_test.iloc[0].values.reshape(1,-1) )"
   ]
  },
  {
   "cell_type": "code",
   "execution_count": 65,
   "metadata": {
    "colab": {
     "base_uri": "https://localhost:8080/"
    },
    "id": "TuzKKlql-k51",
    "outputId": "b7b0889f-7b48-45b5-a118-16021cf32c0d"
   },
   "outputs": [
    {
     "data": {
      "text/plain": [
       "StateofCharge    80.478667\n",
       "Name: 12088, dtype: float64"
      ]
     },
     "execution_count": 65,
     "metadata": {},
     "output_type": "execute_result"
    }
   ],
   "source": [
    "y_test.iloc[0]"
   ]
  },
  {
   "cell_type": "code",
   "execution_count": null,
   "metadata": {
    "id": "3XbAqve4-reZ"
   },
   "outputs": [],
   "source": []
  }
 ],
 "metadata": {
  "colab": {
   "authorship_tag": "ABX9TyOt7yuFVFR5O+r6Df0qakos",
   "include_colab_link": true,
   "provenance": []
  },
  "kernelspec": {
   "display_name": "Python 3 (ipykernel)",
   "language": "python",
   "name": "python3"
  },
  "language_info": {
   "codemirror_mode": {
    "name": "ipython",
    "version": 3
   },
   "file_extension": ".py",
   "mimetype": "text/x-python",
   "name": "python",
   "nbconvert_exporter": "python",
   "pygments_lexer": "ipython3",
   "version": "3.10.2"
  }
 },
 "nbformat": 4,
 "nbformat_minor": 1
}
