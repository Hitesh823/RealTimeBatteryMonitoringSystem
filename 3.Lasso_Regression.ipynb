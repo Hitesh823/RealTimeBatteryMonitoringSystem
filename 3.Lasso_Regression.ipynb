{
  "cells": [
    {
      "cell_type": "markdown",
      "metadata": {
        "id": "view-in-github",
        "colab_type": "text"
      },
      "source": [
        "<a href=\"https://colab.research.google.com/github/punjabinuclei/RealTimeBatteryMonitoringSystem/blob/main/2.Lasso_Regression.ipynb\" target=\"_parent\"><img src=\"https://colab.research.google.com/assets/colab-badge.svg\" alt=\"Open In Colab\"/></a>"
      ]
    },
    {
      "cell_type": "markdown",
      "source": [
        "\n",
        "# **State of Charge Estimation using Machine Learning** "
      ],
      "metadata": {
        "id": "z2zMZKzEJ68x"
      }
    },
    {
      "cell_type": "markdown",
      "source": [
        "Why linear regression? Linear regression is an algorithm used to predict values that are continuous in nature.\n",
        "\n",
        "To predict the state of charget we are going to use the following linear regression algorithms: Ordinal Least Square (OLS) algorithm, Ridge regression algorithm, Lasso regression algorithm, Bayesian regression algorithm, and lastly Elastic Net regression algorithm."
      ],
      "metadata": {
        "id": "UvXF-AK9KnkL"
      }
    },
    {
      "cell_type": "markdown",
      "metadata": {
        "id": "eeSsJq8fHicJ"
      },
      "source": [
        "# Importing Important Libraries\n",
        "\n",
        "\n"
      ]
    },
    {
      "cell_type": "markdown",
      "source": [
        "Our primary packages for this project are going to be pandas for data processing, NumPy to work with arrays, matplotlib & seaborn for data visualizations, and finally scikit-learn for building an evaluating our ML model. Let’s import all the required packages into our python environment."
      ],
      "metadata": {
        "id": "QSzILxCuLIST"
      }
    },
    {
      "cell_type": "code",
      "execution_count": 41,
      "metadata": {
        "id": "BNnWJTZgHicS"
      },
      "outputs": [],
      "source": [
        "\n",
        "import pandas as pd # data processing\n",
        "import numpy as np # working with arrays\n",
        "import matplotlib.pyplot as plt # visualization\n",
        "import seaborn as sb # visualization\n",
        "from termcolor import colored as cl # text customization\n",
        "from sklearn.model_selection import train_test_split # data split\n",
        "\n",
        "from sklearn.linear_model import Lasso # Lasso algorithm\n",
        "\n",
        "from sklearn.metrics import explained_variance_score as evs # evaluation metric\n",
        "from sklearn.metrics import r2_score as r2 # evaluation metric\n",
        "\n",
        "sb.set_style('whitegrid') # plot style\n",
        "plt.rcParams['figure.figsize'] = (20, 10)\n",
        "from sklearn import preprocessing # preprocessData"
      ]
    },
    {
      "cell_type": "markdown",
      "source": [
        "# Loading our Dataset"
      ],
      "metadata": {
        "id": "VEFE9czVIyhR"
      }
    },
    {
      "cell_type": "markdown",
      "source": [
        "Using the ‘read_csv’ function provided by the Pandas package, we can import the data into our python environment. After importing the data, we can use the ‘head’ function to get a glimpse of our dataset."
      ],
      "metadata": {
        "id": "9RDNBOL2LPg6"
      }
    },
    {
      "cell_type": "code",
      "execution_count": 42,
      "metadata": {
        "scrolled": true,
        "colab": {
          "base_uri": "https://localhost:8080/",
          "height": 423
        },
        "id": "SJ7BG-B6HicT",
        "outputId": "5d379d94-ad54-474b-9a27-a521c50cfdf1"
      },
      "outputs": [
        {
          "output_type": "execute_result",
          "data": {
            "text/plain": [
              "       Voltage   Current  Temperature  Capacity  StandardDeviation  \\\n",
              "0      4.17604  -0.15069     23.97615   2.99746          11.492914   \n",
              "1      4.17014  -0.15069     23.97615   2.99239          11.492369   \n",
              "2      4.16761  -0.15069     23.76583   2.98986          11.388522   \n",
              "3      4.16509  -0.15325     23.66067   2.98732          11.336982   \n",
              "4      4.16273  -0.15325     23.76583   2.98478          11.388420   \n",
              "...        ...       ...          ...       ...                ...   \n",
              "14952  2.80077 -11.13838      8.83332   0.52128           8.443293   \n",
              "14953  2.80010 -10.93406      8.83332   0.52099           8.347490   \n",
              "14954  2.79993 -10.88298      8.83332   0.52099           8.323558   \n",
              "14955  2.80178 -15.74596      8.93848   0.53256          10.664245   \n",
              "14956  2.80027 -14.01173      8.93848   0.53214           9.834418   \n",
              "\n",
              "       DCResistance  MeanofVariables  StateofCharge  \n",
              "0         -0.039153         7.001010      99.915333  \n",
              "1         -0.016789         7.000802      99.746333  \n",
              "2         -0.016444         6.948222      99.662000  \n",
              "3         -0.015400         6.921297      99.577333  \n",
              "4         -0.014600         6.947633      99.492667  \n",
              "...             ...              ...            ...  \n",
              "14952     -0.000061         0.743607      17.376000  \n",
              "14953     -0.000016         0.794593      17.366333  \n",
              "14954      0.000117         0.807320      17.366333  \n",
              "14955     -0.000108        -0.384565      17.752000  \n",
              "14956     -0.000025         0.048720      17.738000  \n",
              "\n",
              "[14957 rows x 8 columns]"
            ],
            "text/html": [
              "\n",
              "  <div id=\"df-377ac4a6-2bee-4f95-b2b6-340ec45711b6\">\n",
              "    <div class=\"colab-df-container\">\n",
              "      <div>\n",
              "<style scoped>\n",
              "    .dataframe tbody tr th:only-of-type {\n",
              "        vertical-align: middle;\n",
              "    }\n",
              "\n",
              "    .dataframe tbody tr th {\n",
              "        vertical-align: top;\n",
              "    }\n",
              "\n",
              "    .dataframe thead th {\n",
              "        text-align: right;\n",
              "    }\n",
              "</style>\n",
              "<table border=\"1\" class=\"dataframe\">\n",
              "  <thead>\n",
              "    <tr style=\"text-align: right;\">\n",
              "      <th></th>\n",
              "      <th>Voltage</th>\n",
              "      <th>Current</th>\n",
              "      <th>Temperature</th>\n",
              "      <th>Capacity</th>\n",
              "      <th>StandardDeviation</th>\n",
              "      <th>DCResistance</th>\n",
              "      <th>MeanofVariables</th>\n",
              "      <th>StateofCharge</th>\n",
              "    </tr>\n",
              "  </thead>\n",
              "  <tbody>\n",
              "    <tr>\n",
              "      <th>0</th>\n",
              "      <td>4.17604</td>\n",
              "      <td>-0.15069</td>\n",
              "      <td>23.97615</td>\n",
              "      <td>2.99746</td>\n",
              "      <td>11.492914</td>\n",
              "      <td>-0.039153</td>\n",
              "      <td>7.001010</td>\n",
              "      <td>99.915333</td>\n",
              "    </tr>\n",
              "    <tr>\n",
              "      <th>1</th>\n",
              "      <td>4.17014</td>\n",
              "      <td>-0.15069</td>\n",
              "      <td>23.97615</td>\n",
              "      <td>2.99239</td>\n",
              "      <td>11.492369</td>\n",
              "      <td>-0.016789</td>\n",
              "      <td>7.000802</td>\n",
              "      <td>99.746333</td>\n",
              "    </tr>\n",
              "    <tr>\n",
              "      <th>2</th>\n",
              "      <td>4.16761</td>\n",
              "      <td>-0.15069</td>\n",
              "      <td>23.76583</td>\n",
              "      <td>2.98986</td>\n",
              "      <td>11.388522</td>\n",
              "      <td>-0.016444</td>\n",
              "      <td>6.948222</td>\n",
              "      <td>99.662000</td>\n",
              "    </tr>\n",
              "    <tr>\n",
              "      <th>3</th>\n",
              "      <td>4.16509</td>\n",
              "      <td>-0.15325</td>\n",
              "      <td>23.66067</td>\n",
              "      <td>2.98732</td>\n",
              "      <td>11.336982</td>\n",
              "      <td>-0.015400</td>\n",
              "      <td>6.921297</td>\n",
              "      <td>99.577333</td>\n",
              "    </tr>\n",
              "    <tr>\n",
              "      <th>4</th>\n",
              "      <td>4.16273</td>\n",
              "      <td>-0.15325</td>\n",
              "      <td>23.76583</td>\n",
              "      <td>2.98478</td>\n",
              "      <td>11.388420</td>\n",
              "      <td>-0.014600</td>\n",
              "      <td>6.947633</td>\n",
              "      <td>99.492667</td>\n",
              "    </tr>\n",
              "    <tr>\n",
              "      <th>...</th>\n",
              "      <td>...</td>\n",
              "      <td>...</td>\n",
              "      <td>...</td>\n",
              "      <td>...</td>\n",
              "      <td>...</td>\n",
              "      <td>...</td>\n",
              "      <td>...</td>\n",
              "      <td>...</td>\n",
              "    </tr>\n",
              "    <tr>\n",
              "      <th>14952</th>\n",
              "      <td>2.80077</td>\n",
              "      <td>-11.13838</td>\n",
              "      <td>8.83332</td>\n",
              "      <td>0.52128</td>\n",
              "      <td>8.443293</td>\n",
              "      <td>-0.000061</td>\n",
              "      <td>0.743607</td>\n",
              "      <td>17.376000</td>\n",
              "    </tr>\n",
              "    <tr>\n",
              "      <th>14953</th>\n",
              "      <td>2.80010</td>\n",
              "      <td>-10.93406</td>\n",
              "      <td>8.83332</td>\n",
              "      <td>0.52099</td>\n",
              "      <td>8.347490</td>\n",
              "      <td>-0.000016</td>\n",
              "      <td>0.794593</td>\n",
              "      <td>17.366333</td>\n",
              "    </tr>\n",
              "    <tr>\n",
              "      <th>14954</th>\n",
              "      <td>2.79993</td>\n",
              "      <td>-10.88298</td>\n",
              "      <td>8.83332</td>\n",
              "      <td>0.52099</td>\n",
              "      <td>8.323558</td>\n",
              "      <td>0.000117</td>\n",
              "      <td>0.807320</td>\n",
              "      <td>17.366333</td>\n",
              "    </tr>\n",
              "    <tr>\n",
              "      <th>14955</th>\n",
              "      <td>2.80178</td>\n",
              "      <td>-15.74596</td>\n",
              "      <td>8.93848</td>\n",
              "      <td>0.53256</td>\n",
              "      <td>10.664245</td>\n",
              "      <td>-0.000108</td>\n",
              "      <td>-0.384565</td>\n",
              "      <td>17.752000</td>\n",
              "    </tr>\n",
              "    <tr>\n",
              "      <th>14956</th>\n",
              "      <td>2.80027</td>\n",
              "      <td>-14.01173</td>\n",
              "      <td>8.93848</td>\n",
              "      <td>0.53214</td>\n",
              "      <td>9.834418</td>\n",
              "      <td>-0.000025</td>\n",
              "      <td>0.048720</td>\n",
              "      <td>17.738000</td>\n",
              "    </tr>\n",
              "  </tbody>\n",
              "</table>\n",
              "<p>14957 rows × 8 columns</p>\n",
              "</div>\n",
              "      <button class=\"colab-df-convert\" onclick=\"convertToInteractive('df-377ac4a6-2bee-4f95-b2b6-340ec45711b6')\"\n",
              "              title=\"Convert this dataframe to an interactive table.\"\n",
              "              style=\"display:none;\">\n",
              "        \n",
              "  <svg xmlns=\"http://www.w3.org/2000/svg\" height=\"24px\"viewBox=\"0 0 24 24\"\n",
              "       width=\"24px\">\n",
              "    <path d=\"M0 0h24v24H0V0z\" fill=\"none\"/>\n",
              "    <path d=\"M18.56 5.44l.94 2.06.94-2.06 2.06-.94-2.06-.94-.94-2.06-.94 2.06-2.06.94zm-11 1L8.5 8.5l.94-2.06 2.06-.94-2.06-.94L8.5 2.5l-.94 2.06-2.06.94zm10 10l.94 2.06.94-2.06 2.06-.94-2.06-.94-.94-2.06-.94 2.06-2.06.94z\"/><path d=\"M17.41 7.96l-1.37-1.37c-.4-.4-.92-.59-1.43-.59-.52 0-1.04.2-1.43.59L10.3 9.45l-7.72 7.72c-.78.78-.78 2.05 0 2.83L4 21.41c.39.39.9.59 1.41.59.51 0 1.02-.2 1.41-.59l7.78-7.78 2.81-2.81c.8-.78.8-2.07 0-2.86zM5.41 20L4 18.59l7.72-7.72 1.47 1.35L5.41 20z\"/>\n",
              "  </svg>\n",
              "      </button>\n",
              "      \n",
              "  <style>\n",
              "    .colab-df-container {\n",
              "      display:flex;\n",
              "      flex-wrap:wrap;\n",
              "      gap: 12px;\n",
              "    }\n",
              "\n",
              "    .colab-df-convert {\n",
              "      background-color: #E8F0FE;\n",
              "      border: none;\n",
              "      border-radius: 50%;\n",
              "      cursor: pointer;\n",
              "      display: none;\n",
              "      fill: #1967D2;\n",
              "      height: 32px;\n",
              "      padding: 0 0 0 0;\n",
              "      width: 32px;\n",
              "    }\n",
              "\n",
              "    .colab-df-convert:hover {\n",
              "      background-color: #E2EBFA;\n",
              "      box-shadow: 0px 1px 2px rgba(60, 64, 67, 0.3), 0px 1px 3px 1px rgba(60, 64, 67, 0.15);\n",
              "      fill: #174EA6;\n",
              "    }\n",
              "\n",
              "    [theme=dark] .colab-df-convert {\n",
              "      background-color: #3B4455;\n",
              "      fill: #D2E3FC;\n",
              "    }\n",
              "\n",
              "    [theme=dark] .colab-df-convert:hover {\n",
              "      background-color: #434B5C;\n",
              "      box-shadow: 0px 1px 3px 1px rgba(0, 0, 0, 0.15);\n",
              "      filter: drop-shadow(0px 1px 2px rgba(0, 0, 0, 0.3));\n",
              "      fill: #FFFFFF;\n",
              "    }\n",
              "  </style>\n",
              "\n",
              "      <script>\n",
              "        const buttonEl =\n",
              "          document.querySelector('#df-377ac4a6-2bee-4f95-b2b6-340ec45711b6 button.colab-df-convert');\n",
              "        buttonEl.style.display =\n",
              "          google.colab.kernel.accessAllowed ? 'block' : 'none';\n",
              "\n",
              "        async function convertToInteractive(key) {\n",
              "          const element = document.querySelector('#df-377ac4a6-2bee-4f95-b2b6-340ec45711b6');\n",
              "          const dataTable =\n",
              "            await google.colab.kernel.invokeFunction('convertToInteractive',\n",
              "                                                     [key], {});\n",
              "          if (!dataTable) return;\n",
              "\n",
              "          const docLinkHtml = 'Like what you see? Visit the ' +\n",
              "            '<a target=\"_blank\" href=https://colab.research.google.com/notebooks/data_table.ipynb>data table notebook</a>'\n",
              "            + ' to learn more about interactive tables.';\n",
              "          element.innerHTML = '';\n",
              "          dataTable['output_type'] = 'display_data';\n",
              "          await google.colab.output.renderOutput(dataTable, element);\n",
              "          const docLink = document.createElement('div');\n",
              "          docLink.innerHTML = docLinkHtml;\n",
              "          element.appendChild(docLink);\n",
              "        }\n",
              "      </script>\n",
              "    </div>\n",
              "  </div>\n",
              "  "
            ]
          },
          "metadata": {},
          "execution_count": 42
        }
      ],
      "source": [
        "df=pd.read_csv(r\"SocFinal.csv\")\n",
        "df=df.dropna()\n",
        "df"
      ]
    },
    {
      "cell_type": "markdown",
      "source": [
        "Now, using the ‘describe’ function we can get a statistical view of the data like mean, median, standard deviation, and so on."
      ],
      "metadata": {
        "id": "OazFABXRLeyt"
      }
    },
    {
      "cell_type": "code",
      "source": [
        "df.describe()"
      ],
      "metadata": {
        "colab": {
          "base_uri": "https://localhost:8080/",
          "height": 344
        },
        "id": "L11iYzEhLazc",
        "outputId": "4f56c9f5-75c6-4775-a512-f8e8140a1940"
      },
      "execution_count": 43,
      "outputs": [
        {
          "output_type": "execute_result",
          "data": {
            "text/plain": [
              "            Voltage       Current   Temperature      Capacity  \\\n",
              "count  14957.000000  14957.000000  14957.000000  14957.000000   \n",
              "mean       3.554937     -8.051821     23.956558      1.770932   \n",
              "std        0.321793      6.020962     11.026994      0.840430   \n",
              "min        2.794530    -18.001220      8.833320      0.219260   \n",
              "25%        3.322290    -11.999110      9.148790      0.968320   \n",
              "50%        3.580020     -5.999560     23.870990      1.792820   \n",
              "75%        3.821390     -3.001060     38.382860      2.638830   \n",
              "max        4.176040     -0.150690     38.698340      3.000000   \n",
              "\n",
              "       StandardDeviation  DCResistance  MeanofVariables  StateofCharge  \n",
              "count       14957.000000  14957.000000     14957.000000   14957.000000  \n",
              "mean           13.864357     -0.000179         5.172185      59.031066  \n",
              "std             5.428575      0.018174         3.141481      28.014331  \n",
              "min             4.824173     -0.075889        -1.186117       7.308667  \n",
              "25%            11.214714     -0.000197         2.599035      32.277333  \n",
              "50%            12.642406     -0.000088         6.056997      59.760667  \n",
              "75%            19.092191     -0.000057         7.256017      87.961000  \n",
              "max            23.642281      0.872670        10.305742     100.000000  "
            ],
            "text/html": [
              "\n",
              "  <div id=\"df-400d2694-e0f6-492e-8012-a8c3a0741c51\">\n",
              "    <div class=\"colab-df-container\">\n",
              "      <div>\n",
              "<style scoped>\n",
              "    .dataframe tbody tr th:only-of-type {\n",
              "        vertical-align: middle;\n",
              "    }\n",
              "\n",
              "    .dataframe tbody tr th {\n",
              "        vertical-align: top;\n",
              "    }\n",
              "\n",
              "    .dataframe thead th {\n",
              "        text-align: right;\n",
              "    }\n",
              "</style>\n",
              "<table border=\"1\" class=\"dataframe\">\n",
              "  <thead>\n",
              "    <tr style=\"text-align: right;\">\n",
              "      <th></th>\n",
              "      <th>Voltage</th>\n",
              "      <th>Current</th>\n",
              "      <th>Temperature</th>\n",
              "      <th>Capacity</th>\n",
              "      <th>StandardDeviation</th>\n",
              "      <th>DCResistance</th>\n",
              "      <th>MeanofVariables</th>\n",
              "      <th>StateofCharge</th>\n",
              "    </tr>\n",
              "  </thead>\n",
              "  <tbody>\n",
              "    <tr>\n",
              "      <th>count</th>\n",
              "      <td>14957.000000</td>\n",
              "      <td>14957.000000</td>\n",
              "      <td>14957.000000</td>\n",
              "      <td>14957.000000</td>\n",
              "      <td>14957.000000</td>\n",
              "      <td>14957.000000</td>\n",
              "      <td>14957.000000</td>\n",
              "      <td>14957.000000</td>\n",
              "    </tr>\n",
              "    <tr>\n",
              "      <th>mean</th>\n",
              "      <td>3.554937</td>\n",
              "      <td>-8.051821</td>\n",
              "      <td>23.956558</td>\n",
              "      <td>1.770932</td>\n",
              "      <td>13.864357</td>\n",
              "      <td>-0.000179</td>\n",
              "      <td>5.172185</td>\n",
              "      <td>59.031066</td>\n",
              "    </tr>\n",
              "    <tr>\n",
              "      <th>std</th>\n",
              "      <td>0.321793</td>\n",
              "      <td>6.020962</td>\n",
              "      <td>11.026994</td>\n",
              "      <td>0.840430</td>\n",
              "      <td>5.428575</td>\n",
              "      <td>0.018174</td>\n",
              "      <td>3.141481</td>\n",
              "      <td>28.014331</td>\n",
              "    </tr>\n",
              "    <tr>\n",
              "      <th>min</th>\n",
              "      <td>2.794530</td>\n",
              "      <td>-18.001220</td>\n",
              "      <td>8.833320</td>\n",
              "      <td>0.219260</td>\n",
              "      <td>4.824173</td>\n",
              "      <td>-0.075889</td>\n",
              "      <td>-1.186117</td>\n",
              "      <td>7.308667</td>\n",
              "    </tr>\n",
              "    <tr>\n",
              "      <th>25%</th>\n",
              "      <td>3.322290</td>\n",
              "      <td>-11.999110</td>\n",
              "      <td>9.148790</td>\n",
              "      <td>0.968320</td>\n",
              "      <td>11.214714</td>\n",
              "      <td>-0.000197</td>\n",
              "      <td>2.599035</td>\n",
              "      <td>32.277333</td>\n",
              "    </tr>\n",
              "    <tr>\n",
              "      <th>50%</th>\n",
              "      <td>3.580020</td>\n",
              "      <td>-5.999560</td>\n",
              "      <td>23.870990</td>\n",
              "      <td>1.792820</td>\n",
              "      <td>12.642406</td>\n",
              "      <td>-0.000088</td>\n",
              "      <td>6.056997</td>\n",
              "      <td>59.760667</td>\n",
              "    </tr>\n",
              "    <tr>\n",
              "      <th>75%</th>\n",
              "      <td>3.821390</td>\n",
              "      <td>-3.001060</td>\n",
              "      <td>38.382860</td>\n",
              "      <td>2.638830</td>\n",
              "      <td>19.092191</td>\n",
              "      <td>-0.000057</td>\n",
              "      <td>7.256017</td>\n",
              "      <td>87.961000</td>\n",
              "    </tr>\n",
              "    <tr>\n",
              "      <th>max</th>\n",
              "      <td>4.176040</td>\n",
              "      <td>-0.150690</td>\n",
              "      <td>38.698340</td>\n",
              "      <td>3.000000</td>\n",
              "      <td>23.642281</td>\n",
              "      <td>0.872670</td>\n",
              "      <td>10.305742</td>\n",
              "      <td>100.000000</td>\n",
              "    </tr>\n",
              "  </tbody>\n",
              "</table>\n",
              "</div>\n",
              "      <button class=\"colab-df-convert\" onclick=\"convertToInteractive('df-400d2694-e0f6-492e-8012-a8c3a0741c51')\"\n",
              "              title=\"Convert this dataframe to an interactive table.\"\n",
              "              style=\"display:none;\">\n",
              "        \n",
              "  <svg xmlns=\"http://www.w3.org/2000/svg\" height=\"24px\"viewBox=\"0 0 24 24\"\n",
              "       width=\"24px\">\n",
              "    <path d=\"M0 0h24v24H0V0z\" fill=\"none\"/>\n",
              "    <path d=\"M18.56 5.44l.94 2.06.94-2.06 2.06-.94-2.06-.94-.94-2.06-.94 2.06-2.06.94zm-11 1L8.5 8.5l.94-2.06 2.06-.94-2.06-.94L8.5 2.5l-.94 2.06-2.06.94zm10 10l.94 2.06.94-2.06 2.06-.94-2.06-.94-.94-2.06-.94 2.06-2.06.94z\"/><path d=\"M17.41 7.96l-1.37-1.37c-.4-.4-.92-.59-1.43-.59-.52 0-1.04.2-1.43.59L10.3 9.45l-7.72 7.72c-.78.78-.78 2.05 0 2.83L4 21.41c.39.39.9.59 1.41.59.51 0 1.02-.2 1.41-.59l7.78-7.78 2.81-2.81c.8-.78.8-2.07 0-2.86zM5.41 20L4 18.59l7.72-7.72 1.47 1.35L5.41 20z\"/>\n",
              "  </svg>\n",
              "      </button>\n",
              "      \n",
              "  <style>\n",
              "    .colab-df-container {\n",
              "      display:flex;\n",
              "      flex-wrap:wrap;\n",
              "      gap: 12px;\n",
              "    }\n",
              "\n",
              "    .colab-df-convert {\n",
              "      background-color: #E8F0FE;\n",
              "      border: none;\n",
              "      border-radius: 50%;\n",
              "      cursor: pointer;\n",
              "      display: none;\n",
              "      fill: #1967D2;\n",
              "      height: 32px;\n",
              "      padding: 0 0 0 0;\n",
              "      width: 32px;\n",
              "    }\n",
              "\n",
              "    .colab-df-convert:hover {\n",
              "      background-color: #E2EBFA;\n",
              "      box-shadow: 0px 1px 2px rgba(60, 64, 67, 0.3), 0px 1px 3px 1px rgba(60, 64, 67, 0.15);\n",
              "      fill: #174EA6;\n",
              "    }\n",
              "\n",
              "    [theme=dark] .colab-df-convert {\n",
              "      background-color: #3B4455;\n",
              "      fill: #D2E3FC;\n",
              "    }\n",
              "\n",
              "    [theme=dark] .colab-df-convert:hover {\n",
              "      background-color: #434B5C;\n",
              "      box-shadow: 0px 1px 3px 1px rgba(0, 0, 0, 0.15);\n",
              "      filter: drop-shadow(0px 1px 2px rgba(0, 0, 0, 0.3));\n",
              "      fill: #FFFFFF;\n",
              "    }\n",
              "  </style>\n",
              "\n",
              "      <script>\n",
              "        const buttonEl =\n",
              "          document.querySelector('#df-400d2694-e0f6-492e-8012-a8c3a0741c51 button.colab-df-convert');\n",
              "        buttonEl.style.display =\n",
              "          google.colab.kernel.accessAllowed ? 'block' : 'none';\n",
              "\n",
              "        async function convertToInteractive(key) {\n",
              "          const element = document.querySelector('#df-400d2694-e0f6-492e-8012-a8c3a0741c51');\n",
              "          const dataTable =\n",
              "            await google.colab.kernel.invokeFunction('convertToInteractive',\n",
              "                                                     [key], {});\n",
              "          if (!dataTable) return;\n",
              "\n",
              "          const docLinkHtml = 'Like what you see? Visit the ' +\n",
              "            '<a target=\"_blank\" href=https://colab.research.google.com/notebooks/data_table.ipynb>data table notebook</a>'\n",
              "            + ' to learn more about interactive tables.';\n",
              "          element.innerHTML = '';\n",
              "          dataTable['output_type'] = 'display_data';\n",
              "          await google.colab.output.renderOutput(dataTable, element);\n",
              "          const docLink = document.createElement('div');\n",
              "          docLink.innerHTML = docLinkHtml;\n",
              "          element.appendChild(docLink);\n",
              "        }\n",
              "      </script>\n",
              "    </div>\n",
              "  </div>\n",
              "  "
            ]
          },
          "metadata": {},
          "execution_count": 43
        }
      ]
    },
    {
      "cell_type": "markdown",
      "source": [
        "### **Data Visualization**\n",
        "\n",
        "In this process, we are going to produce three different types of charts including heatmap, scatter plot, and a distribution plot.\n",
        "\n",
        "(i) **Heatmap**:\n",
        "Heatmaps are very useful to find relations between two variables in a dataset. Heatmap can be easily produced using the ‘heatmap’ function provided by the seaborn package in python."
      ],
      "metadata": {
        "id": "jbgSCxI_L-gz"
      }
    },
    {
      "cell_type": "code",
      "source": [
        "import seaborn as sb # visualization\n",
        "import matplotlib.pyplot as plt # visualization\n",
        "\n",
        "sb.heatmap(df.corr(), annot = True, cmap = 'magma')\n",
        "\n",
        "plt.savefig('heatmap.png')\n",
        "plt.show()"
      ],
      "metadata": {
        "id": "b-qQg-CIMPhT",
        "colab": {
          "base_uri": "https://localhost:8080/",
          "height": 532
        },
        "outputId": "f4522613-ed85-4287-adf0-3c92921861cc"
      },
      "execution_count": 44,
      "outputs": [
        {
          "output_type": "display_data",
          "data": {
            "text/plain": [
              "<Figure size 1440x720 with 2 Axes>"
            ],
            "image/png": "[encoded data removed]"
          },
          "metadata": {}
        }
      ]
    },
    {
      "cell_type": "code",
      "source": [],
      "metadata": {
        "id": "MCiR8MFoAXEL"
      },
      "execution_count": 44,
      "outputs": []
    },
    {
      "cell_type": "markdown",
      "source": [
        "## **Feature Selection & Data Split**\n",
        " In this process we are going to define the ‘X’ variable (independent variable) and the ‘Y’ variable (dependent variable). After defining the variables, we will use them to split the data into a train set and test set. Splitting the data can be done using the ‘train_test_split’ function provided by scikit-learn in python."
      ],
      "metadata": {
        "id": "wjtkx-K2OEYu"
      }
    },
    {
      "cell_type": "code",
      "source": [
        "features = ['Voltage','Current','Temperature', 'Capacity', 'StandardDeviation', 'DCResistance', 'MeanofVariables']\n",
        "X = df.loc[:, features]\n",
        "y = df.loc[:, ['StateofCharge']]"
      ],
      "metadata": {
        "id": "mIC5zqkaK3a4"
      },
      "execution_count": 45,
      "outputs": []
    },
    {
      "cell_type": "code",
      "source": [
        "# \n",
        "X_train, X_test, y_train, y_test = train_test_split(\n",
        "    X, y, test_size=0.2, random_state=1)\n",
        "X_train, X_val, y_train, y_val = train_test_split(\n",
        "    X_train, y_train, test_size=0.25, random_state=1)"
      ],
      "metadata": {
        "id": "hcKCMGbCLEUI"
      },
      "execution_count": 46,
      "outputs": []
    },
    {
      "cell_type": "code",
      "source": [
        "y_val.head()"
      ],
      "metadata": {
        "colab": {
          "base_uri": "https://localhost:8080/",
          "height": 206
        },
        "id": "KsPK_jOq271U",
        "outputId": "da286932-782c-4804-fa47-bf6b27076822"
      },
      "execution_count": 47,
      "outputs": [
        {
          "output_type": "execute_result",
          "data": {
            "text/plain": [
              "       StateofCharge\n",
              "2127       89.918667\n",
              "5067       31.539667\n",
              "939        20.461000\n",
              "7894       79.582333\n",
              "13572      49.963667"
            ],
            "text/html": [
              "\n",
              "  <div id=\"df-8d975046-c9a5-4e62-bfb7-4729ef45dd13\">\n",
              "    <div class=\"colab-df-container\">\n",
              "      <div>\n",
              "<style scoped>\n",
              "    .dataframe tbody tr th:only-of-type {\n",
              "        vertical-align: middle;\n",
              "    }\n",
              "\n",
              "    .dataframe tbody tr th {\n",
              "        vertical-align: top;\n",
              "    }\n",
              "\n",
              "    .dataframe thead th {\n",
              "        text-align: right;\n",
              "    }\n",
              "</style>\n",
              "<table border=\"1\" class=\"dataframe\">\n",
              "  <thead>\n",
              "    <tr style=\"text-align: right;\">\n",
              "      <th></th>\n",
              "      <th>StateofCharge</th>\n",
              "    </tr>\n",
              "  </thead>\n",
              "  <tbody>\n",
              "    <tr>\n",
              "      <th>2127</th>\n",
              "      <td>89.918667</td>\n",
              "    </tr>\n",
              "    <tr>\n",
              "      <th>5067</th>\n",
              "      <td>31.539667</td>\n",
              "    </tr>\n",
              "    <tr>\n",
              "      <th>939</th>\n",
              "      <td>20.461000</td>\n",
              "    </tr>\n",
              "    <tr>\n",
              "      <th>7894</th>\n",
              "      <td>79.582333</td>\n",
              "    </tr>\n",
              "    <tr>\n",
              "      <th>13572</th>\n",
              "      <td>49.963667</td>\n",
              "    </tr>\n",
              "  </tbody>\n",
              "</table>\n",
              "</div>\n",
              "      <button class=\"colab-df-convert\" onclick=\"convertToInteractive('df-8d975046-c9a5-4e62-bfb7-4729ef45dd13')\"\n",
              "              title=\"Convert this dataframe to an interactive table.\"\n",
              "              style=\"display:none;\">\n",
              "        \n",
              "  <svg xmlns=\"http://www.w3.org/2000/svg\" height=\"24px\"viewBox=\"0 0 24 24\"\n",
              "       width=\"24px\">\n",
              "    <path d=\"M0 0h24v24H0V0z\" fill=\"none\"/>\n",
              "    <path d=\"M18.56 5.44l.94 2.06.94-2.06 2.06-.94-2.06-.94-.94-2.06-.94 2.06-2.06.94zm-11 1L8.5 8.5l.94-2.06 2.06-.94-2.06-.94L8.5 2.5l-.94 2.06-2.06.94zm10 10l.94 2.06.94-2.06 2.06-.94-2.06-.94-.94-2.06-.94 2.06-2.06.94z\"/><path d=\"M17.41 7.96l-1.37-1.37c-.4-.4-.92-.59-1.43-.59-.52 0-1.04.2-1.43.59L10.3 9.45l-7.72 7.72c-.78.78-.78 2.05 0 2.83L4 21.41c.39.39.9.59 1.41.59.51 0 1.02-.2 1.41-.59l7.78-7.78 2.81-2.81c.8-.78.8-2.07 0-2.86zM5.41 20L4 18.59l7.72-7.72 1.47 1.35L5.41 20z\"/>\n",
              "  </svg>\n",
              "      </button>\n",
              "      \n",
              "  <style>\n",
              "    .colab-df-container {\n",
              "      display:flex;\n",
              "      flex-wrap:wrap;\n",
              "      gap: 12px;\n",
              "    }\n",
              "\n",
              "    .colab-df-convert {\n",
              "      background-color: #E8F0FE;\n",
              "      border: none;\n",
              "      border-radius: 50%;\n",
              "      cursor: pointer;\n",
              "      display: none;\n",
              "      fill: #1967D2;\n",
              "      height: 32px;\n",
              "      padding: 0 0 0 0;\n",
              "      width: 32px;\n",
              "    }\n",
              "\n",
              "    .colab-df-convert:hover {\n",
              "      background-color: #E2EBFA;\n",
              "      box-shadow: 0px 1px 2px rgba(60, 64, 67, 0.3), 0px 1px 3px 1px rgba(60, 64, 67, 0.15);\n",
              "      fill: #174EA6;\n",
              "    }\n",
              "\n",
              "    [theme=dark] .colab-df-convert {\n",
              "      background-color: #3B4455;\n",
              "      fill: #D2E3FC;\n",
              "    }\n",
              "\n",
              "    [theme=dark] .colab-df-convert:hover {\n",
              "      background-color: #434B5C;\n",
              "      box-shadow: 0px 1px 3px 1px rgba(0, 0, 0, 0.15);\n",
              "      filter: drop-shadow(0px 1px 2px rgba(0, 0, 0, 0.3));\n",
              "      fill: #FFFFFF;\n",
              "    }\n",
              "  </style>\n",
              "\n",
              "      <script>\n",
              "        const buttonEl =\n",
              "          document.querySelector('#df-8d975046-c9a5-4e62-bfb7-4729ef45dd13 button.colab-df-convert');\n",
              "        buttonEl.style.display =\n",
              "          google.colab.kernel.accessAllowed ? 'block' : 'none';\n",
              "\n",
              "        async function convertToInteractive(key) {\n",
              "          const element = document.querySelector('#df-8d975046-c9a5-4e62-bfb7-4729ef45dd13');\n",
              "          const dataTable =\n",
              "            await google.colab.kernel.invokeFunction('convertToInteractive',\n",
              "                                                     [key], {});\n",
              "          if (!dataTable) return;\n",
              "\n",
              "          const docLinkHtml = 'Like what you see? Visit the ' +\n",
              "            '<a target=\"_blank\" href=https://colab.research.google.com/notebooks/data_table.ipynb>data table notebook</a>'\n",
              "            + ' to learn more about interactive tables.';\n",
              "          element.innerHTML = '';\n",
              "          dataTable['output_type'] = 'display_data';\n",
              "          await google.colab.output.renderOutput(dataTable, element);\n",
              "          const docLink = document.createElement('div');\n",
              "          docLink.innerHTML = docLinkHtml;\n",
              "          element.appendChild(docLink);\n",
              "        }\n",
              "      </script>\n",
              "    </div>\n",
              "  </div>\n",
              "  "
            ]
          },
          "metadata": {},
          "execution_count": 47
        }
      ]
    },
    {
      "cell_type": "markdown",
      "source": [
        "## **Modeling**\n",
        "In this process, we are going to build and train five different types of linear regression models which are the OLS model, Ridge regression model, Lasso regression model, Bayesian regression model, Elastic Net regression model. For all the models, we are going to use the pre-built algorithms provided by the scikit-learn package in python. And the process for all the models are the same, first, we define a variable to store the model algorithm, next, we fit the train set variables into the model, and finally make some predictions in the test set."
      ],
      "metadata": {
        "id": "dB0--OQhOUUh"
      }
    },
    {
      "cell_type": "markdown",
      "metadata": {
        "id": "G1eFszbfHicV"
      },
      "source": [
        "Training the Model"
      ]
    },
    {
      "cell_type": "code",
      "source": [
        "# MODELING\n",
        "\n",
        "\n",
        "#  Lasso\n",
        "\n",
        "lasso = Lasso(alpha = 0.01)\n",
        "lasso.fit(X_train, y_train)\n",
        "lasso_yhat_test = lasso.predict(X_test)\n",
        "lasso_yhat_val = lasso.predict(X_val)\n"
      ],
      "metadata": {
        "id": "LxMs-Q6VN-IQ"
      },
      "execution_count": 57,
      "outputs": []
    },
    {
      "cell_type": "markdown",
      "source": [
        "## **Model Evaluation**\n",
        "To evaluate our model we are going to use the ‘explained_variance_score’ metric and the ‘r2_score’ metric functions which are provided by the scikit-learn package in python.\n",
        "\n",
        "When it comes to the ‘explained_variance_score’ metric, the score should not below 0.60 or 60%. If it is the case, then our built model is not sufficient for our data to solve the given case. So, the ideal score of the ‘explained_variance_score’ should be between 0.60 and 1.0.\n",
        "\n",
        "Our next evaluation metric is the ‘r2_score’ (R-squared) metric. What is R-squared? R-squared is a measurement of how well the dependent variable explains the variance of the independent variable. It is the most popular evaluation metric for regression models. The ideal ‘r2_score’ of a build should be more than 0.70 (at least > 0.60).\n",
        "\n",
        "We are now going to compare the metric scores of each model and choose which model is more suitable for the given dataset."
      ],
      "metadata": {
        "id": "jSMMxMQuOoUu"
      }
    },
    {
      "cell_type": "code",
      "source": [
        "# 1. Explained Variance Score\n",
        "\n",
        "print('-------------------------------------------------------------------------------')\n",
        "print(cl('Explained Variance Score of Lasso model is {}'.format(evs(y_test, lasso_yhat_test)), attrs = ['bold']))\n",
        "print('-------------------------------------------------------------------------------')"
      ],
      "metadata": {
        "id": "FaabbrKYOMpi",
        "colab": {
          "base_uri": "https://localhost:8080/"
        },
        "outputId": "2fef5b72-dc56-4720-a64b-9f316e425d5b"
      },
      "execution_count": 58,
      "outputs": [
        {
          "output_type": "stream",
          "name": "stdout",
          "text": [
            "-------------------------------------------------------------------------------\n",
            "Explained Variance Score of Lasso model is 0.9999998148055026\n",
            "-------------------------------------------------------------------------------\n"
          ]
        }
      ]
    },
    {
      "cell_type": "code",
      "source": [
        "# 2. R-squared\n",
        "\n",
        "print('-------------------------------------------------------------------------------')\n",
        "print(cl('R-Squared of Lasso model is {}'.format(r2(y_test, lasso_yhat_test)), attrs = ['bold']))\n",
        "print('-------------------------------------------------------------------------------')\n"
      ],
      "metadata": {
        "id": "vn9yId5COm1p",
        "colab": {
          "base_uri": "https://localhost:8080/"
        },
        "outputId": "a9a5bae2-5f65-49aa-a677-126c753edd10"
      },
      "execution_count": 59,
      "outputs": [
        {
          "output_type": "stream",
          "name": "stdout",
          "text": [
            "-------------------------------------------------------------------------------\n",
            "R-Squared of Lasso model is 0.9999998146636007\n",
            "-------------------------------------------------------------------------------\n"
          ]
        }
      ]
    },
    {
      "cell_type": "markdown",
      "source": [
        "With Validation Data"
      ],
      "metadata": {
        "id": "qHVGgpzpTFd1"
      }
    },
    {
      "cell_type": "code",
      "source": [
        "# 1. Explained Variance Score\n",
        "\n",
        "print('-------------------------------------------------------------------------------')\n",
        "print(cl('Explained Variance Score of Lasso model is {}'.format(evs(y_val, lasso_yhat_val)), attrs = ['bold']))\n",
        "print('-------------------------------------------------------------------------------')"
      ],
      "metadata": {
        "id": "pW93VRrLTFBs",
        "outputId": "fb8e07ae-f143-4937-8011-089e1133d25e",
        "colab": {
          "base_uri": "https://localhost:8080/"
        }
      },
      "execution_count": 60,
      "outputs": [
        {
          "output_type": "stream",
          "name": "stdout",
          "text": [
            "-------------------------------------------------------------------------------\n",
            "Explained Variance Score of Lasso model is 0.9999998135841598\n",
            "-------------------------------------------------------------------------------\n"
          ]
        }
      ]
    },
    {
      "cell_type": "code",
      "source": [
        "# 2. R-squared\n",
        "\n",
        "print('-------------------------------------------------------------------------------')\n",
        "print(cl('R-Squared of Lasso model is {}'.format(r2(y_val, lasso_yhat_val)), attrs = ['bold']))\n",
        "print('-------------------------------------------------------------------------------')\n"
      ],
      "metadata": {
        "id": "PQecemGvTJZK",
        "outputId": "617cbcca-1bfa-47ad-e80a-ad3a5a2afeec",
        "colab": {
          "base_uri": "https://localhost:8080/"
        }
      },
      "execution_count": 61,
      "outputs": [
        {
          "output_type": "stream",
          "name": "stdout",
          "text": [
            "-------------------------------------------------------------------------------\n",
            "R-Squared of Lasso model is 0.9999998132931261\n",
            "-------------------------------------------------------------------------------\n"
          ]
        }
      ]
    },
    {
      "cell_type": "code",
      "source": [
        "X_test.iloc[0].values.reshape(1,-1)"
      ],
      "metadata": {
        "colab": {
          "base_uri": "https://localhost:8080/"
        },
        "id": "yPnnBH9Q3jQn",
        "outputId": "8e38f799-e1cc-47f6-b07b-6827c56ea814"
      },
      "execution_count": 62,
      "outputs": [
        {
          "output_type": "execute_result",
          "data": {
            "text/plain": [
              "array([[ 3.90803000e+00, -2.89889000e+00,  9.04363000e+00,\n",
              "         2.41436000e+00,  5.08306134e+00, -1.13837000e-04,\n",
              "         2.65960250e+00]])"
            ]
          },
          "metadata": {},
          "execution_count": 62
        }
      ]
    },
    {
      "cell_type": "code",
      "source": [
        "lasso.predict(X_test.iloc[0].values.reshape(1,-1) )"
      ],
      "metadata": {
        "id": "xZtpDvn9T5FA",
        "colab": {
          "base_uri": "https://localhost:8080/"
        },
        "outputId": "3aebd354-a012-4a56-d85d-a47829fd0b2e"
      },
      "execution_count": 63,
      "outputs": [
        {
          "output_type": "stream",
          "name": "stderr",
          "text": [
            "/usr/local/lib/python3.8/dist-packages/sklearn/base.py:450: UserWarning: X does not have valid feature names, but Lasso was fitted with feature names\n",
            "  warnings.warn(\n"
          ]
        },
        {
          "output_type": "execute_result",
          "data": {
            "text/plain": [
              "array([80.47080992])"
            ]
          },
          "metadata": {},
          "execution_count": 63
        }
      ]
    },
    {
      "cell_type": "code",
      "source": [
        "y_test.iloc[0]"
      ],
      "metadata": {
        "colab": {
          "base_uri": "https://localhost:8080/"
        },
        "id": "KgR_t6na4I3f",
        "outputId": "36504728-7213-4884-ed4c-ae34fd11cd96"
      },
      "execution_count": 64,
      "outputs": [
        {
          "output_type": "execute_result",
          "data": {
            "text/plain": [
              "StateofCharge    80.478667\n",
              "Name: 12088, dtype: float64"
            ]
          },
          "metadata": {},
          "execution_count": 64
        }
      ]
    }
  ],
  "metadata": {
    "kernelspec": {
      "display_name": "Python 3 (ipykernel)",
      "language": "python",
      "name": "python3"
    },
    "language_info": {
      "codemirror_mode": {
        "name": "ipython",
        "version": 3
      },
      "file_extension": ".py",
      "mimetype": "text/x-python",
      "name": "python",
      "nbconvert_exporter": "python",
      "pygments_lexer": "ipython3",
      "version": "3.9.7"
    },
    "colab": {
      "provenance": [],
      "include_colab_link": true
    }
  },
  "nbformat": 4,
  "nbformat_minor": 0
}
