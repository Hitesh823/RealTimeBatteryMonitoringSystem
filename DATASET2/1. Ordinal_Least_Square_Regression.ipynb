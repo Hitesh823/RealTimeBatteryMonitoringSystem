{
  "cells": [
    {
      "cell_type": "markdown",
      "metadata": {
        "id": "view-in-github",
        "colab_type": "text"
      },
      "source": [
        "<a href=\"https://colab.research.google.com/github/punjabinuclei/RealTimeBatteryMonitoringSystem/blob/main/DATASET2/1.%20Ordinal_Least_Square_Regression.ipynb\" target=\"_parent\"><img src=\"https://colab.research.google.com/assets/colab-badge.svg\" alt=\"Open In Colab\"/></a>"
      ]
    },
    {
      "cell_type": "markdown",
      "source": [
        "\n",
        "# **State of Charge Estimation using Machine Learning** "
      ],
      "metadata": {
        "id": "z2zMZKzEJ68x"
      }
    },
    {
      "cell_type": "markdown",
      "source": [
        "Why linear regression? Linear regression is an algorithm used to predict values that are continuous in nature.\n",
        "\n",
        "To predict the state of charget we are going to use the following linear regression algorithm: Ordinal Least Square (OLS) algorithm"
      ],
      "metadata": {
        "id": "UvXF-AK9KnkL"
      }
    },
    {
      "cell_type": "markdown",
      "metadata": {
        "id": "eeSsJq8fHicJ"
      },
      "source": [
        "# Importing Important Libraries\n",
        "\n",
        "\n"
      ]
    },
    {
      "cell_type": "markdown",
      "source": [
        "Our primary packages for this project are going to be pandas for data processing, NumPy to work with arrays, matplotlib & seaborn for data visualizations, and finally scikit-learn for building an evaluating our ML model. Let’s import all the required packages into our python environment."
      ],
      "metadata": {
        "id": "QSzILxCuLIST"
      }
    },
    {
      "cell_type": "code",
      "execution_count": 4,
      "metadata": {
        "id": "BNnWJTZgHicS"
      },
      "outputs": [],
      "source": [
        "\n",
        "import pandas as pd # data processing\n",
        "import numpy as np # working with arrays\n",
        "import matplotlib.pyplot as plt # visualization\n",
        "import seaborn as sb # visualization\n",
        "from termcolor import colored as cl # text customization\n",
        "\n",
        "from sklearn.model_selection import train_test_split # data split\n",
        "\n",
        "from sklearn.linear_model import LinearRegression # OLS algorithm\n",
        "\n",
        "from sklearn.metrics import explained_variance_score as evs # evaluation metric\n",
        "from sklearn.metrics import r2_score as r2 # evaluation metric\n",
        "\n",
        "sb.set_style('whitegrid') # plot style\n",
        "plt.rcParams['figure.figsize'] = (20, 10)\n",
        "from sklearn import preprocessing # preprocessData"
      ]
    },
    {
      "cell_type": "markdown",
      "source": [
        "# Loading our Dataset"
      ],
      "metadata": {
        "id": "VEFE9czVIyhR"
      }
    },
    {
      "cell_type": "markdown",
      "source": [
        "Using the ‘read_csv’ function provided by the Pandas package, we can import the data into our python environment. After importing the data, we can use the ‘head’ function to get a glimpse of our dataset."
      ],
      "metadata": {
        "id": "9RDNBOL2LPg6"
      }
    },
    {
      "cell_type": "code",
      "execution_count": 5,
      "metadata": {
        "scrolled": true,
        "colab": {
          "base_uri": "https://localhost:8080/",
          "height": 423
        },
        "id": "SJ7BG-B6HicT",
        "outputId": "ee50a761-28a7-47e9-bcfc-9f8d06b982c0"
      },
      "outputs": [
        {
          "output_type": "execute_result",
          "data": {
            "text/plain": [
              "         Current  Temperature   Voltage        SOC\n",
              "0       1.503405    22.539068  3.533041  100.00000\n",
              "1       1.503996    22.546963  3.540132  100.00000\n",
              "2       1.503602    22.925943  3.544544  100.00000\n",
              "3       1.503011    22.831200  3.547577  100.00000\n",
              "4       1.503208    22.981213  3.550019  100.00000\n",
              "...          ...          ...       ...        ...\n",
              "205482  0.000000    21.228424  3.270109   37.40929\n",
              "205483  0.000000    21.544243  3.270227   37.40929\n",
              "205484  0.000000    21.378439  3.270187   37.40929\n",
              "205485  0.000000    21.560034  3.270187   37.40929\n",
              "205486  0.000000    21.615301  3.270306   37.40929\n",
              "\n",
              "[205487 rows x 4 columns]"
            ],
            "text/html": [
              "\n",
              "  <div id=\"df-643c8975-6b53-4e1b-9adb-c6f92f34bca0\">\n",
              "    <div class=\"colab-df-container\">\n",
              "      <div>\n",
              "<style scoped>\n",
              "    .dataframe tbody tr th:only-of-type {\n",
              "        vertical-align: middle;\n",
              "    }\n",
              "\n",
              "    .dataframe tbody tr th {\n",
              "        vertical-align: top;\n",
              "    }\n",
              "\n",
              "    .dataframe thead th {\n",
              "        text-align: right;\n",
              "    }\n",
              "</style>\n",
              "<table border=\"1\" class=\"dataframe\">\n",
              "  <thead>\n",
              "    <tr style=\"text-align: right;\">\n",
              "      <th></th>\n",
              "      <th>Current</th>\n",
              "      <th>Temperature</th>\n",
              "      <th>Voltage</th>\n",
              "      <th>SOC</th>\n",
              "    </tr>\n",
              "  </thead>\n",
              "  <tbody>\n",
              "    <tr>\n",
              "      <th>0</th>\n",
              "      <td>1.503405</td>\n",
              "      <td>22.539068</td>\n",
              "      <td>3.533041</td>\n",
              "      <td>100.00000</td>\n",
              "    </tr>\n",
              "    <tr>\n",
              "      <th>1</th>\n",
              "      <td>1.503996</td>\n",
              "      <td>22.546963</td>\n",
              "      <td>3.540132</td>\n",
              "      <td>100.00000</td>\n",
              "    </tr>\n",
              "    <tr>\n",
              "      <th>2</th>\n",
              "      <td>1.503602</td>\n",
              "      <td>22.925943</td>\n",
              "      <td>3.544544</td>\n",
              "      <td>100.00000</td>\n",
              "    </tr>\n",
              "    <tr>\n",
              "      <th>3</th>\n",
              "      <td>1.503011</td>\n",
              "      <td>22.831200</td>\n",
              "      <td>3.547577</td>\n",
              "      <td>100.00000</td>\n",
              "    </tr>\n",
              "    <tr>\n",
              "      <th>4</th>\n",
              "      <td>1.503208</td>\n",
              "      <td>22.981213</td>\n",
              "      <td>3.550019</td>\n",
              "      <td>100.00000</td>\n",
              "    </tr>\n",
              "    <tr>\n",
              "      <th>...</th>\n",
              "      <td>...</td>\n",
              "      <td>...</td>\n",
              "      <td>...</td>\n",
              "      <td>...</td>\n",
              "    </tr>\n",
              "    <tr>\n",
              "      <th>205482</th>\n",
              "      <td>0.000000</td>\n",
              "      <td>21.228424</td>\n",
              "      <td>3.270109</td>\n",
              "      <td>37.40929</td>\n",
              "    </tr>\n",
              "    <tr>\n",
              "      <th>205483</th>\n",
              "      <td>0.000000</td>\n",
              "      <td>21.544243</td>\n",
              "      <td>3.270227</td>\n",
              "      <td>37.40929</td>\n",
              "    </tr>\n",
              "    <tr>\n",
              "      <th>205484</th>\n",
              "      <td>0.000000</td>\n",
              "      <td>21.378439</td>\n",
              "      <td>3.270187</td>\n",
              "      <td>37.40929</td>\n",
              "    </tr>\n",
              "    <tr>\n",
              "      <th>205485</th>\n",
              "      <td>0.000000</td>\n",
              "      <td>21.560034</td>\n",
              "      <td>3.270187</td>\n",
              "      <td>37.40929</td>\n",
              "    </tr>\n",
              "    <tr>\n",
              "      <th>205486</th>\n",
              "      <td>0.000000</td>\n",
              "      <td>21.615301</td>\n",
              "      <td>3.270306</td>\n",
              "      <td>37.40929</td>\n",
              "    </tr>\n",
              "  </tbody>\n",
              "</table>\n",
              "<p>205487 rows × 4 columns</p>\n",
              "</div>\n",
              "      <button class=\"colab-df-convert\" onclick=\"convertToInteractive('df-643c8975-6b53-4e1b-9adb-c6f92f34bca0')\"\n",
              "              title=\"Convert this dataframe to an interactive table.\"\n",
              "              style=\"display:none;\">\n",
              "        \n",
              "  <svg xmlns=\"http://www.w3.org/2000/svg\" height=\"24px\"viewBox=\"0 0 24 24\"\n",
              "       width=\"24px\">\n",
              "    <path d=\"M0 0h24v24H0V0z\" fill=\"none\"/>\n",
              "    <path d=\"M18.56 5.44l.94 2.06.94-2.06 2.06-.94-2.06-.94-.94-2.06-.94 2.06-2.06.94zm-11 1L8.5 8.5l.94-2.06 2.06-.94-2.06-.94L8.5 2.5l-.94 2.06-2.06.94zm10 10l.94 2.06.94-2.06 2.06-.94-2.06-.94-.94-2.06-.94 2.06-2.06.94z\"/><path d=\"M17.41 7.96l-1.37-1.37c-.4-.4-.92-.59-1.43-.59-.52 0-1.04.2-1.43.59L10.3 9.45l-7.72 7.72c-.78.78-.78 2.05 0 2.83L4 21.41c.39.39.9.59 1.41.59.51 0 1.02-.2 1.41-.59l7.78-7.78 2.81-2.81c.8-.78.8-2.07 0-2.86zM5.41 20L4 18.59l7.72-7.72 1.47 1.35L5.41 20z\"/>\n",
              "  </svg>\n",
              "      </button>\n",
              "      \n",
              "  <style>\n",
              "    .colab-df-container {\n",
              "      display:flex;\n",
              "      flex-wrap:wrap;\n",
              "      gap: 12px;\n",
              "    }\n",
              "\n",
              "    .colab-df-convert {\n",
              "      background-color: #E8F0FE;\n",
              "      border: none;\n",
              "      border-radius: 50%;\n",
              "      cursor: pointer;\n",
              "      display: none;\n",
              "      fill: #1967D2;\n",
              "      height: 32px;\n",
              "      padding: 0 0 0 0;\n",
              "      width: 32px;\n",
              "    }\n",
              "\n",
              "    .colab-df-convert:hover {\n",
              "      background-color: #E2EBFA;\n",
              "      box-shadow: 0px 1px 2px rgba(60, 64, 67, 0.3), 0px 1px 3px 1px rgba(60, 64, 67, 0.15);\n",
              "      fill: #174EA6;\n",
              "    }\n",
              "\n",
              "    [theme=dark] .colab-df-convert {\n",
              "      background-color: #3B4455;\n",
              "      fill: #D2E3FC;\n",
              "    }\n",
              "\n",
              "    [theme=dark] .colab-df-convert:hover {\n",
              "      background-color: #434B5C;\n",
              "      box-shadow: 0px 1px 3px 1px rgba(0, 0, 0, 0.15);\n",
              "      filter: drop-shadow(0px 1px 2px rgba(0, 0, 0, 0.3));\n",
              "      fill: #FFFFFF;\n",
              "    }\n",
              "  </style>\n",
              "\n",
              "      <script>\n",
              "        const buttonEl =\n",
              "          document.querySelector('#df-643c8975-6b53-4e1b-9adb-c6f92f34bca0 button.colab-df-convert');\n",
              "        buttonEl.style.display =\n",
              "          google.colab.kernel.accessAllowed ? 'block' : 'none';\n",
              "\n",
              "        async function convertToInteractive(key) {\n",
              "          const element = document.querySelector('#df-643c8975-6b53-4e1b-9adb-c6f92f34bca0');\n",
              "          const dataTable =\n",
              "            await google.colab.kernel.invokeFunction('convertToInteractive',\n",
              "                                                     [key], {});\n",
              "          if (!dataTable) return;\n",
              "\n",
              "          const docLinkHtml = 'Like what you see? Visit the ' +\n",
              "            '<a target=\"_blank\" href=https://colab.research.google.com/notebooks/data_table.ipynb>data table notebook</a>'\n",
              "            + ' to learn more about interactive tables.';\n",
              "          element.innerHTML = '';\n",
              "          dataTable['output_type'] = 'display_data';\n",
              "          await google.colab.output.renderOutput(dataTable, element);\n",
              "          const docLink = document.createElement('div');\n",
              "          docLink.innerHTML = docLinkHtml;\n",
              "          element.appendChild(docLink);\n",
              "        }\n",
              "      </script>\n",
              "    </div>\n",
              "  </div>\n",
              "  "
            ]
          },
          "metadata": {},
          "execution_count": 5
        }
      ],
      "source": [
        "df=pd.read_csv(r\"SOC2023.csv\")\n",
        "df"
      ]
    },
    {
      "cell_type": "markdown",
      "source": [
        "Now, using the ‘describe’ function we can get a statistical view of the data like mean, median, standard deviation, and so on."
      ],
      "metadata": {
        "id": "OazFABXRLeyt"
      }
    },
    {
      "cell_type": "code",
      "source": [
        "df.describe()"
      ],
      "metadata": {
        "colab": {
          "base_uri": "https://localhost:8080/",
          "height": 300
        },
        "id": "L11iYzEhLazc",
        "outputId": "04d741c9-bc92-49fb-a438-d869e986bc74"
      },
      "execution_count": 7,
      "outputs": [
        {
          "output_type": "execute_result",
          "data": {
            "text/plain": [
              "             Current    Temperature        Voltage            SOC\n",
              "count  205487.000000  205487.000000  205487.000000  205487.000000\n",
              "mean       -0.982386      26.986618       3.671003      63.612379\n",
              "std         3.235151       4.558852       0.333070      30.107814\n",
              "min       -21.584965      21.228424       2.500021      -1.126409\n",
              "25%        -0.597347      24.149736       3.477107      38.229693\n",
              "50%        -0.595770      25.002443       3.709827      66.738267\n",
              "75%         0.000000      29.447573       3.987452      94.263880\n",
              "max         3.008812      58.258018       4.200713     100.000000"
            ],
            "text/html": [
              "\n",
              "  <div id=\"df-aea10883-eb02-46a9-b0be-d6a0c74b4e81\">\n",
              "    <div class=\"colab-df-container\">\n",
              "      <div>\n",
              "<style scoped>\n",
              "    .dataframe tbody tr th:only-of-type {\n",
              "        vertical-align: middle;\n",
              "    }\n",
              "\n",
              "    .dataframe tbody tr th {\n",
              "        vertical-align: top;\n",
              "    }\n",
              "\n",
              "    .dataframe thead th {\n",
              "        text-align: right;\n",
              "    }\n",
              "</style>\n",
              "<table border=\"1\" class=\"dataframe\">\n",
              "  <thead>\n",
              "    <tr style=\"text-align: right;\">\n",
              "      <th></th>\n",
              "      <th>Current</th>\n",
              "      <th>Temperature</th>\n",
              "      <th>Voltage</th>\n",
              "      <th>SOC</th>\n",
              "    </tr>\n",
              "  </thead>\n",
              "  <tbody>\n",
              "    <tr>\n",
              "      <th>count</th>\n",
              "      <td>205487.000000</td>\n",
              "      <td>205487.000000</td>\n",
              "      <td>205487.000000</td>\n",
              "      <td>205487.000000</td>\n",
              "    </tr>\n",
              "    <tr>\n",
              "      <th>mean</th>\n",
              "      <td>-0.982386</td>\n",
              "      <td>26.986618</td>\n",
              "      <td>3.671003</td>\n",
              "      <td>63.612379</td>\n",
              "    </tr>\n",
              "    <tr>\n",
              "      <th>std</th>\n",
              "      <td>3.235151</td>\n",
              "      <td>4.558852</td>\n",
              "      <td>0.333070</td>\n",
              "      <td>30.107814</td>\n",
              "    </tr>\n",
              "    <tr>\n",
              "      <th>min</th>\n",
              "      <td>-21.584965</td>\n",
              "      <td>21.228424</td>\n",
              "      <td>2.500021</td>\n",
              "      <td>-1.126409</td>\n",
              "    </tr>\n",
              "    <tr>\n",
              "      <th>25%</th>\n",
              "      <td>-0.597347</td>\n",
              "      <td>24.149736</td>\n",
              "      <td>3.477107</td>\n",
              "      <td>38.229693</td>\n",
              "    </tr>\n",
              "    <tr>\n",
              "      <th>50%</th>\n",
              "      <td>-0.595770</td>\n",
              "      <td>25.002443</td>\n",
              "      <td>3.709827</td>\n",
              "      <td>66.738267</td>\n",
              "    </tr>\n",
              "    <tr>\n",
              "      <th>75%</th>\n",
              "      <td>0.000000</td>\n",
              "      <td>29.447573</td>\n",
              "      <td>3.987452</td>\n",
              "      <td>94.263880</td>\n",
              "    </tr>\n",
              "    <tr>\n",
              "      <th>max</th>\n",
              "      <td>3.008812</td>\n",
              "      <td>58.258018</td>\n",
              "      <td>4.200713</td>\n",
              "      <td>100.000000</td>\n",
              "    </tr>\n",
              "  </tbody>\n",
              "</table>\n",
              "</div>\n",
              "      <button class=\"colab-df-convert\" onclick=\"convertToInteractive('df-aea10883-eb02-46a9-b0be-d6a0c74b4e81')\"\n",
              "              title=\"Convert this dataframe to an interactive table.\"\n",
              "              style=\"display:none;\">\n",
              "        \n",
              "  <svg xmlns=\"http://www.w3.org/2000/svg\" height=\"24px\"viewBox=\"0 0 24 24\"\n",
              "       width=\"24px\">\n",
              "    <path d=\"M0 0h24v24H0V0z\" fill=\"none\"/>\n",
              "    <path d=\"M18.56 5.44l.94 2.06.94-2.06 2.06-.94-2.06-.94-.94-2.06-.94 2.06-2.06.94zm-11 1L8.5 8.5l.94-2.06 2.06-.94-2.06-.94L8.5 2.5l-.94 2.06-2.06.94zm10 10l.94 2.06.94-2.06 2.06-.94-2.06-.94-.94-2.06-.94 2.06-2.06.94z\"/><path d=\"M17.41 7.96l-1.37-1.37c-.4-.4-.92-.59-1.43-.59-.52 0-1.04.2-1.43.59L10.3 9.45l-7.72 7.72c-.78.78-.78 2.05 0 2.83L4 21.41c.39.39.9.59 1.41.59.51 0 1.02-.2 1.41-.59l7.78-7.78 2.81-2.81c.8-.78.8-2.07 0-2.86zM5.41 20L4 18.59l7.72-7.72 1.47 1.35L5.41 20z\"/>\n",
              "  </svg>\n",
              "      </button>\n",
              "      \n",
              "  <style>\n",
              "    .colab-df-container {\n",
              "      display:flex;\n",
              "      flex-wrap:wrap;\n",
              "      gap: 12px;\n",
              "    }\n",
              "\n",
              "    .colab-df-convert {\n",
              "      background-color: #E8F0FE;\n",
              "      border: none;\n",
              "      border-radius: 50%;\n",
              "      cursor: pointer;\n",
              "      display: none;\n",
              "      fill: #1967D2;\n",
              "      height: 32px;\n",
              "      padding: 0 0 0 0;\n",
              "      width: 32px;\n",
              "    }\n",
              "\n",
              "    .colab-df-convert:hover {\n",
              "      background-color: #E2EBFA;\n",
              "      box-shadow: 0px 1px 2px rgba(60, 64, 67, 0.3), 0px 1px 3px 1px rgba(60, 64, 67, 0.15);\n",
              "      fill: #174EA6;\n",
              "    }\n",
              "\n",
              "    [theme=dark] .colab-df-convert {\n",
              "      background-color: #3B4455;\n",
              "      fill: #D2E3FC;\n",
              "    }\n",
              "\n",
              "    [theme=dark] .colab-df-convert:hover {\n",
              "      background-color: #434B5C;\n",
              "      box-shadow: 0px 1px 3px 1px rgba(0, 0, 0, 0.15);\n",
              "      filter: drop-shadow(0px 1px 2px rgba(0, 0, 0, 0.3));\n",
              "      fill: #FFFFFF;\n",
              "    }\n",
              "  </style>\n",
              "\n",
              "      <script>\n",
              "        const buttonEl =\n",
              "          document.querySelector('#df-aea10883-eb02-46a9-b0be-d6a0c74b4e81 button.colab-df-convert');\n",
              "        buttonEl.style.display =\n",
              "          google.colab.kernel.accessAllowed ? 'block' : 'none';\n",
              "\n",
              "        async function convertToInteractive(key) {\n",
              "          const element = document.querySelector('#df-aea10883-eb02-46a9-b0be-d6a0c74b4e81');\n",
              "          const dataTable =\n",
              "            await google.colab.kernel.invokeFunction('convertToInteractive',\n",
              "                                                     [key], {});\n",
              "          if (!dataTable) return;\n",
              "\n",
              "          const docLinkHtml = 'Like what you see? Visit the ' +\n",
              "            '<a target=\"_blank\" href=https://colab.research.google.com/notebooks/data_table.ipynb>data table notebook</a>'\n",
              "            + ' to learn more about interactive tables.';\n",
              "          element.innerHTML = '';\n",
              "          dataTable['output_type'] = 'display_data';\n",
              "          await google.colab.output.renderOutput(dataTable, element);\n",
              "          const docLink = document.createElement('div');\n",
              "          docLink.innerHTML = docLinkHtml;\n",
              "          element.appendChild(docLink);\n",
              "        }\n",
              "      </script>\n",
              "    </div>\n",
              "  </div>\n",
              "  "
            ]
          },
          "metadata": {},
          "execution_count": 7
        }
      ]
    },
    {
      "cell_type": "markdown",
      "source": [
        "### **Data Visualization**\n",
        "\n",
        "In this process, we are going to produce three different types of charts including heatmap, scatter plot, and a distribution plot.\n",
        "\n",
        "(i) **Heatmap**:\n",
        "Heatmaps are very useful to find relations between two variables in a dataset. Heatmap can be easily produced using the ‘heatmap’ function provided by the seaborn package in python."
      ],
      "metadata": {
        "id": "jbgSCxI_L-gz"
      }
    },
    {
      "cell_type": "code",
      "source": [
        "import seaborn as sb # visualization\n",
        "import matplotlib.pyplot as plt # visualization\n",
        "\n",
        "sb.heatmap(df.corr(), annot = True, cmap = 'magma')\n",
        "\n",
        "plt.savefig('heatmap.png')\n",
        "plt.show()"
      ],
      "metadata": {
        "id": "b-qQg-CIMPhT",
        "colab": {
          "base_uri": "https://localhost:8080/",
          "height": 574
        },
        "outputId": "d14db233-1e78-40c8-c596-3620532cd72c"
      },
      "execution_count": 8,
      "outputs": [
        {
          "output_type": "display_data",
          "data": {
            "text/plain": [
              "<Figure size 1440x720 with 2 Axes>"
            ],
            "image/png": "[encoded data removed]"
          },
          "metadata": {}
        }
      ]
    },
    {
      "cell_type": "code",
      "source": [],
      "metadata": {
        "id": "MCiR8MFoAXEL"
      },
      "execution_count": null,
      "outputs": []
    },
    {
      "cell_type": "markdown",
      "source": [
        "## **Feature Selection & Data Split**\n",
        " In this process we are going to define the ‘X’ variable (independent variable) and the ‘Y’ variable (dependent variable). After defining the variables, we will use them to split the data into a train set and test set. Splitting the data can be done using the ‘train_test_split’ function provided by scikit-learn in python."
      ],
      "metadata": {
        "id": "wjtkx-K2OEYu"
      }
    },
    {
      "cell_type": "code",
      "source": [
        "features = ['Current','Temperature','Voltage']\n",
        "X = df.loc[:, features]\n",
        "y = df.loc[:, ['SOC']]"
      ],
      "metadata": {
        "id": "mIC5zqkaK3a4"
      },
      "execution_count": 9,
      "outputs": []
    },
    {
      "cell_type": "code",
      "source": [
        "# \n",
        "X_train, X_test, y_train, y_test = train_test_split(\n",
        "    X, y, test_size=0.2, random_state=1)\n",
        "X_train, X_val, y_train, y_val = train_test_split(\n",
        "    X_train, y_train, test_size=0.25, random_state=1)"
      ],
      "metadata": {
        "id": "hcKCMGbCLEUI"
      },
      "execution_count": 10,
      "outputs": []
    },
    {
      "cell_type": "code",
      "source": [
        "y_val.head()"
      ],
      "metadata": {
        "colab": {
          "base_uri": "https://localhost:8080/",
          "height": 206
        },
        "id": "KsPK_jOq271U",
        "outputId": "5fda7f49-83bd-4a2a-9b22-3dc017270f05"
      },
      "execution_count": 11,
      "outputs": [
        {
          "output_type": "execute_result",
          "data": {
            "text/plain": [
              "               SOC\n",
              "188674   66.959200\n",
              "20745   100.000000\n",
              "157629  100.000000\n",
              "160234   88.685823\n",
              "78674    36.461426"
            ],
            "text/html": [
              "\n",
              "  <div id=\"df-c058eb7e-e0b4-4a8a-bd69-cfe0edc57098\">\n",
              "    <div class=\"colab-df-container\">\n",
              "      <div>\n",
              "<style scoped>\n",
              "    .dataframe tbody tr th:only-of-type {\n",
              "        vertical-align: middle;\n",
              "    }\n",
              "\n",
              "    .dataframe tbody tr th {\n",
              "        vertical-align: top;\n",
              "    }\n",
              "\n",
              "    .dataframe thead th {\n",
              "        text-align: right;\n",
              "    }\n",
              "</style>\n",
              "<table border=\"1\" class=\"dataframe\">\n",
              "  <thead>\n",
              "    <tr style=\"text-align: right;\">\n",
              "      <th></th>\n",
              "      <th>SOC</th>\n",
              "    </tr>\n",
              "  </thead>\n",
              "  <tbody>\n",
              "    <tr>\n",
              "      <th>188674</th>\n",
              "      <td>66.959200</td>\n",
              "    </tr>\n",
              "    <tr>\n",
              "      <th>20745</th>\n",
              "      <td>100.000000</td>\n",
              "    </tr>\n",
              "    <tr>\n",
              "      <th>157629</th>\n",
              "      <td>100.000000</td>\n",
              "    </tr>\n",
              "    <tr>\n",
              "      <th>160234</th>\n",
              "      <td>88.685823</td>\n",
              "    </tr>\n",
              "    <tr>\n",
              "      <th>78674</th>\n",
              "      <td>36.461426</td>\n",
              "    </tr>\n",
              "  </tbody>\n",
              "</table>\n",
              "</div>\n",
              "      <button class=\"colab-df-convert\" onclick=\"convertToInteractive('df-c058eb7e-e0b4-4a8a-bd69-cfe0edc57098')\"\n",
              "              title=\"Convert this dataframe to an interactive table.\"\n",
              "              style=\"display:none;\">\n",
              "        \n",
              "  <svg xmlns=\"http://www.w3.org/2000/svg\" height=\"24px\"viewBox=\"0 0 24 24\"\n",
              "       width=\"24px\">\n",
              "    <path d=\"M0 0h24v24H0V0z\" fill=\"none\"/>\n",
              "    <path d=\"M18.56 5.44l.94 2.06.94-2.06 2.06-.94-2.06-.94-.94-2.06-.94 2.06-2.06.94zm-11 1L8.5 8.5l.94-2.06 2.06-.94-2.06-.94L8.5 2.5l-.94 2.06-2.06.94zm10 10l.94 2.06.94-2.06 2.06-.94-2.06-.94-.94-2.06-.94 2.06-2.06.94z\"/><path d=\"M17.41 7.96l-1.37-1.37c-.4-.4-.92-.59-1.43-.59-.52 0-1.04.2-1.43.59L10.3 9.45l-7.72 7.72c-.78.78-.78 2.05 0 2.83L4 21.41c.39.39.9.59 1.41.59.51 0 1.02-.2 1.41-.59l7.78-7.78 2.81-2.81c.8-.78.8-2.07 0-2.86zM5.41 20L4 18.59l7.72-7.72 1.47 1.35L5.41 20z\"/>\n",
              "  </svg>\n",
              "      </button>\n",
              "      \n",
              "  <style>\n",
              "    .colab-df-container {\n",
              "      display:flex;\n",
              "      flex-wrap:wrap;\n",
              "      gap: 12px;\n",
              "    }\n",
              "\n",
              "    .colab-df-convert {\n",
              "      background-color: #E8F0FE;\n",
              "      border: none;\n",
              "      border-radius: 50%;\n",
              "      cursor: pointer;\n",
              "      display: none;\n",
              "      fill: #1967D2;\n",
              "      height: 32px;\n",
              "      padding: 0 0 0 0;\n",
              "      width: 32px;\n",
              "    }\n",
              "\n",
              "    .colab-df-convert:hover {\n",
              "      background-color: #E2EBFA;\n",
              "      box-shadow: 0px 1px 2px rgba(60, 64, 67, 0.3), 0px 1px 3px 1px rgba(60, 64, 67, 0.15);\n",
              "      fill: #174EA6;\n",
              "    }\n",
              "\n",
              "    [theme=dark] .colab-df-convert {\n",
              "      background-color: #3B4455;\n",
              "      fill: #D2E3FC;\n",
              "    }\n",
              "\n",
              "    [theme=dark] .colab-df-convert:hover {\n",
              "      background-color: #434B5C;\n",
              "      box-shadow: 0px 1px 3px 1px rgba(0, 0, 0, 0.15);\n",
              "      filter: drop-shadow(0px 1px 2px rgba(0, 0, 0, 0.3));\n",
              "      fill: #FFFFFF;\n",
              "    }\n",
              "  </style>\n",
              "\n",
              "      <script>\n",
              "        const buttonEl =\n",
              "          document.querySelector('#df-c058eb7e-e0b4-4a8a-bd69-cfe0edc57098 button.colab-df-convert');\n",
              "        buttonEl.style.display =\n",
              "          google.colab.kernel.accessAllowed ? 'block' : 'none';\n",
              "\n",
              "        async function convertToInteractive(key) {\n",
              "          const element = document.querySelector('#df-c058eb7e-e0b4-4a8a-bd69-cfe0edc57098');\n",
              "          const dataTable =\n",
              "            await google.colab.kernel.invokeFunction('convertToInteractive',\n",
              "                                                     [key], {});\n",
              "          if (!dataTable) return;\n",
              "\n",
              "          const docLinkHtml = 'Like what you see? Visit the ' +\n",
              "            '<a target=\"_blank\" href=https://colab.research.google.com/notebooks/data_table.ipynb>data table notebook</a>'\n",
              "            + ' to learn more about interactive tables.';\n",
              "          element.innerHTML = '';\n",
              "          dataTable['output_type'] = 'display_data';\n",
              "          await google.colab.output.renderOutput(dataTable, element);\n",
              "          const docLink = document.createElement('div');\n",
              "          docLink.innerHTML = docLinkHtml;\n",
              "          element.appendChild(docLink);\n",
              "        }\n",
              "      </script>\n",
              "    </div>\n",
              "  </div>\n",
              "  "
            ]
          },
          "metadata": {},
          "execution_count": 11
        }
      ]
    },
    {
      "cell_type": "markdown",
      "source": [
        "## **Modeling**\n",
        "In this process, we are going to build and train five different types of linear regression models which are the OLS model, Ridge regression model, Lasso regression model, Bayesian regression model, Elastic Net regression model. For all the models, we are going to use the pre-built algorithms provided by the scikit-learn package in python. And the process for all the models are the same, first, we define a variable to store the model algorithm, next, we fit the train set variables into the model, and finally make some predictions in the test set."
      ],
      "metadata": {
        "id": "dB0--OQhOUUh"
      }
    },
    {
      "cell_type": "markdown",
      "metadata": {
        "id": "G1eFszbfHicV"
      },
      "source": [
        "Training the Model"
      ]
    },
    {
      "cell_type": "code",
      "source": [
        "# MODELING\n",
        "\n",
        "# 1. OLS\n",
        "\n",
        "ols = LinearRegression()\n",
        "ols.fit(X_train, y_train)\n",
        "ols_yhat_test = ols.predict(X_test)\n",
        "ols_yhat_val = ols.predict(X_val)\n"
      ],
      "metadata": {
        "id": "LxMs-Q6VN-IQ"
      },
      "execution_count": 12,
      "outputs": []
    },
    {
      "cell_type": "markdown",
      "source": [
        "Using the algorithms provided by scikit-learn, we have successfully built five different linear regression models. Now, to know which model is more appropriate for our data, we can evaluate each of the models using the evaluation metrics and come to a conclusion."
      ],
      "metadata": {
        "id": "C--Lq4ujOgNi"
      }
    },
    {
      "cell_type": "markdown",
      "source": [
        "## **Model Evaluation**\n",
        "To evaluate our model we are going to use the ‘explained_variance_score’ metric and the ‘r2_score’ metric functions which are provided by the scikit-learn package in python.\n",
        "\n",
        "When it comes to the ‘explained_variance_score’ metric, the score should not below 0.60 or 60%. If it is the case, then our built model is not sufficient for our data to solve the given case. So, the ideal score of the ‘explained_variance_score’ should be between 0.60 and 1.0.\n",
        "\n",
        "Our next evaluation metric is the ‘r2_score’ (R-squared) metric. What is R-squared? R-squared is a measurement of how well the dependent variable explains the variance of the independent variable. It is the most popular evaluation metric for regression models. The ideal ‘r2_score’ of a build should be more than 0.70 (at least > 0.60).\n",
        "\n",
        "We are now going to compare the metric scores of each model and choose which model is more suitable for the given dataset."
      ],
      "metadata": {
        "id": "jSMMxMQuOoUu"
      }
    },
    {
      "cell_type": "code",
      "source": [
        "# 1. Explained Variance Score\n",
        "\n",
        "print(cl('EXPLAINED VARIANCE SCORE:', attrs = ['bold']))\n",
        "print('-------------------------------------------------------------------------------')\n",
        "print(cl('Explained Variance Score of OLS model is {}'.format(evs(y_test, ols_yhat_test)), attrs = ['bold']))\n",
        "print('-------------------------------------------------------------------------------')"
      ],
      "metadata": {
        "id": "FaabbrKYOMpi",
        "colab": {
          "base_uri": "https://localhost:8080/"
        },
        "outputId": "3332c4f9-389a-4755-a828-bba1f69bf745"
      },
      "execution_count": 13,
      "outputs": [
        {
          "output_type": "stream",
          "name": "stdout",
          "text": [
            "EXPLAINED VARIANCE SCORE:\n",
            "-------------------------------------------------------------------------------\n",
            "Explained Variance Score of OLS model is 0.7965562927385428\n",
            "-------------------------------------------------------------------------------\n"
          ]
        }
      ]
    },
    {
      "cell_type": "code",
      "source": [
        "# 2. R-squared\n",
        "\n",
        "print(cl('R-SQUARED:', attrs = ['bold']))\n",
        "print('-------------------------------------------------------------------------------')\n",
        "print(cl('R-Squared of OLS model is {}'.format(r2(y_test, ols_yhat_test)), attrs = ['bold']))\n",
        "print('-------------------------------------------------------------------------------')\n"
      ],
      "metadata": {
        "id": "vn9yId5COm1p",
        "colab": {
          "base_uri": "https://localhost:8080/"
        },
        "outputId": "81f5c19f-f69e-4054-e033-dbe0dd7e8680"
      },
      "execution_count": 14,
      "outputs": [
        {
          "output_type": "stream",
          "name": "stdout",
          "text": [
            "R-SQUARED:\n",
            "-------------------------------------------------------------------------------\n",
            "R-Squared of OLS model is 0.7965510297528237\n",
            "-------------------------------------------------------------------------------\n"
          ]
        }
      ]
    },
    {
      "cell_type": "markdown",
      "source": [
        "With Validation Data"
      ],
      "metadata": {
        "id": "qHVGgpzpTFd1"
      }
    },
    {
      "cell_type": "code",
      "source": [
        "# 1. Explained Variance Score\n",
        "\n",
        "print(cl('EXPLAINED VARIANCE SCORE:', attrs = ['bold']))\n",
        "print('-------------------------------------------------------------------------------')\n",
        "print(cl('Explained Variance Score of OLS model is {}'.format(evs(y_val, ols_yhat_val)), attrs = ['bold']))\n",
        "print('-------------------------------------------------------------------------------')\n"
      ],
      "metadata": {
        "id": "pW93VRrLTFBs",
        "outputId": "a0bfdcc4-97af-4c31-9c42-49f896320f7a",
        "colab": {
          "base_uri": "https://localhost:8080/"
        }
      },
      "execution_count": 15,
      "outputs": [
        {
          "output_type": "stream",
          "name": "stdout",
          "text": [
            "EXPLAINED VARIANCE SCORE:\n",
            "-------------------------------------------------------------------------------\n",
            "Explained Variance Score of OLS model is 0.7927307307297852\n",
            "-------------------------------------------------------------------------------\n"
          ]
        }
      ]
    },
    {
      "cell_type": "code",
      "source": [
        "# 2. R-squared\n",
        "\n",
        "print(cl('R-SQUARED:', attrs = ['bold']))\n",
        "print('-------------------------------------------------------------------------------')\n",
        "print(cl('R-Squared of OLS model is {}'.format(r2(y_val, ols_yhat_val)), attrs = ['bold']))\n",
        "print('-------------------------------------------------------------------------------')"
      ],
      "metadata": {
        "id": "PQecemGvTJZK",
        "outputId": "329a0cc5-e193-49f9-fa43-78996243e88d",
        "colab": {
          "base_uri": "https://localhost:8080/"
        }
      },
      "execution_count": 16,
      "outputs": [
        {
          "output_type": "stream",
          "name": "stdout",
          "text": [
            "R-SQUARED:\n",
            "-------------------------------------------------------------------------------\n",
            "R-Squared of OLS model is 0.7927295117263398\n",
            "-------------------------------------------------------------------------------\n"
          ]
        }
      ]
    },
    {
      "cell_type": "markdown",
      "source": [],
      "metadata": {
        "id": "j5Cdjj6lybAb"
      }
    },
    {
      "cell_type": "code",
      "source": [
        "X_test.iloc[0].values.reshape(1,-1)"
      ],
      "metadata": {
        "colab": {
          "base_uri": "https://localhost:8080/"
        },
        "id": "yPnnBH9Q3jQn",
        "outputId": "72babe44-d435-4da8-ed16-bcb7bc1ecddf"
      },
      "execution_count": 17,
      "outputs": [
        {
          "output_type": "execute_result",
          "data": {
            "text/plain": [
              "array([[-0.59655835, 24.126051  ,  3.4905782 ]])"
            ]
          },
          "metadata": {},
          "execution_count": 17
        }
      ]
    },
    {
      "cell_type": "code",
      "source": [
        "ols.predict(X_test.iloc[0].values.reshape(1,-1) )"
      ],
      "metadata": {
        "id": "xZtpDvn9T5FA",
        "colab": {
          "base_uri": "https://localhost:8080/"
        },
        "outputId": "c0a3f7af-fddd-4936-af7e-381625698107"
      },
      "execution_count": 18,
      "outputs": [
        {
          "output_type": "stream",
          "name": "stderr",
          "text": [
            "/usr/local/lib/python3.8/dist-packages/sklearn/base.py:450: UserWarning: X does not have valid feature names, but LinearRegression was fitted with feature names\n",
            "  warnings.warn(\n"
          ]
        },
        {
          "output_type": "execute_result",
          "data": {
            "text/plain": [
              "array([[40.90581569]])"
            ]
          },
          "metadata": {},
          "execution_count": 18
        }
      ]
    },
    {
      "cell_type": "code",
      "source": [
        "y_test.iloc[0]"
      ],
      "metadata": {
        "colab": {
          "base_uri": "https://localhost:8080/"
        },
        "id": "KgR_t6na4I3f",
        "outputId": "17775c82-f103-4ad4-89a6-9506bd20e099"
      },
      "execution_count": 19,
      "outputs": [
        {
          "output_type": "execute_result",
          "data": {
            "text/plain": [
              "SOC    29.494756\n",
              "Name: 177437, dtype: float64"
            ]
          },
          "metadata": {},
          "execution_count": 19
        }
      ]
    },
    {
      "cell_type": "code",
      "source": [],
      "metadata": {
        "id": "cUNTquklG3gf"
      },
      "execution_count": null,
      "outputs": []
    }
  ],
  "metadata": {
    "kernelspec": {
      "display_name": "Python 3 (ipykernel)",
      "language": "python",
      "name": "python3"
    },
    "language_info": {
      "codemirror_mode": {
        "name": "ipython",
        "version": 3
      },
      "file_extension": ".py",
      "mimetype": "text/x-python",
      "name": "python",
      "nbconvert_exporter": "python",
      "pygments_lexer": "ipython3",
      "version": "3.9.7"
    },
    "colab": {
      "provenance": [],
      "include_colab_link": true
    }
  },
  "nbformat": 4,
  "nbformat_minor": 0
}