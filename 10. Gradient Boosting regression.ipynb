{
  "cells": [
    {
      "cell_type": "markdown",
      "metadata": {
        "id": "view-in-github",
        "colab_type": "text"
      },
      "source": [
        "<a href=\"https://colab.research.google.com/github/punjabinuclei/RealTimeBatteryMonitoringSystem/blob/main/10.%20Gradient%20Boosting%20regression.ipynb\" target=\"_parent\"><img src=\"https://colab.research.google.com/assets/colab-badge.svg\" alt=\"Open In Colab\"/></a>"
      ]
    },
    {
      "cell_type": "markdown",
      "source": [
        "\n",
        "# **State of Charge Estimation using Machine Learning** "
      ],
      "metadata": {
        "id": "z2zMZKzEJ68x"
      }
    },
    {
      "cell_type": "markdown",
      "source": [
        "Why linear regression? Linear regression is an algorithm used to predict values that are continuous in nature.\n",
        "\n",
        "To predict the state of charget we are going to use the following linear regression algorithms: Ordinal Least Square (OLS) algorithm, Ridge regression algorithm, Lasso regression algorithm, Bayesian regression algorithm, and lastly Elastic Net regression algorithm."
      ],
      "metadata": {
        "id": "UvXF-AK9KnkL"
      }
    },
    {
      "cell_type": "markdown",
      "metadata": {
        "id": "eeSsJq8fHicJ"
      },
      "source": [
        "# Importing Important Libraries\n",
        "\n",
        "\n"
      ]
    },
    {
      "cell_type": "markdown",
      "source": [
        "Our primary packages for this project are going to be pandas for data processing, NumPy to work with arrays, matplotlib & seaborn for data visualizations, and finally scikit-learn for building an evaluating our ML model. Let’s import all the required packages into our python environment."
      ],
      "metadata": {
        "id": "QSzILxCuLIST"
      }
    },
    {
      "cell_type": "code",
      "execution_count": 15,
      "metadata": {
        "id": "BNnWJTZgHicS"
      },
      "outputs": [],
      "source": [
        "\n",
        "import pandas as pd # data processing\n",
        "import numpy as np # working with arrays\n",
        "import matplotlib.pyplot as plt # visualization\n",
        "import seaborn as sb # visualization\n",
        "from termcolor import colored as cl # text customization\n",
        "\n",
        "from sklearn.model_selection import train_test_split # data split\n",
        "from sklearn.preprocessing import StandardScaler\n",
        "\n",
        "from sklearn.ensemble import GradientBoostingRegressor\n",
        "\n",
        "from sklearn.metrics import explained_variance_score as evs # evaluation metric\n",
        "from sklearn.metrics import r2_score as r2 # evaluation metric\n",
        "\n",
        "sb.set_style('whitegrid') # plot style\n",
        "plt.rcParams['figure.figsize'] = (20, 10)\n",
        "from sklearn import preprocessing # preprocessData"
      ]
    },
    {
      "cell_type": "markdown",
      "source": [
        "# Loading our Dataset"
      ],
      "metadata": {
        "id": "VEFE9czVIyhR"
      }
    },
    {
      "cell_type": "markdown",
      "source": [
        "Using the ‘read_csv’ function provided by the Pandas package, we can import the data into our python environment. After importing the data, we can use the ‘head’ function to get a glimpse of our dataset."
      ],
      "metadata": {
        "id": "9RDNBOL2LPg6"
      }
    },
    {
      "cell_type": "code",
      "execution_count": 16,
      "metadata": {
        "scrolled": true,
        "colab": {
          "base_uri": "https://localhost:8080/",
          "height": 423
        },
        "id": "SJ7BG-B6HicT",
        "outputId": "5465e68b-e55d-46b2-95dc-4a79e1277628"
      },
      "outputs": [
        {
          "output_type": "execute_result",
          "data": {
            "text/plain": [
              "       Voltage   Current  Temperature  Capacity  StandardDeviation  \\\n",
              "0      4.17604  -0.15069     23.97615   2.99746          11.492914   \n",
              "1      4.17014  -0.15069     23.97615   2.99239          11.492369   \n",
              "2      4.16761  -0.15069     23.76583   2.98986          11.388522   \n",
              "3      4.16509  -0.15325     23.66067   2.98732          11.336982   \n",
              "4      4.16273  -0.15325     23.76583   2.98478          11.388420   \n",
              "...        ...       ...          ...       ...                ...   \n",
              "14952  2.80077 -11.13838      8.83332   0.52128           8.443293   \n",
              "14953  2.80010 -10.93406      8.83332   0.52099           8.347490   \n",
              "14954  2.79993 -10.88298      8.83332   0.52099           8.323558   \n",
              "14955  2.80178 -15.74596      8.93848   0.53256          10.664245   \n",
              "14956  2.80027 -14.01173      8.93848   0.53214           9.834418   \n",
              "\n",
              "       DCResistance  MeanofVariables  StateofCharge  \n",
              "0         -0.039153         7.001010      99.915333  \n",
              "1         -0.016789         7.000802      99.746333  \n",
              "2         -0.016444         6.948222      99.662000  \n",
              "3         -0.015400         6.921297      99.577333  \n",
              "4         -0.014600         6.947633      99.492667  \n",
              "...             ...              ...            ...  \n",
              "14952     -0.000061         0.743607      17.376000  \n",
              "14953     -0.000016         0.794593      17.366333  \n",
              "14954      0.000117         0.807320      17.366333  \n",
              "14955     -0.000108        -0.384565      17.752000  \n",
              "14956     -0.000025         0.048720      17.738000  \n",
              "\n",
              "[14957 rows x 8 columns]"
            ],
            "text/html": [
              "\n",
              "  <div id=\"df-6e8e72d4-e62b-4b6b-8999-8b444efbc88c\">\n",
              "    <div class=\"colab-df-container\">\n",
              "      <div>\n",
              "<style scoped>\n",
              "    .dataframe tbody tr th:only-of-type {\n",
              "        vertical-align: middle;\n",
              "    }\n",
              "\n",
              "    .dataframe tbody tr th {\n",
              "        vertical-align: top;\n",
              "    }\n",
              "\n",
              "    .dataframe thead th {\n",
              "        text-align: right;\n",
              "    }\n",
              "</style>\n",
              "<table border=\"1\" class=\"dataframe\">\n",
              "  <thead>\n",
              "    <tr style=\"text-align: right;\">\n",
              "      <th></th>\n",
              "      <th>Voltage</th>\n",
              "      <th>Current</th>\n",
              "      <th>Temperature</th>\n",
              "      <th>Capacity</th>\n",
              "      <th>StandardDeviation</th>\n",
              "      <th>DCResistance</th>\n",
              "      <th>MeanofVariables</th>\n",
              "      <th>StateofCharge</th>\n",
              "    </tr>\n",
              "  </thead>\n",
              "  <tbody>\n",
              "    <tr>\n",
              "      <th>0</th>\n",
              "      <td>4.17604</td>\n",
              "      <td>-0.15069</td>\n",
              "      <td>23.97615</td>\n",
              "      <td>2.99746</td>\n",
              "      <td>11.492914</td>\n",
              "      <td>-0.039153</td>\n",
              "      <td>7.001010</td>\n",
              "      <td>99.915333</td>\n",
              "    </tr>\n",
              "    <tr>\n",
              "      <th>1</th>\n",
              "      <td>4.17014</td>\n",
              "      <td>-0.15069</td>\n",
              "      <td>23.97615</td>\n",
              "      <td>2.99239</td>\n",
              "      <td>11.492369</td>\n",
              "      <td>-0.016789</td>\n",
              "      <td>7.000802</td>\n",
              "      <td>99.746333</td>\n",
              "    </tr>\n",
              "    <tr>\n",
              "      <th>2</th>\n",
              "      <td>4.16761</td>\n",
              "      <td>-0.15069</td>\n",
              "      <td>23.76583</td>\n",
              "      <td>2.98986</td>\n",
              "      <td>11.388522</td>\n",
              "      <td>-0.016444</td>\n",
              "      <td>6.948222</td>\n",
              "      <td>99.662000</td>\n",
              "    </tr>\n",
              "    <tr>\n",
              "      <th>3</th>\n",
              "      <td>4.16509</td>\n",
              "      <td>-0.15325</td>\n",
              "      <td>23.66067</td>\n",
              "      <td>2.98732</td>\n",
              "      <td>11.336982</td>\n",
              "      <td>-0.015400</td>\n",
              "      <td>6.921297</td>\n",
              "      <td>99.577333</td>\n",
              "    </tr>\n",
              "    <tr>\n",
              "      <th>4</th>\n",
              "      <td>4.16273</td>\n",
              "      <td>-0.15325</td>\n",
              "      <td>23.76583</td>\n",
              "      <td>2.98478</td>\n",
              "      <td>11.388420</td>\n",
              "      <td>-0.014600</td>\n",
              "      <td>6.947633</td>\n",
              "      <td>99.492667</td>\n",
              "    </tr>\n",
              "    <tr>\n",
              "      <th>...</th>\n",
              "      <td>...</td>\n",
              "      <td>...</td>\n",
              "      <td>...</td>\n",
              "      <td>...</td>\n",
              "      <td>...</td>\n",
              "      <td>...</td>\n",
              "      <td>...</td>\n",
              "      <td>...</td>\n",
              "    </tr>\n",
              "    <tr>\n",
              "      <th>14952</th>\n",
              "      <td>2.80077</td>\n",
              "      <td>-11.13838</td>\n",
              "      <td>8.83332</td>\n",
              "      <td>0.52128</td>\n",
              "      <td>8.443293</td>\n",
              "      <td>-0.000061</td>\n",
              "      <td>0.743607</td>\n",
              "      <td>17.376000</td>\n",
              "    </tr>\n",
              "    <tr>\n",
              "      <th>14953</th>\n",
              "      <td>2.80010</td>\n",
              "      <td>-10.93406</td>\n",
              "      <td>8.83332</td>\n",
              "      <td>0.52099</td>\n",
              "      <td>8.347490</td>\n",
              "      <td>-0.000016</td>\n",
              "      <td>0.794593</td>\n",
              "      <td>17.366333</td>\n",
              "    </tr>\n",
              "    <tr>\n",
              "      <th>14954</th>\n",
              "      <td>2.79993</td>\n",
              "      <td>-10.88298</td>\n",
              "      <td>8.83332</td>\n",
              "      <td>0.52099</td>\n",
              "      <td>8.323558</td>\n",
              "      <td>0.000117</td>\n",
              "      <td>0.807320</td>\n",
              "      <td>17.366333</td>\n",
              "    </tr>\n",
              "    <tr>\n",
              "      <th>14955</th>\n",
              "      <td>2.80178</td>\n",
              "      <td>-15.74596</td>\n",
              "      <td>8.93848</td>\n",
              "      <td>0.53256</td>\n",
              "      <td>10.664245</td>\n",
              "      <td>-0.000108</td>\n",
              "      <td>-0.384565</td>\n",
              "      <td>17.752000</td>\n",
              "    </tr>\n",
              "    <tr>\n",
              "      <th>14956</th>\n",
              "      <td>2.80027</td>\n",
              "      <td>-14.01173</td>\n",
              "      <td>8.93848</td>\n",
              "      <td>0.53214</td>\n",
              "      <td>9.834418</td>\n",
              "      <td>-0.000025</td>\n",
              "      <td>0.048720</td>\n",
              "      <td>17.738000</td>\n",
              "    </tr>\n",
              "  </tbody>\n",
              "</table>\n",
              "<p>14957 rows × 8 columns</p>\n",
              "</div>\n",
              "      <button class=\"colab-df-convert\" onclick=\"convertToInteractive('df-6e8e72d4-e62b-4b6b-8999-8b444efbc88c')\"\n",
              "              title=\"Convert this dataframe to an interactive table.\"\n",
              "              style=\"display:none;\">\n",
              "        \n",
              "  <svg xmlns=\"http://www.w3.org/2000/svg\" height=\"24px\"viewBox=\"0 0 24 24\"\n",
              "       width=\"24px\">\n",
              "    <path d=\"M0 0h24v24H0V0z\" fill=\"none\"/>\n",
              "    <path d=\"M18.56 5.44l.94 2.06.94-2.06 2.06-.94-2.06-.94-.94-2.06-.94 2.06-2.06.94zm-11 1L8.5 8.5l.94-2.06 2.06-.94-2.06-.94L8.5 2.5l-.94 2.06-2.06.94zm10 10l.94 2.06.94-2.06 2.06-.94-2.06-.94-.94-2.06-.94 2.06-2.06.94z\"/><path d=\"M17.41 7.96l-1.37-1.37c-.4-.4-.92-.59-1.43-.59-.52 0-1.04.2-1.43.59L10.3 9.45l-7.72 7.72c-.78.78-.78 2.05 0 2.83L4 21.41c.39.39.9.59 1.41.59.51 0 1.02-.2 1.41-.59l7.78-7.78 2.81-2.81c.8-.78.8-2.07 0-2.86zM5.41 20L4 18.59l7.72-7.72 1.47 1.35L5.41 20z\"/>\n",
              "  </svg>\n",
              "      </button>\n",
              "      \n",
              "  <style>\n",
              "    .colab-df-container {\n",
              "      display:flex;\n",
              "      flex-wrap:wrap;\n",
              "      gap: 12px;\n",
              "    }\n",
              "\n",
              "    .colab-df-convert {\n",
              "      background-color: #E8F0FE;\n",
              "      border: none;\n",
              "      border-radius: 50%;\n",
              "      cursor: pointer;\n",
              "      display: none;\n",
              "      fill: #1967D2;\n",
              "      height: 32px;\n",
              "      padding: 0 0 0 0;\n",
              "      width: 32px;\n",
              "    }\n",
              "\n",
              "    .colab-df-convert:hover {\n",
              "      background-color: #E2EBFA;\n",
              "      box-shadow: 0px 1px 2px rgba(60, 64, 67, 0.3), 0px 1px 3px 1px rgba(60, 64, 67, 0.15);\n",
              "      fill: #174EA6;\n",
              "    }\n",
              "\n",
              "    [theme=dark] .colab-df-convert {\n",
              "      background-color: #3B4455;\n",
              "      fill: #D2E3FC;\n",
              "    }\n",
              "\n",
              "    [theme=dark] .colab-df-convert:hover {\n",
              "      background-color: #434B5C;\n",
              "      box-shadow: 0px 1px 3px 1px rgba(0, 0, 0, 0.15);\n",
              "      filter: drop-shadow(0px 1px 2px rgba(0, 0, 0, 0.3));\n",
              "      fill: #FFFFFF;\n",
              "    }\n",
              "  </style>\n",
              "\n",
              "      <script>\n",
              "        const buttonEl =\n",
              "          document.querySelector('#df-6e8e72d4-e62b-4b6b-8999-8b444efbc88c button.colab-df-convert');\n",
              "        buttonEl.style.display =\n",
              "          google.colab.kernel.accessAllowed ? 'block' : 'none';\n",
              "\n",
              "        async function convertToInteractive(key) {\n",
              "          const element = document.querySelector('#df-6e8e72d4-e62b-4b6b-8999-8b444efbc88c');\n",
              "          const dataTable =\n",
              "            await google.colab.kernel.invokeFunction('convertToInteractive',\n",
              "                                                     [key], {});\n",
              "          if (!dataTable) return;\n",
              "\n",
              "          const docLinkHtml = 'Like what you see? Visit the ' +\n",
              "            '<a target=\"_blank\" href=https://colab.research.google.com/notebooks/data_table.ipynb>data table notebook</a>'\n",
              "            + ' to learn more about interactive tables.';\n",
              "          element.innerHTML = '';\n",
              "          dataTable['output_type'] = 'display_data';\n",
              "          await google.colab.output.renderOutput(dataTable, element);\n",
              "          const docLink = document.createElement('div');\n",
              "          docLink.innerHTML = docLinkHtml;\n",
              "          element.appendChild(docLink);\n",
              "        }\n",
              "      </script>\n",
              "    </div>\n",
              "  </div>\n",
              "  "
            ]
          },
          "metadata": {},
          "execution_count": 16
        }
      ],
      "source": [
        "df=pd.read_csv(r\"SocFinal.csv\")\n",
        "df=df.dropna()\n",
        "df"
      ]
    },
    {
      "cell_type": "markdown",
      "source": [
        "## **Feature Selection & Data Split**\n",
        " In this process we are going to define the ‘X’ variable (independent variable) and the ‘Y’ variable (dependent variable). After defining the variables, we will use them to split the data into a train set and test set. Splitting the data can be done using the ‘train_test_split’ function provided by scikit-learn in python."
      ],
      "metadata": {
        "id": "wjtkx-K2OEYu"
      }
    },
    {
      "cell_type": "code",
      "source": [
        "features = ['Voltage','Current','Temperature', 'Capacity', 'StandardDeviation', 'DCResistance', 'MeanofVariables']\n",
        "X = df.loc[:, features]\n",
        "y = df.loc[:, ['StateofCharge']]"
      ],
      "metadata": {
        "id": "mIC5zqkaK3a4"
      },
      "execution_count": 9,
      "outputs": []
    },
    {
      "cell_type": "code",
      "source": [
        "# \n",
        "X_train, X_test, y_train, y_test = train_test_split(\n",
        "    X, y, test_size=0.2, random_state=1)\n",
        "X_train, X_val, y_train, y_val = train_test_split(\n",
        "    X_train, y_train, test_size=0.25, random_state=1)"
      ],
      "metadata": {
        "id": "hcKCMGbCLEUI"
      },
      "execution_count": 17,
      "outputs": []
    },
    {
      "cell_type": "markdown",
      "source": [
        "## **Modeling**\n",
        "In this process, we are going to build and train five different types of linear regression models which are the OLS model, Ridge regression model, Lasso regression model, Bayesian regression model, Elastic Net regression model. For all the models, we are going to use the pre-built algorithms provided by the scikit-learn package in python. And the process for all the models are the same, first, we define a variable to store the model algorithm, next, we fit the train set variables into the model, and finally make some predictions in the test set."
      ],
      "metadata": {
        "id": "dB0--OQhOUUh"
      }
    },
    {
      "cell_type": "markdown",
      "metadata": {
        "id": "G1eFszbfHicV"
      },
      "source": [
        "Training the Model"
      ]
    },
    {
      "cell_type": "code",
      "source": [
        "# Instantiate Gradient Boosting Regressor\n",
        "gbr = GradientBoostingRegressor(n_estimators = 200, max_depth = 1, random_state = 1)\n",
        "  \n",
        "# Fit to training set\n",
        "gbr.fit(X_train, y_train)\n",
        "  \n",
        "# Predict on test set\n",
        "gbr_yhat_test= gbr.predict(X_test)\n",
        "\n",
        "# Predict on val set\n",
        "gbr_yhat_val= gbr.predict(X_val)"
      ],
      "metadata": {
        "id": "LxMs-Q6VN-IQ",
        "outputId": "9ca44de5-6b56-49d9-c4a6-c449c97ee73c",
        "colab": {
          "base_uri": "https://localhost:8080/"
        }
      },
      "execution_count": 20,
      "outputs": [
        {
          "output_type": "stream",
          "name": "stderr",
          "text": [
            "/usr/local/lib/python3.8/dist-packages/sklearn/ensemble/_gb.py:494: DataConversionWarning: A column-vector y was passed when a 1d array was expected. Please change the shape of y to (n_samples, ), for example using ravel().\n",
            "  y = column_or_1d(y, warn=True)\n"
          ]
        }
      ]
    },
    {
      "cell_type": "markdown",
      "source": [
        "Using the algorithms provided by scikit-learn, we have successfully built five different linear regression models. Now, to know which model is more appropriate for our data, we can evaluate each of the models using the evaluation metrics and come to a conclusion."
      ],
      "metadata": {
        "id": "C--Lq4ujOgNi"
      }
    },
    {
      "cell_type": "markdown",
      "source": [
        "## **Model Evaluation**\n",
        "To evaluate our model we are going to use the ‘explained_variance_score’ metric and the ‘r2_score’ metric functions which are provided by the scikit-learn package in python.\n",
        "\n",
        "When it comes to the ‘explained_variance_score’ metric, the score should not below 0.60 or 60%. If it is the case, then our built model is not sufficient for our data to solve the given case. So, the ideal score of the ‘explained_variance_score’ should be between 0.60 and 1.0.\n",
        "\n",
        "Our next evaluation metric is the ‘r2_score’ (R-squared) metric. What is R-squared? R-squared is a measurement of how well the dependent variable explains the variance of the independent variable. It is the most popular evaluation metric for regression models. The ideal ‘r2_score’ of a build should be more than 0.70 (at least > 0.60).\n",
        "\n",
        "We are now going to compare the metric scores of each model and choose which model is more suitable for the given dataset."
      ],
      "metadata": {
        "id": "jSMMxMQuOoUu"
      }
    },
    {
      "cell_type": "code",
      "source": [
        "# 1. Explained Variance Score\n",
        "\n",
        "print('-------------------------------------------------------------------------------')\n",
        "print(cl('Explained Variance Score of rgr is {}'.format(evs(y_test, gbr_yhat_test)), attrs = ['bold']))\n",
        "print('-------------------------------------------------------------------------------')"
      ],
      "metadata": {
        "id": "FaabbrKYOMpi",
        "colab": {
          "base_uri": "https://localhost:8080/"
        },
        "outputId": "5564ac98-7b0e-45a1-fcfa-d4ac7fd10210"
      },
      "execution_count": 21,
      "outputs": [
        {
          "output_type": "stream",
          "name": "stdout",
          "text": [
            "-------------------------------------------------------------------------------\n",
            "Explained Variance Score of rgr is 0.9997067156945743\n",
            "-------------------------------------------------------------------------------\n"
          ]
        }
      ]
    },
    {
      "cell_type": "code",
      "source": [
        "# 2. R-squared\n",
        "\n",
        "print('-------------------------------------------------------------------------------')\n",
        "print(cl('R-Squared of gbr model is {}'.format(r2(y_test, gbr_yhat_test)), attrs = ['bold']))\n",
        "print('-------------------------------------------------------------------------------')\n"
      ],
      "metadata": {
        "id": "vn9yId5COm1p",
        "colab": {
          "base_uri": "https://localhost:8080/"
        },
        "outputId": "a548b8ad-2d46-4285-f882-89a1c9feb03c"
      },
      "execution_count": 23,
      "outputs": [
        {
          "output_type": "stream",
          "name": "stdout",
          "text": [
            "-------------------------------------------------------------------------------\n",
            "R-Squared of gbr model is 0.9997065294054692\n",
            "-------------------------------------------------------------------------------\n"
          ]
        }
      ]
    },
    {
      "cell_type": "markdown",
      "source": [
        "With Validation Data"
      ],
      "metadata": {
        "id": "qHVGgpzpTFd1"
      }
    },
    {
      "cell_type": "code",
      "source": [
        "# 1. Explained Variance Score\n",
        "\n",
        "print(cl('Explained Variance Score of gbr model is {}'.format(evs(y_val, gbr_yhat_val)), attrs = ['bold']))\n",
        "print('-------------------------------------------------------------------------------')"
      ],
      "metadata": {
        "id": "pW93VRrLTFBs",
        "outputId": "55f6386d-e1f1-4429-bab3-40982fa68ca7",
        "colab": {
          "base_uri": "https://localhost:8080/"
        }
      },
      "execution_count": 24,
      "outputs": [
        {
          "output_type": "stream",
          "name": "stdout",
          "text": [
            "Explained Variance Score of gbr model is 0.9997084271095571\n",
            "-------------------------------------------------------------------------------\n"
          ]
        }
      ]
    },
    {
      "cell_type": "code",
      "source": [
        "# 2. R-squared\n",
        "\n",
        "print('-------------------------------------------------------------------------------')\n",
        "print(cl('R-Squared of gbr model is {}'.format(r2(y_val, gbr_yhat_val)), attrs = ['bold']))\n",
        "print('-------------------------------------------------------------------------------')\n"
      ],
      "metadata": {
        "id": "PQecemGvTJZK",
        "outputId": "093aa11e-8c4f-4642-8331-94993a016b1d",
        "colab": {
          "base_uri": "https://localhost:8080/"
        }
      },
      "execution_count": 25,
      "outputs": [
        {
          "output_type": "stream",
          "name": "stdout",
          "text": [
            "-------------------------------------------------------------------------------\n",
            "R-Squared of gbr model is 0.9997082442356037\n",
            "-------------------------------------------------------------------------------\n"
          ]
        }
      ]
    },
    {
      "cell_type": "code",
      "source": [
        "X_val.iloc[13].values.reshape(1,-1)"
      ],
      "metadata": {
        "colab": {
          "base_uri": "https://localhost:8080/"
        },
        "id": "yPnnBH9Q3jQn",
        "outputId": "5f611f99-be6b-4b13-d47d-a86a2c181086"
      },
      "execution_count": 29,
      "outputs": [
        {
          "output_type": "execute_result",
          "data": {
            "text/plain": [
              "array([[ 3.69093000e+00, -1.80012200e+01,  3.85931800e+01,\n",
              "         2.62954000e+00,  2.36311288e+01, -3.72000000e-05,\n",
              "         6.16333750e+00]])"
            ]
          },
          "metadata": {},
          "execution_count": 29
        }
      ]
    },
    {
      "cell_type": "code",
      "source": [
        "gbr.predict(X_test.iloc[13].values.reshape(1,-1) )"
      ],
      "metadata": {
        "id": "xZtpDvn9T5FA",
        "colab": {
          "base_uri": "https://localhost:8080/"
        },
        "outputId": "2cd97d7d-72ee-40aa-fe84-c865dd85c494"
      },
      "execution_count": 30,
      "outputs": [
        {
          "output_type": "stream",
          "name": "stderr",
          "text": [
            "/usr/local/lib/python3.8/dist-packages/sklearn/base.py:450: UserWarning: X does not have valid feature names, but GradientBoostingRegressor was fitted with feature names\n",
            "  warnings.warn(\n"
          ]
        },
        {
          "output_type": "execute_result",
          "data": {
            "text/plain": [
              "array([14.83604529])"
            ]
          },
          "metadata": {},
          "execution_count": 30
        }
      ]
    },
    {
      "cell_type": "code",
      "source": [
        "y_test.iloc[13]"
      ],
      "metadata": {
        "colab": {
          "base_uri": "https://localhost:8080/"
        },
        "id": "KgR_t6na4I3f",
        "outputId": "aca039ad-348d-4d0d-ceee-225ec40af53b"
      },
      "execution_count": 31,
      "outputs": [
        {
          "output_type": "execute_result",
          "data": {
            "text/plain": [
              "StateofCharge    14.818667\n",
              "Name: 6057, dtype: float64"
            ]
          },
          "metadata": {},
          "execution_count": 31
        }
      ]
    },
    {
      "cell_type": "code",
      "source": [],
      "metadata": {
        "id": "sUecFjkrJSsA"
      },
      "execution_count": null,
      "outputs": []
    }
  ],
  "metadata": {
    "kernelspec": {
      "display_name": "Python 3 (ipykernel)",
      "language": "python",
      "name": "python3"
    },
    "language_info": {
      "codemirror_mode": {
        "name": "ipython",
        "version": 3
      },
      "file_extension": ".py",
      "mimetype": "text/x-python",
      "name": "python",
      "nbconvert_exporter": "python",
      "pygments_lexer": "ipython3",
      "version": "3.9.7"
    },
    "colab": {
      "provenance": [],
      "include_colab_link": true
    }
  },
  "nbformat": 4,
  "nbformat_minor": 0
}