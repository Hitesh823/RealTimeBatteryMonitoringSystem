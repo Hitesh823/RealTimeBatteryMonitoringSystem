{
  "cells": [
    {
      "cell_type": "markdown",
      "metadata": {
        "id": "view-in-github",
        "colab_type": "text"
      },
      "source": [
        "<a href=\"https://colab.research.google.com/github/punjabinuclei/RealTimeBatteryMonitoringSystem/blob/main/Updated_Linear_Regression_Method.ipynb\" target=\"_parent\"><img src=\"https://colab.research.google.com/assets/colab-badge.svg\" alt=\"Open In Colab\"/></a>"
      ]
    },
    {
      "cell_type": "markdown",
      "source": [
        "\n",
        "# **State of Charge Estimation using Machine Learning** "
      ],
      "metadata": {
        "id": "z2zMZKzEJ68x"
      }
    },
    {
      "cell_type": "markdown",
      "source": [
        "Why linear regression? Linear regression is an algorithm used to predict values that are continuous in nature.\n",
        "\n",
        "To predict the state of charget we are going to use the following linear regression algorithms: Ordinal Least Square (OLS) algorithm, Ridge regression algorithm, Lasso regression algorithm, Bayesian regression algorithm, and lastly Elastic Net regression algorithm."
      ],
      "metadata": {
        "id": "UvXF-AK9KnkL"
      }
    },
    {
      "cell_type": "markdown",
      "metadata": {
        "id": "eeSsJq8fHicJ"
      },
      "source": [
        "# Importing Important Libraries\n",
        "\n",
        "\n"
      ]
    },
    {
      "cell_type": "markdown",
      "source": [
        "Our primary packages for this project are going to be pandas for data processing, NumPy to work with arrays, matplotlib & seaborn for data visualizations, and finally scikit-learn for building an evaluating our ML model. Let’s import all the required packages into our python environment."
      ],
      "metadata": {
        "id": "QSzILxCuLIST"
      }
    },
    {
      "cell_type": "code",
      "execution_count": 1,
      "metadata": {
        "id": "BNnWJTZgHicS"
      },
      "outputs": [],
      "source": [
        "\n",
        "import pandas as pd # data processing\n",
        "import numpy as np # working with arrays\n",
        "import matplotlib.pyplot as plt # visualization\n",
        "import seaborn as sb # visualization\n",
        "from termcolor import colored as cl # text customization\n",
        "\n",
        "from sklearn.model_selection import train_test_split # data split\n",
        "\n",
        "from sklearn.linear_model import LinearRegression # OLS algorithm\n",
        "from sklearn.linear_model import Ridge # Ridge algorithm\n",
        "from sklearn.linear_model import Lasso # Lasso algorithm\n",
        "from sklearn.linear_model import BayesianRidge # Bayesian algorithm\n",
        "from sklearn.linear_model import ElasticNet # ElasticNet algorithm\n",
        "\n",
        "from sklearn.metrics import explained_variance_score as evs # evaluation metric\n",
        "from sklearn.metrics import r2_score as r2 # evaluation metric\n",
        "\n",
        "sb.set_style('whitegrid') # plot style\n",
        "plt.rcParams['figure.figsize'] = (20, 10)\n",
        "from sklearn import preprocessing # preprocessData"
      ]
    },
    {
      "cell_type": "markdown",
      "source": [
        "# Loading our Dataset"
      ],
      "metadata": {
        "id": "VEFE9czVIyhR"
      }
    },
    {
      "cell_type": "markdown",
      "source": [
        "Using the ‘read_csv’ function provided by the Pandas package, we can import the data into our python environment. After importing the data, we can use the ‘head’ function to get a glimpse of our dataset."
      ],
      "metadata": {
        "id": "9RDNBOL2LPg6"
      }
    },
    {
      "cell_type": "code",
      "execution_count": 2,
      "metadata": {
        "scrolled": true,
        "colab": {
          "base_uri": "https://localhost:8080/",
          "height": 423
        },
        "id": "SJ7BG-B6HicT",
        "outputId": "ecb80b70-b1b7-4dd1-9c16-7a6d14d7f6c4"
      },
      "outputs": [
        {
          "output_type": "execute_result",
          "data": {
            "text/plain": [
              "       Voltage   Current  Temperature  Capacity  StandardDeviation  \\\n",
              "0      4.17604  -0.15069     23.97615   2.99746          11.492914   \n",
              "1      4.17014  -0.15069     23.97615   2.99239          11.492369   \n",
              "2      4.16761  -0.15069     23.76583   2.98986          11.388522   \n",
              "3      4.16509  -0.15325     23.66067   2.98732          11.336982   \n",
              "4      4.16273  -0.15325     23.76583   2.98478          11.388420   \n",
              "...        ...       ...          ...       ...                ...   \n",
              "14952  2.80077 -11.13838      8.83332   0.52128           8.443293   \n",
              "14953  2.80010 -10.93406      8.83332   0.52099           8.347490   \n",
              "14954  2.79993 -10.88298      8.83332   0.52099           8.323558   \n",
              "14955  2.80178 -15.74596      8.93848   0.53256          10.664245   \n",
              "14956  2.80027 -14.01173      8.93848   0.53214           9.834418   \n",
              "\n",
              "       DCResistance  MeanofVariables  StateofCharge  \n",
              "0         -0.039153         7.001010      99.915333  \n",
              "1         -0.016789         7.000802      99.746333  \n",
              "2         -0.016444         6.948222      99.662000  \n",
              "3         -0.015400         6.921297      99.577333  \n",
              "4         -0.014600         6.947633      99.492667  \n",
              "...             ...              ...            ...  \n",
              "14952     -0.000061         0.743607      17.376000  \n",
              "14953     -0.000016         0.794593      17.366333  \n",
              "14954      0.000117         0.807320      17.366333  \n",
              "14955     -0.000108        -0.384565      17.752000  \n",
              "14956     -0.000025         0.048720      17.738000  \n",
              "\n",
              "[14957 rows x 8 columns]"
            ],
            "text/html": [
              "\n",
              "  <div id=\"df-74593de2-1089-40ce-836c-d29219066a6f\">\n",
              "    <div class=\"colab-df-container\">\n",
              "      <div>\n",
              "<style scoped>\n",
              "    .dataframe tbody tr th:only-of-type {\n",
              "        vertical-align: middle;\n",
              "    }\n",
              "\n",
              "    .dataframe tbody tr th {\n",
              "        vertical-align: top;\n",
              "    }\n",
              "\n",
              "    .dataframe thead th {\n",
              "        text-align: right;\n",
              "    }\n",
              "</style>\n",
              "<table border=\"1\" class=\"dataframe\">\n",
              "  <thead>\n",
              "    <tr style=\"text-align: right;\">\n",
              "      <th></th>\n",
              "      <th>Voltage</th>\n",
              "      <th>Current</th>\n",
              "      <th>Temperature</th>\n",
              "      <th>Capacity</th>\n",
              "      <th>StandardDeviation</th>\n",
              "      <th>DCResistance</th>\n",
              "      <th>MeanofVariables</th>\n",
              "      <th>StateofCharge</th>\n",
              "    </tr>\n",
              "  </thead>\n",
              "  <tbody>\n",
              "    <tr>\n",
              "      <th>0</th>\n",
              "      <td>4.17604</td>\n",
              "      <td>-0.15069</td>\n",
              "      <td>23.97615</td>\n",
              "      <td>2.99746</td>\n",
              "      <td>11.492914</td>\n",
              "      <td>-0.039153</td>\n",
              "      <td>7.001010</td>\n",
              "      <td>99.915333</td>\n",
              "    </tr>\n",
              "    <tr>\n",
              "      <th>1</th>\n",
              "      <td>4.17014</td>\n",
              "      <td>-0.15069</td>\n",
              "      <td>23.97615</td>\n",
              "      <td>2.99239</td>\n",
              "      <td>11.492369</td>\n",
              "      <td>-0.016789</td>\n",
              "      <td>7.000802</td>\n",
              "      <td>99.746333</td>\n",
              "    </tr>\n",
              "    <tr>\n",
              "      <th>2</th>\n",
              "      <td>4.16761</td>\n",
              "      <td>-0.15069</td>\n",
              "      <td>23.76583</td>\n",
              "      <td>2.98986</td>\n",
              "      <td>11.388522</td>\n",
              "      <td>-0.016444</td>\n",
              "      <td>6.948222</td>\n",
              "      <td>99.662000</td>\n",
              "    </tr>\n",
              "    <tr>\n",
              "      <th>3</th>\n",
              "      <td>4.16509</td>\n",
              "      <td>-0.15325</td>\n",
              "      <td>23.66067</td>\n",
              "      <td>2.98732</td>\n",
              "      <td>11.336982</td>\n",
              "      <td>-0.015400</td>\n",
              "      <td>6.921297</td>\n",
              "      <td>99.577333</td>\n",
              "    </tr>\n",
              "    <tr>\n",
              "      <th>4</th>\n",
              "      <td>4.16273</td>\n",
              "      <td>-0.15325</td>\n",
              "      <td>23.76583</td>\n",
              "      <td>2.98478</td>\n",
              "      <td>11.388420</td>\n",
              "      <td>-0.014600</td>\n",
              "      <td>6.947633</td>\n",
              "      <td>99.492667</td>\n",
              "    </tr>\n",
              "    <tr>\n",
              "      <th>...</th>\n",
              "      <td>...</td>\n",
              "      <td>...</td>\n",
              "      <td>...</td>\n",
              "      <td>...</td>\n",
              "      <td>...</td>\n",
              "      <td>...</td>\n",
              "      <td>...</td>\n",
              "      <td>...</td>\n",
              "    </tr>\n",
              "    <tr>\n",
              "      <th>14952</th>\n",
              "      <td>2.80077</td>\n",
              "      <td>-11.13838</td>\n",
              "      <td>8.83332</td>\n",
              "      <td>0.52128</td>\n",
              "      <td>8.443293</td>\n",
              "      <td>-0.000061</td>\n",
              "      <td>0.743607</td>\n",
              "      <td>17.376000</td>\n",
              "    </tr>\n",
              "    <tr>\n",
              "      <th>14953</th>\n",
              "      <td>2.80010</td>\n",
              "      <td>-10.93406</td>\n",
              "      <td>8.83332</td>\n",
              "      <td>0.52099</td>\n",
              "      <td>8.347490</td>\n",
              "      <td>-0.000016</td>\n",
              "      <td>0.794593</td>\n",
              "      <td>17.366333</td>\n",
              "    </tr>\n",
              "    <tr>\n",
              "      <th>14954</th>\n",
              "      <td>2.79993</td>\n",
              "      <td>-10.88298</td>\n",
              "      <td>8.83332</td>\n",
              "      <td>0.52099</td>\n",
              "      <td>8.323558</td>\n",
              "      <td>0.000117</td>\n",
              "      <td>0.807320</td>\n",
              "      <td>17.366333</td>\n",
              "    </tr>\n",
              "    <tr>\n",
              "      <th>14955</th>\n",
              "      <td>2.80178</td>\n",
              "      <td>-15.74596</td>\n",
              "      <td>8.93848</td>\n",
              "      <td>0.53256</td>\n",
              "      <td>10.664245</td>\n",
              "      <td>-0.000108</td>\n",
              "      <td>-0.384565</td>\n",
              "      <td>17.752000</td>\n",
              "    </tr>\n",
              "    <tr>\n",
              "      <th>14956</th>\n",
              "      <td>2.80027</td>\n",
              "      <td>-14.01173</td>\n",
              "      <td>8.93848</td>\n",
              "      <td>0.53214</td>\n",
              "      <td>9.834418</td>\n",
              "      <td>-0.000025</td>\n",
              "      <td>0.048720</td>\n",
              "      <td>17.738000</td>\n",
              "    </tr>\n",
              "  </tbody>\n",
              "</table>\n",
              "<p>14957 rows × 8 columns</p>\n",
              "</div>\n",
              "      <button class=\"colab-df-convert\" onclick=\"convertToInteractive('df-74593de2-1089-40ce-836c-d29219066a6f')\"\n",
              "              title=\"Convert this dataframe to an interactive table.\"\n",
              "              style=\"display:none;\">\n",
              "        \n",
              "  <svg xmlns=\"http://www.w3.org/2000/svg\" height=\"24px\"viewBox=\"0 0 24 24\"\n",
              "       width=\"24px\">\n",
              "    <path d=\"M0 0h24v24H0V0z\" fill=\"none\"/>\n",
              "    <path d=\"M18.56 5.44l.94 2.06.94-2.06 2.06-.94-2.06-.94-.94-2.06-.94 2.06-2.06.94zm-11 1L8.5 8.5l.94-2.06 2.06-.94-2.06-.94L8.5 2.5l-.94 2.06-2.06.94zm10 10l.94 2.06.94-2.06 2.06-.94-2.06-.94-.94-2.06-.94 2.06-2.06.94z\"/><path d=\"M17.41 7.96l-1.37-1.37c-.4-.4-.92-.59-1.43-.59-.52 0-1.04.2-1.43.59L10.3 9.45l-7.72 7.72c-.78.78-.78 2.05 0 2.83L4 21.41c.39.39.9.59 1.41.59.51 0 1.02-.2 1.41-.59l7.78-7.78 2.81-2.81c.8-.78.8-2.07 0-2.86zM5.41 20L4 18.59l7.72-7.72 1.47 1.35L5.41 20z\"/>\n",
              "  </svg>\n",
              "      </button>\n",
              "      \n",
              "  <style>\n",
              "    .colab-df-container {\n",
              "      display:flex;\n",
              "      flex-wrap:wrap;\n",
              "      gap: 12px;\n",
              "    }\n",
              "\n",
              "    .colab-df-convert {\n",
              "      background-color: #E8F0FE;\n",
              "      border: none;\n",
              "      border-radius: 50%;\n",
              "      cursor: pointer;\n",
              "      display: none;\n",
              "      fill: #1967D2;\n",
              "      height: 32px;\n",
              "      padding: 0 0 0 0;\n",
              "      width: 32px;\n",
              "    }\n",
              "\n",
              "    .colab-df-convert:hover {\n",
              "      background-color: #E2EBFA;\n",
              "      box-shadow: 0px 1px 2px rgba(60, 64, 67, 0.3), 0px 1px 3px 1px rgba(60, 64, 67, 0.15);\n",
              "      fill: #174EA6;\n",
              "    }\n",
              "\n",
              "    [theme=dark] .colab-df-convert {\n",
              "      background-color: #3B4455;\n",
              "      fill: #D2E3FC;\n",
              "    }\n",
              "\n",
              "    [theme=dark] .colab-df-convert:hover {\n",
              "      background-color: #434B5C;\n",
              "      box-shadow: 0px 1px 3px 1px rgba(0, 0, 0, 0.15);\n",
              "      filter: drop-shadow(0px 1px 2px rgba(0, 0, 0, 0.3));\n",
              "      fill: #FFFFFF;\n",
              "    }\n",
              "  </style>\n",
              "\n",
              "      <script>\n",
              "        const buttonEl =\n",
              "          document.querySelector('#df-74593de2-1089-40ce-836c-d29219066a6f button.colab-df-convert');\n",
              "        buttonEl.style.display =\n",
              "          google.colab.kernel.accessAllowed ? 'block' : 'none';\n",
              "\n",
              "        async function convertToInteractive(key) {\n",
              "          const element = document.querySelector('#df-74593de2-1089-40ce-836c-d29219066a6f');\n",
              "          const dataTable =\n",
              "            await google.colab.kernel.invokeFunction('convertToInteractive',\n",
              "                                                     [key], {});\n",
              "          if (!dataTable) return;\n",
              "\n",
              "          const docLinkHtml = 'Like what you see? Visit the ' +\n",
              "            '<a target=\"_blank\" href=https://colab.research.google.com/notebooks/data_table.ipynb>data table notebook</a>'\n",
              "            + ' to learn more about interactive tables.';\n",
              "          element.innerHTML = '';\n",
              "          dataTable['output_type'] = 'display_data';\n",
              "          await google.colab.output.renderOutput(dataTable, element);\n",
              "          const docLink = document.createElement('div');\n",
              "          docLink.innerHTML = docLinkHtml;\n",
              "          element.appendChild(docLink);\n",
              "        }\n",
              "      </script>\n",
              "    </div>\n",
              "  </div>\n",
              "  "
            ]
          },
          "metadata": {},
          "execution_count": 2
        }
      ],
      "source": [
        "df=pd.read_csv(r\"SocFinal.csv\")\n",
        "df=df.dropna()\n",
        "df"
      ]
    },
    {
      "cell_type": "markdown",
      "source": [
        "Now, using the ‘describe’ function we can get a statistical view of the data like mean, median, standard deviation, and so on."
      ],
      "metadata": {
        "id": "OazFABXRLeyt"
      }
    },
    {
      "cell_type": "code",
      "source": [
        "df.describe()"
      ],
      "metadata": {
        "colab": {
          "base_uri": "https://localhost:8080/",
          "height": 300
        },
        "id": "L11iYzEhLazc",
        "outputId": "846dcba0-e6b0-47a2-ac9f-4d29c35a87c0"
      },
      "execution_count": 3,
      "outputs": [
        {
          "output_type": "execute_result",
          "data": {
            "text/plain": [
              "            Voltage       Current   Temperature      Capacity  \\\n",
              "count  14957.000000  14957.000000  14957.000000  14957.000000   \n",
              "mean       3.554937     -8.051821     23.956558      1.770932   \n",
              "std        0.321793      6.020962     11.026994      0.840430   \n",
              "min        2.794530    -18.001220      8.833320      0.219260   \n",
              "25%        3.322290    -11.999110      9.148790      0.968320   \n",
              "50%        3.580020     -5.999560     23.870990      1.792820   \n",
              "75%        3.821390     -3.001060     38.382860      2.638830   \n",
              "max        4.176040     -0.150690     38.698340      3.000000   \n",
              "\n",
              "       StandardDeviation  DCResistance  MeanofVariables  StateofCharge  \n",
              "count       14957.000000  14957.000000     14957.000000   14957.000000  \n",
              "mean           13.864357     -0.000179         5.172185      59.031066  \n",
              "std             5.428575      0.018174         3.141481      28.014331  \n",
              "min             4.824173     -0.075889        -1.186117       7.308667  \n",
              "25%            11.214714     -0.000197         2.599035      32.277333  \n",
              "50%            12.642406     -0.000088         6.056997      59.760667  \n",
              "75%            19.092191     -0.000057         7.256017      87.961000  \n",
              "max            23.642281      0.872670        10.305742     100.000000  "
            ],
            "text/html": [
              "\n",
              "  <div id=\"df-b3b9a432-315d-49c7-81cc-af133f2e9be8\">\n",
              "    <div class=\"colab-df-container\">\n",
              "      <div>\n",
              "<style scoped>\n",
              "    .dataframe tbody tr th:only-of-type {\n",
              "        vertical-align: middle;\n",
              "    }\n",
              "\n",
              "    .dataframe tbody tr th {\n",
              "        vertical-align: top;\n",
              "    }\n",
              "\n",
              "    .dataframe thead th {\n",
              "        text-align: right;\n",
              "    }\n",
              "</style>\n",
              "<table border=\"1\" class=\"dataframe\">\n",
              "  <thead>\n",
              "    <tr style=\"text-align: right;\">\n",
              "      <th></th>\n",
              "      <th>Voltage</th>\n",
              "      <th>Current</th>\n",
              "      <th>Temperature</th>\n",
              "      <th>Capacity</th>\n",
              "      <th>StandardDeviation</th>\n",
              "      <th>DCResistance</th>\n",
              "      <th>MeanofVariables</th>\n",
              "      <th>StateofCharge</th>\n",
              "    </tr>\n",
              "  </thead>\n",
              "  <tbody>\n",
              "    <tr>\n",
              "      <th>count</th>\n",
              "      <td>14957.000000</td>\n",
              "      <td>14957.000000</td>\n",
              "      <td>14957.000000</td>\n",
              "      <td>14957.000000</td>\n",
              "      <td>14957.000000</td>\n",
              "      <td>14957.000000</td>\n",
              "      <td>14957.000000</td>\n",
              "      <td>14957.000000</td>\n",
              "    </tr>\n",
              "    <tr>\n",
              "      <th>mean</th>\n",
              "      <td>3.554937</td>\n",
              "      <td>-8.051821</td>\n",
              "      <td>23.956558</td>\n",
              "      <td>1.770932</td>\n",
              "      <td>13.864357</td>\n",
              "      <td>-0.000179</td>\n",
              "      <td>5.172185</td>\n",
              "      <td>59.031066</td>\n",
              "    </tr>\n",
              "    <tr>\n",
              "      <th>std</th>\n",
              "      <td>0.321793</td>\n",
              "      <td>6.020962</td>\n",
              "      <td>11.026994</td>\n",
              "      <td>0.840430</td>\n",
              "      <td>5.428575</td>\n",
              "      <td>0.018174</td>\n",
              "      <td>3.141481</td>\n",
              "      <td>28.014331</td>\n",
              "    </tr>\n",
              "    <tr>\n",
              "      <th>min</th>\n",
              "      <td>2.794530</td>\n",
              "      <td>-18.001220</td>\n",
              "      <td>8.833320</td>\n",
              "      <td>0.219260</td>\n",
              "      <td>4.824173</td>\n",
              "      <td>-0.075889</td>\n",
              "      <td>-1.186117</td>\n",
              "      <td>7.308667</td>\n",
              "    </tr>\n",
              "    <tr>\n",
              "      <th>25%</th>\n",
              "      <td>3.322290</td>\n",
              "      <td>-11.999110</td>\n",
              "      <td>9.148790</td>\n",
              "      <td>0.968320</td>\n",
              "      <td>11.214714</td>\n",
              "      <td>-0.000197</td>\n",
              "      <td>2.599035</td>\n",
              "      <td>32.277333</td>\n",
              "    </tr>\n",
              "    <tr>\n",
              "      <th>50%</th>\n",
              "      <td>3.580020</td>\n",
              "      <td>-5.999560</td>\n",
              "      <td>23.870990</td>\n",
              "      <td>1.792820</td>\n",
              "      <td>12.642406</td>\n",
              "      <td>-0.000088</td>\n",
              "      <td>6.056997</td>\n",
              "      <td>59.760667</td>\n",
              "    </tr>\n",
              "    <tr>\n",
              "      <th>75%</th>\n",
              "      <td>3.821390</td>\n",
              "      <td>-3.001060</td>\n",
              "      <td>38.382860</td>\n",
              "      <td>2.638830</td>\n",
              "      <td>19.092191</td>\n",
              "      <td>-0.000057</td>\n",
              "      <td>7.256017</td>\n",
              "      <td>87.961000</td>\n",
              "    </tr>\n",
              "    <tr>\n",
              "      <th>max</th>\n",
              "      <td>4.176040</td>\n",
              "      <td>-0.150690</td>\n",
              "      <td>38.698340</td>\n",
              "      <td>3.000000</td>\n",
              "      <td>23.642281</td>\n",
              "      <td>0.872670</td>\n",
              "      <td>10.305742</td>\n",
              "      <td>100.000000</td>\n",
              "    </tr>\n",
              "  </tbody>\n",
              "</table>\n",
              "</div>\n",
              "      <button class=\"colab-df-convert\" onclick=\"convertToInteractive('df-b3b9a432-315d-49c7-81cc-af133f2e9be8')\"\n",
              "              title=\"Convert this dataframe to an interactive table.\"\n",
              "              style=\"display:none;\">\n",
              "        \n",
              "  <svg xmlns=\"http://www.w3.org/2000/svg\" height=\"24px\"viewBox=\"0 0 24 24\"\n",
              "       width=\"24px\">\n",
              "    <path d=\"M0 0h24v24H0V0z\" fill=\"none\"/>\n",
              "    <path d=\"M18.56 5.44l.94 2.06.94-2.06 2.06-.94-2.06-.94-.94-2.06-.94 2.06-2.06.94zm-11 1L8.5 8.5l.94-2.06 2.06-.94-2.06-.94L8.5 2.5l-.94 2.06-2.06.94zm10 10l.94 2.06.94-2.06 2.06-.94-2.06-.94-.94-2.06-.94 2.06-2.06.94z\"/><path d=\"M17.41 7.96l-1.37-1.37c-.4-.4-.92-.59-1.43-.59-.52 0-1.04.2-1.43.59L10.3 9.45l-7.72 7.72c-.78.78-.78 2.05 0 2.83L4 21.41c.39.39.9.59 1.41.59.51 0 1.02-.2 1.41-.59l7.78-7.78 2.81-2.81c.8-.78.8-2.07 0-2.86zM5.41 20L4 18.59l7.72-7.72 1.47 1.35L5.41 20z\"/>\n",
              "  </svg>\n",
              "      </button>\n",
              "      \n",
              "  <style>\n",
              "    .colab-df-container {\n",
              "      display:flex;\n",
              "      flex-wrap:wrap;\n",
              "      gap: 12px;\n",
              "    }\n",
              "\n",
              "    .colab-df-convert {\n",
              "      background-color: #E8F0FE;\n",
              "      border: none;\n",
              "      border-radius: 50%;\n",
              "      cursor: pointer;\n",
              "      display: none;\n",
              "      fill: #1967D2;\n",
              "      height: 32px;\n",
              "      padding: 0 0 0 0;\n",
              "      width: 32px;\n",
              "    }\n",
              "\n",
              "    .colab-df-convert:hover {\n",
              "      background-color: #E2EBFA;\n",
              "      box-shadow: 0px 1px 2px rgba(60, 64, 67, 0.3), 0px 1px 3px 1px rgba(60, 64, 67, 0.15);\n",
              "      fill: #174EA6;\n",
              "    }\n",
              "\n",
              "    [theme=dark] .colab-df-convert {\n",
              "      background-color: #3B4455;\n",
              "      fill: #D2E3FC;\n",
              "    }\n",
              "\n",
              "    [theme=dark] .colab-df-convert:hover {\n",
              "      background-color: #434B5C;\n",
              "      box-shadow: 0px 1px 3px 1px rgba(0, 0, 0, 0.15);\n",
              "      filter: drop-shadow(0px 1px 2px rgba(0, 0, 0, 0.3));\n",
              "      fill: #FFFFFF;\n",
              "    }\n",
              "  </style>\n",
              "\n",
              "      <script>\n",
              "        const buttonEl =\n",
              "          document.querySelector('#df-b3b9a432-315d-49c7-81cc-af133f2e9be8 button.colab-df-convert');\n",
              "        buttonEl.style.display =\n",
              "          google.colab.kernel.accessAllowed ? 'block' : 'none';\n",
              "\n",
              "        async function convertToInteractive(key) {\n",
              "          const element = document.querySelector('#df-b3b9a432-315d-49c7-81cc-af133f2e9be8');\n",
              "          const dataTable =\n",
              "            await google.colab.kernel.invokeFunction('convertToInteractive',\n",
              "                                                     [key], {});\n",
              "          if (!dataTable) return;\n",
              "\n",
              "          const docLinkHtml = 'Like what you see? Visit the ' +\n",
              "            '<a target=\"_blank\" href=https://colab.research.google.com/notebooks/data_table.ipynb>data table notebook</a>'\n",
              "            + ' to learn more about interactive tables.';\n",
              "          element.innerHTML = '';\n",
              "          dataTable['output_type'] = 'display_data';\n",
              "          await google.colab.output.renderOutput(dataTable, element);\n",
              "          const docLink = document.createElement('div');\n",
              "          docLink.innerHTML = docLinkHtml;\n",
              "          element.appendChild(docLink);\n",
              "        }\n",
              "      </script>\n",
              "    </div>\n",
              "  </div>\n",
              "  "
            ]
          },
          "metadata": {},
          "execution_count": 3
        }
      ]
    },
    {
      "cell_type": "markdown",
      "source": [
        "# Normalization of our Dataset\n",
        "The goal of normalization is to transform features to be on a similar scale. This improves the performance and training stability of the model."
      ],
      "metadata": {
        "id": "NoJl699ZDruq"
      }
    },
    {
      "cell_type": "code",
      "source": [
        "df=(df-df.min())/(df.max()-df.min())\n",
        "df.head()"
      ],
      "metadata": {
        "colab": {
          "base_uri": "https://localhost:8080/",
          "height": 206
        },
        "id": "1XciJPAPDYOs",
        "outputId": "db8b385e-bd99-42f5-afac-01fea280aa35"
      },
      "execution_count": 4,
      "outputs": [
        {
          "output_type": "execute_result",
          "data": {
            "text/plain": [
              "    Voltage   Current  Temperature  Capacity  StandardDeviation  DCResistance  \\\n",
              "0  1.000000  1.000000     0.507042  0.999087           0.354379      0.038728   \n",
              "1  0.995729  1.000000     0.507042  0.997263           0.354350      0.062305   \n",
              "2  0.993898  1.000000     0.500000  0.996353           0.348831      0.062669   \n",
              "3  0.992074  0.999857     0.496479  0.995440           0.346093      0.063770   \n",
              "4  0.990366  0.999857     0.500000  0.994527           0.348826      0.064613   \n",
              "\n",
              "   MeanofVariables  StateofCharge  \n",
              "0         0.712428       0.999087  \n",
              "1         0.712410       0.997263  \n",
              "2         0.707835       0.996353  \n",
              "3         0.705492       0.995440  \n",
              "4         0.707784       0.994527  "
            ],
            "text/html": [
              "\n",
              "  <div id=\"df-458f3576-b7c3-4add-835d-18598219ac28\">\n",
              "    <div class=\"colab-df-container\">\n",
              "      <div>\n",
              "<style scoped>\n",
              "    .dataframe tbody tr th:only-of-type {\n",
              "        vertical-align: middle;\n",
              "    }\n",
              "\n",
              "    .dataframe tbody tr th {\n",
              "        vertical-align: top;\n",
              "    }\n",
              "\n",
              "    .dataframe thead th {\n",
              "        text-align: right;\n",
              "    }\n",
              "</style>\n",
              "<table border=\"1\" class=\"dataframe\">\n",
              "  <thead>\n",
              "    <tr style=\"text-align: right;\">\n",
              "      <th></th>\n",
              "      <th>Voltage</th>\n",
              "      <th>Current</th>\n",
              "      <th>Temperature</th>\n",
              "      <th>Capacity</th>\n",
              "      <th>StandardDeviation</th>\n",
              "      <th>DCResistance</th>\n",
              "      <th>MeanofVariables</th>\n",
              "      <th>StateofCharge</th>\n",
              "    </tr>\n",
              "  </thead>\n",
              "  <tbody>\n",
              "    <tr>\n",
              "      <th>0</th>\n",
              "      <td>1.000000</td>\n",
              "      <td>1.000000</td>\n",
              "      <td>0.507042</td>\n",
              "      <td>0.999087</td>\n",
              "      <td>0.354379</td>\n",
              "      <td>0.038728</td>\n",
              "      <td>0.712428</td>\n",
              "      <td>0.999087</td>\n",
              "    </tr>\n",
              "    <tr>\n",
              "      <th>1</th>\n",
              "      <td>0.995729</td>\n",
              "      <td>1.000000</td>\n",
              "      <td>0.507042</td>\n",
              "      <td>0.997263</td>\n",
              "      <td>0.354350</td>\n",
              "      <td>0.062305</td>\n",
              "      <td>0.712410</td>\n",
              "      <td>0.997263</td>\n",
              "    </tr>\n",
              "    <tr>\n",
              "      <th>2</th>\n",
              "      <td>0.993898</td>\n",
              "      <td>1.000000</td>\n",
              "      <td>0.500000</td>\n",
              "      <td>0.996353</td>\n",
              "      <td>0.348831</td>\n",
              "      <td>0.062669</td>\n",
              "      <td>0.707835</td>\n",
              "      <td>0.996353</td>\n",
              "    </tr>\n",
              "    <tr>\n",
              "      <th>3</th>\n",
              "      <td>0.992074</td>\n",
              "      <td>0.999857</td>\n",
              "      <td>0.496479</td>\n",
              "      <td>0.995440</td>\n",
              "      <td>0.346093</td>\n",
              "      <td>0.063770</td>\n",
              "      <td>0.705492</td>\n",
              "      <td>0.995440</td>\n",
              "    </tr>\n",
              "    <tr>\n",
              "      <th>4</th>\n",
              "      <td>0.990366</td>\n",
              "      <td>0.999857</td>\n",
              "      <td>0.500000</td>\n",
              "      <td>0.994527</td>\n",
              "      <td>0.348826</td>\n",
              "      <td>0.064613</td>\n",
              "      <td>0.707784</td>\n",
              "      <td>0.994527</td>\n",
              "    </tr>\n",
              "  </tbody>\n",
              "</table>\n",
              "</div>\n",
              "      <button class=\"colab-df-convert\" onclick=\"convertToInteractive('df-458f3576-b7c3-4add-835d-18598219ac28')\"\n",
              "              title=\"Convert this dataframe to an interactive table.\"\n",
              "              style=\"display:none;\">\n",
              "        \n",
              "  <svg xmlns=\"http://www.w3.org/2000/svg\" height=\"24px\"viewBox=\"0 0 24 24\"\n",
              "       width=\"24px\">\n",
              "    <path d=\"M0 0h24v24H0V0z\" fill=\"none\"/>\n",
              "    <path d=\"M18.56 5.44l.94 2.06.94-2.06 2.06-.94-2.06-.94-.94-2.06-.94 2.06-2.06.94zm-11 1L8.5 8.5l.94-2.06 2.06-.94-2.06-.94L8.5 2.5l-.94 2.06-2.06.94zm10 10l.94 2.06.94-2.06 2.06-.94-2.06-.94-.94-2.06-.94 2.06-2.06.94z\"/><path d=\"M17.41 7.96l-1.37-1.37c-.4-.4-.92-.59-1.43-.59-.52 0-1.04.2-1.43.59L10.3 9.45l-7.72 7.72c-.78.78-.78 2.05 0 2.83L4 21.41c.39.39.9.59 1.41.59.51 0 1.02-.2 1.41-.59l7.78-7.78 2.81-2.81c.8-.78.8-2.07 0-2.86zM5.41 20L4 18.59l7.72-7.72 1.47 1.35L5.41 20z\"/>\n",
              "  </svg>\n",
              "      </button>\n",
              "      \n",
              "  <style>\n",
              "    .colab-df-container {\n",
              "      display:flex;\n",
              "      flex-wrap:wrap;\n",
              "      gap: 12px;\n",
              "    }\n",
              "\n",
              "    .colab-df-convert {\n",
              "      background-color: #E8F0FE;\n",
              "      border: none;\n",
              "      border-radius: 50%;\n",
              "      cursor: pointer;\n",
              "      display: none;\n",
              "      fill: #1967D2;\n",
              "      height: 32px;\n",
              "      padding: 0 0 0 0;\n",
              "      width: 32px;\n",
              "    }\n",
              "\n",
              "    .colab-df-convert:hover {\n",
              "      background-color: #E2EBFA;\n",
              "      box-shadow: 0px 1px 2px rgba(60, 64, 67, 0.3), 0px 1px 3px 1px rgba(60, 64, 67, 0.15);\n",
              "      fill: #174EA6;\n",
              "    }\n",
              "\n",
              "    [theme=dark] .colab-df-convert {\n",
              "      background-color: #3B4455;\n",
              "      fill: #D2E3FC;\n",
              "    }\n",
              "\n",
              "    [theme=dark] .colab-df-convert:hover {\n",
              "      background-color: #434B5C;\n",
              "      box-shadow: 0px 1px 3px 1px rgba(0, 0, 0, 0.15);\n",
              "      filter: drop-shadow(0px 1px 2px rgba(0, 0, 0, 0.3));\n",
              "      fill: #FFFFFF;\n",
              "    }\n",
              "  </style>\n",
              "\n",
              "      <script>\n",
              "        const buttonEl =\n",
              "          document.querySelector('#df-458f3576-b7c3-4add-835d-18598219ac28 button.colab-df-convert');\n",
              "        buttonEl.style.display =\n",
              "          google.colab.kernel.accessAllowed ? 'block' : 'none';\n",
              "\n",
              "        async function convertToInteractive(key) {\n",
              "          const element = document.querySelector('#df-458f3576-b7c3-4add-835d-18598219ac28');\n",
              "          const dataTable =\n",
              "            await google.colab.kernel.invokeFunction('convertToInteractive',\n",
              "                                                     [key], {});\n",
              "          if (!dataTable) return;\n",
              "\n",
              "          const docLinkHtml = 'Like what you see? Visit the ' +\n",
              "            '<a target=\"_blank\" href=https://colab.research.google.com/notebooks/data_table.ipynb>data table notebook</a>'\n",
              "            + ' to learn more about interactive tables.';\n",
              "          element.innerHTML = '';\n",
              "          dataTable['output_type'] = 'display_data';\n",
              "          await google.colab.output.renderOutput(dataTable, element);\n",
              "          const docLink = document.createElement('div');\n",
              "          docLink.innerHTML = docLinkHtml;\n",
              "          element.appendChild(docLink);\n",
              "        }\n",
              "      </script>\n",
              "    </div>\n",
              "  </div>\n",
              "  "
            ]
          },
          "metadata": {},
          "execution_count": 4
        }
      ]
    },
    {
      "cell_type": "code",
      "source": [
        "df= df[df['Voltage'] != 0]\n",
        "df= df[df['Current'] != 0]\n",
        "df= df[df['Temperature'] != 0]\n",
        "df= df[df['Capacity'] != 0]\n",
        "df= df[df['DCResistance'] != 0]\n",
        "df= df[df['MeanofVariables'] != 0]\n",
        "df= df[df['StateofCharge'] != 0]\n",
        "df.head()"
      ],
      "metadata": {
        "colab": {
          "base_uri": "https://localhost:8080/",
          "height": 206
        },
        "id": "jHyjMDexG8Fi",
        "outputId": "15d16dc6-2980-4c72-b75c-d50bb40573dd"
      },
      "execution_count": 5,
      "outputs": [
        {
          "output_type": "execute_result",
          "data": {
            "text/plain": [
              "    Voltage   Current  Temperature  Capacity  StandardDeviation  DCResistance  \\\n",
              "0  1.000000  1.000000     0.507042  0.999087           0.354379      0.038728   \n",
              "1  0.995729  1.000000     0.507042  0.997263           0.354350      0.062305   \n",
              "2  0.993898  1.000000     0.500000  0.996353           0.348831      0.062669   \n",
              "3  0.992074  0.999857     0.496479  0.995440           0.346093      0.063770   \n",
              "4  0.990366  0.999857     0.500000  0.994527           0.348826      0.064613   \n",
              "\n",
              "   MeanofVariables  StateofCharge  \n",
              "0         0.712428       0.999087  \n",
              "1         0.712410       0.997263  \n",
              "2         0.707835       0.996353  \n",
              "3         0.705492       0.995440  \n",
              "4         0.707784       0.994527  "
            ],
            "text/html": [
              "\n",
              "  <div id=\"df-59bd92f9-c1f9-456e-891b-18696de10328\">\n",
              "    <div class=\"colab-df-container\">\n",
              "      <div>\n",
              "<style scoped>\n",
              "    .dataframe tbody tr th:only-of-type {\n",
              "        vertical-align: middle;\n",
              "    }\n",
              "\n",
              "    .dataframe tbody tr th {\n",
              "        vertical-align: top;\n",
              "    }\n",
              "\n",
              "    .dataframe thead th {\n",
              "        text-align: right;\n",
              "    }\n",
              "</style>\n",
              "<table border=\"1\" class=\"dataframe\">\n",
              "  <thead>\n",
              "    <tr style=\"text-align: right;\">\n",
              "      <th></th>\n",
              "      <th>Voltage</th>\n",
              "      <th>Current</th>\n",
              "      <th>Temperature</th>\n",
              "      <th>Capacity</th>\n",
              "      <th>StandardDeviation</th>\n",
              "      <th>DCResistance</th>\n",
              "      <th>MeanofVariables</th>\n",
              "      <th>StateofCharge</th>\n",
              "    </tr>\n",
              "  </thead>\n",
              "  <tbody>\n",
              "    <tr>\n",
              "      <th>0</th>\n",
              "      <td>1.000000</td>\n",
              "      <td>1.000000</td>\n",
              "      <td>0.507042</td>\n",
              "      <td>0.999087</td>\n",
              "      <td>0.354379</td>\n",
              "      <td>0.038728</td>\n",
              "      <td>0.712428</td>\n",
              "      <td>0.999087</td>\n",
              "    </tr>\n",
              "    <tr>\n",
              "      <th>1</th>\n",
              "      <td>0.995729</td>\n",
              "      <td>1.000000</td>\n",
              "      <td>0.507042</td>\n",
              "      <td>0.997263</td>\n",
              "      <td>0.354350</td>\n",
              "      <td>0.062305</td>\n",
              "      <td>0.712410</td>\n",
              "      <td>0.997263</td>\n",
              "    </tr>\n",
              "    <tr>\n",
              "      <th>2</th>\n",
              "      <td>0.993898</td>\n",
              "      <td>1.000000</td>\n",
              "      <td>0.500000</td>\n",
              "      <td>0.996353</td>\n",
              "      <td>0.348831</td>\n",
              "      <td>0.062669</td>\n",
              "      <td>0.707835</td>\n",
              "      <td>0.996353</td>\n",
              "    </tr>\n",
              "    <tr>\n",
              "      <th>3</th>\n",
              "      <td>0.992074</td>\n",
              "      <td>0.999857</td>\n",
              "      <td>0.496479</td>\n",
              "      <td>0.995440</td>\n",
              "      <td>0.346093</td>\n",
              "      <td>0.063770</td>\n",
              "      <td>0.705492</td>\n",
              "      <td>0.995440</td>\n",
              "    </tr>\n",
              "    <tr>\n",
              "      <th>4</th>\n",
              "      <td>0.990366</td>\n",
              "      <td>0.999857</td>\n",
              "      <td>0.500000</td>\n",
              "      <td>0.994527</td>\n",
              "      <td>0.348826</td>\n",
              "      <td>0.064613</td>\n",
              "      <td>0.707784</td>\n",
              "      <td>0.994527</td>\n",
              "    </tr>\n",
              "  </tbody>\n",
              "</table>\n",
              "</div>\n",
              "      <button class=\"colab-df-convert\" onclick=\"convertToInteractive('df-59bd92f9-c1f9-456e-891b-18696de10328')\"\n",
              "              title=\"Convert this dataframe to an interactive table.\"\n",
              "              style=\"display:none;\">\n",
              "        \n",
              "  <svg xmlns=\"http://www.w3.org/2000/svg\" height=\"24px\"viewBox=\"0 0 24 24\"\n",
              "       width=\"24px\">\n",
              "    <path d=\"M0 0h24v24H0V0z\" fill=\"none\"/>\n",
              "    <path d=\"M18.56 5.44l.94 2.06.94-2.06 2.06-.94-2.06-.94-.94-2.06-.94 2.06-2.06.94zm-11 1L8.5 8.5l.94-2.06 2.06-.94-2.06-.94L8.5 2.5l-.94 2.06-2.06.94zm10 10l.94 2.06.94-2.06 2.06-.94-2.06-.94-.94-2.06-.94 2.06-2.06.94z\"/><path d=\"M17.41 7.96l-1.37-1.37c-.4-.4-.92-.59-1.43-.59-.52 0-1.04.2-1.43.59L10.3 9.45l-7.72 7.72c-.78.78-.78 2.05 0 2.83L4 21.41c.39.39.9.59 1.41.59.51 0 1.02-.2 1.41-.59l7.78-7.78 2.81-2.81c.8-.78.8-2.07 0-2.86zM5.41 20L4 18.59l7.72-7.72 1.47 1.35L5.41 20z\"/>\n",
              "  </svg>\n",
              "      </button>\n",
              "      \n",
              "  <style>\n",
              "    .colab-df-container {\n",
              "      display:flex;\n",
              "      flex-wrap:wrap;\n",
              "      gap: 12px;\n",
              "    }\n",
              "\n",
              "    .colab-df-convert {\n",
              "      background-color: #E8F0FE;\n",
              "      border: none;\n",
              "      border-radius: 50%;\n",
              "      cursor: pointer;\n",
              "      display: none;\n",
              "      fill: #1967D2;\n",
              "      height: 32px;\n",
              "      padding: 0 0 0 0;\n",
              "      width: 32px;\n",
              "    }\n",
              "\n",
              "    .colab-df-convert:hover {\n",
              "      background-color: #E2EBFA;\n",
              "      box-shadow: 0px 1px 2px rgba(60, 64, 67, 0.3), 0px 1px 3px 1px rgba(60, 64, 67, 0.15);\n",
              "      fill: #174EA6;\n",
              "    }\n",
              "\n",
              "    [theme=dark] .colab-df-convert {\n",
              "      background-color: #3B4455;\n",
              "      fill: #D2E3FC;\n",
              "    }\n",
              "\n",
              "    [theme=dark] .colab-df-convert:hover {\n",
              "      background-color: #434B5C;\n",
              "      box-shadow: 0px 1px 3px 1px rgba(0, 0, 0, 0.15);\n",
              "      filter: drop-shadow(0px 1px 2px rgba(0, 0, 0, 0.3));\n",
              "      fill: #FFFFFF;\n",
              "    }\n",
              "  </style>\n",
              "\n",
              "      <script>\n",
              "        const buttonEl =\n",
              "          document.querySelector('#df-59bd92f9-c1f9-456e-891b-18696de10328 button.colab-df-convert');\n",
              "        buttonEl.style.display =\n",
              "          google.colab.kernel.accessAllowed ? 'block' : 'none';\n",
              "\n",
              "        async function convertToInteractive(key) {\n",
              "          const element = document.querySelector('#df-59bd92f9-c1f9-456e-891b-18696de10328');\n",
              "          const dataTable =\n",
              "            await google.colab.kernel.invokeFunction('convertToInteractive',\n",
              "                                                     [key], {});\n",
              "          if (!dataTable) return;\n",
              "\n",
              "          const docLinkHtml = 'Like what you see? Visit the ' +\n",
              "            '<a target=\"_blank\" href=https://colab.research.google.com/notebooks/data_table.ipynb>data table notebook</a>'\n",
              "            + ' to learn more about interactive tables.';\n",
              "          element.innerHTML = '';\n",
              "          dataTable['output_type'] = 'display_data';\n",
              "          await google.colab.output.renderOutput(dataTable, element);\n",
              "          const docLink = document.createElement('div');\n",
              "          docLink.innerHTML = docLinkHtml;\n",
              "          element.appendChild(docLink);\n",
              "        }\n",
              "      </script>\n",
              "    </div>\n",
              "  </div>\n",
              "  "
            ]
          },
          "metadata": {},
          "execution_count": 5
        }
      ]
    },
    {
      "cell_type": "markdown",
      "source": [
        "### **Data Visualization**\n",
        "\n",
        "In this process, we are going to produce three different types of charts including heatmap, scatter plot, and a distribution plot.\n",
        "\n",
        "(i) **Heatmap**:\n",
        "Heatmaps are very useful to find relations between two variables in a dataset. Heatmap can be easily produced using the ‘heatmap’ function provided by the seaborn package in python."
      ],
      "metadata": {
        "id": "jbgSCxI_L-gz"
      }
    },
    {
      "cell_type": "code",
      "source": [
        "import seaborn as sb # visualization\n",
        "import matplotlib.pyplot as plt # visualization\n",
        "\n",
        "sb.heatmap(df.corr(), annot = True, cmap = 'magma')\n",
        "\n",
        "plt.savefig('heatmap.png')\n",
        "plt.show()"
      ],
      "metadata": {
        "id": "b-qQg-CIMPhT",
        "colab": {
          "base_uri": "https://localhost:8080/",
          "height": 546
        },
        "outputId": "ec6cab6c-3841-4835-aa1e-2351a2f097a6"
      },
      "execution_count": 6,
      "outputs": [
        {
          "output_type": "display_data",
          "data": {
            "text/plain": [
              "<Figure size 1440x720 with 2 Axes>"
            ],
            "image/png": "[encoded data removed]"
          },
          "metadata": {}
        }
      ]
    },
    {
      "cell_type": "code",
      "source": [],
      "metadata": {
        "id": "MCiR8MFoAXEL"
      },
      "execution_count": 6,
      "outputs": []
    },
    {
      "cell_type": "markdown",
      "source": [
        "## **Feature Selection & Data Split**\n",
        " In this process we are going to define the ‘X’ variable (independent variable) and the ‘Y’ variable (dependent variable). After defining the variables, we will use them to split the data into a train set and test set. Splitting the data can be done using the ‘train_test_split’ function provided by scikit-learn in python."
      ],
      "metadata": {
        "id": "wjtkx-K2OEYu"
      }
    },
    {
      "cell_type": "code",
      "source": [
        "features = ['Voltage','Current','Temperature', 'Capacity', 'StandardDeviation', 'DCResistance', 'MeanofVariables']\n",
        "X = df.loc[:, features]\n",
        "y = df.loc[:, ['StateofCharge']]"
      ],
      "metadata": {
        "id": "mIC5zqkaK3a4"
      },
      "execution_count": 7,
      "outputs": []
    },
    {
      "cell_type": "code",
      "source": [
        "# \n",
        "X_train, X_test, y_train, y_test = train_test_split(\n",
        "    X, y, test_size=0.2, random_state=1)\n",
        "X_train, X_val, y_train, y_val = train_test_split(\n",
        "    X_train, y_train, test_size=0.25, random_state=1)"
      ],
      "metadata": {
        "id": "hcKCMGbCLEUI"
      },
      "execution_count": 8,
      "outputs": []
    },
    {
      "cell_type": "code",
      "source": [
        "y_val.head()"
      ],
      "metadata": {
        "colab": {
          "base_uri": "https://localhost:8080/",
          "height": 206
        },
        "id": "KsPK_jOq271U",
        "outputId": "0e380bb1-edd3-4a6a-a076-af014170376a"
      },
      "execution_count": 9,
      "outputs": [
        {
          "output_type": "execute_result",
          "data": {
            "text/plain": [
              "       StateofCharge\n",
              "11594       0.920251\n",
              "10464       0.121011\n",
              "4298        0.455469\n",
              "11693       0.893453\n",
              "3938        0.548893"
            ],
            "text/html": [
              "\n",
              "  <div id=\"df-45f48fad-9921-4179-bbda-885622290dbf\">\n",
              "    <div class=\"colab-df-container\">\n",
              "      <div>\n",
              "<style scoped>\n",
              "    .dataframe tbody tr th:only-of-type {\n",
              "        vertical-align: middle;\n",
              "    }\n",
              "\n",
              "    .dataframe tbody tr th {\n",
              "        vertical-align: top;\n",
              "    }\n",
              "\n",
              "    .dataframe thead th {\n",
              "        text-align: right;\n",
              "    }\n",
              "</style>\n",
              "<table border=\"1\" class=\"dataframe\">\n",
              "  <thead>\n",
              "    <tr style=\"text-align: right;\">\n",
              "      <th></th>\n",
              "      <th>StateofCharge</th>\n",
              "    </tr>\n",
              "  </thead>\n",
              "  <tbody>\n",
              "    <tr>\n",
              "      <th>11594</th>\n",
              "      <td>0.920251</td>\n",
              "    </tr>\n",
              "    <tr>\n",
              "      <th>10464</th>\n",
              "      <td>0.121011</td>\n",
              "    </tr>\n",
              "    <tr>\n",
              "      <th>4298</th>\n",
              "      <td>0.455469</td>\n",
              "    </tr>\n",
              "    <tr>\n",
              "      <th>11693</th>\n",
              "      <td>0.893453</td>\n",
              "    </tr>\n",
              "    <tr>\n",
              "      <th>3938</th>\n",
              "      <td>0.548893</td>\n",
              "    </tr>\n",
              "  </tbody>\n",
              "</table>\n",
              "</div>\n",
              "      <button class=\"colab-df-convert\" onclick=\"convertToInteractive('df-45f48fad-9921-4179-bbda-885622290dbf')\"\n",
              "              title=\"Convert this dataframe to an interactive table.\"\n",
              "              style=\"display:none;\">\n",
              "        \n",
              "  <svg xmlns=\"http://www.w3.org/2000/svg\" height=\"24px\"viewBox=\"0 0 24 24\"\n",
              "       width=\"24px\">\n",
              "    <path d=\"M0 0h24v24H0V0z\" fill=\"none\"/>\n",
              "    <path d=\"M18.56 5.44l.94 2.06.94-2.06 2.06-.94-2.06-.94-.94-2.06-.94 2.06-2.06.94zm-11 1L8.5 8.5l.94-2.06 2.06-.94-2.06-.94L8.5 2.5l-.94 2.06-2.06.94zm10 10l.94 2.06.94-2.06 2.06-.94-2.06-.94-.94-2.06-.94 2.06-2.06.94z\"/><path d=\"M17.41 7.96l-1.37-1.37c-.4-.4-.92-.59-1.43-.59-.52 0-1.04.2-1.43.59L10.3 9.45l-7.72 7.72c-.78.78-.78 2.05 0 2.83L4 21.41c.39.39.9.59 1.41.59.51 0 1.02-.2 1.41-.59l7.78-7.78 2.81-2.81c.8-.78.8-2.07 0-2.86zM5.41 20L4 18.59l7.72-7.72 1.47 1.35L5.41 20z\"/>\n",
              "  </svg>\n",
              "      </button>\n",
              "      \n",
              "  <style>\n",
              "    .colab-df-container {\n",
              "      display:flex;\n",
              "      flex-wrap:wrap;\n",
              "      gap: 12px;\n",
              "    }\n",
              "\n",
              "    .colab-df-convert {\n",
              "      background-color: #E8F0FE;\n",
              "      border: none;\n",
              "      border-radius: 50%;\n",
              "      cursor: pointer;\n",
              "      display: none;\n",
              "      fill: #1967D2;\n",
              "      height: 32px;\n",
              "      padding: 0 0 0 0;\n",
              "      width: 32px;\n",
              "    }\n",
              "\n",
              "    .colab-df-convert:hover {\n",
              "      background-color: #E2EBFA;\n",
              "      box-shadow: 0px 1px 2px rgba(60, 64, 67, 0.3), 0px 1px 3px 1px rgba(60, 64, 67, 0.15);\n",
              "      fill: #174EA6;\n",
              "    }\n",
              "\n",
              "    [theme=dark] .colab-df-convert {\n",
              "      background-color: #3B4455;\n",
              "      fill: #D2E3FC;\n",
              "    }\n",
              "\n",
              "    [theme=dark] .colab-df-convert:hover {\n",
              "      background-color: #434B5C;\n",
              "      box-shadow: 0px 1px 3px 1px rgba(0, 0, 0, 0.15);\n",
              "      filter: drop-shadow(0px 1px 2px rgba(0, 0, 0, 0.3));\n",
              "      fill: #FFFFFF;\n",
              "    }\n",
              "  </style>\n",
              "\n",
              "      <script>\n",
              "        const buttonEl =\n",
              "          document.querySelector('#df-45f48fad-9921-4179-bbda-885622290dbf button.colab-df-convert');\n",
              "        buttonEl.style.display =\n",
              "          google.colab.kernel.accessAllowed ? 'block' : 'none';\n",
              "\n",
              "        async function convertToInteractive(key) {\n",
              "          const element = document.querySelector('#df-45f48fad-9921-4179-bbda-885622290dbf');\n",
              "          const dataTable =\n",
              "            await google.colab.kernel.invokeFunction('convertToInteractive',\n",
              "                                                     [key], {});\n",
              "          if (!dataTable) return;\n",
              "\n",
              "          const docLinkHtml = 'Like what you see? Visit the ' +\n",
              "            '<a target=\"_blank\" href=https://colab.research.google.com/notebooks/data_table.ipynb>data table notebook</a>'\n",
              "            + ' to learn more about interactive tables.';\n",
              "          element.innerHTML = '';\n",
              "          dataTable['output_type'] = 'display_data';\n",
              "          await google.colab.output.renderOutput(dataTable, element);\n",
              "          const docLink = document.createElement('div');\n",
              "          docLink.innerHTML = docLinkHtml;\n",
              "          element.appendChild(docLink);\n",
              "        }\n",
              "      </script>\n",
              "    </div>\n",
              "  </div>\n",
              "  "
            ]
          },
          "metadata": {},
          "execution_count": 9
        }
      ]
    },
    {
      "cell_type": "markdown",
      "source": [
        "## **Modeling**\n",
        "In this process, we are going to build and train five different types of linear regression models which are the OLS model, Ridge regression model, Lasso regression model, Bayesian regression model, Elastic Net regression model. For all the models, we are going to use the pre-built algorithms provided by the scikit-learn package in python. And the process for all the models are the same, first, we define a variable to store the model algorithm, next, we fit the train set variables into the model, and finally make some predictions in the test set."
      ],
      "metadata": {
        "id": "dB0--OQhOUUh"
      }
    },
    {
      "cell_type": "markdown",
      "metadata": {
        "id": "G1eFszbfHicV"
      },
      "source": [
        "Training the Model"
      ]
    },
    {
      "cell_type": "code",
      "source": [
        "# MODELING\n",
        "\n",
        "# 1. OLS\n",
        "\n",
        "ols = LinearRegression()\n",
        "ols.fit(X_train, y_train)\n",
        "ols_yhat = ols.predict(X_test)\n",
        "\n",
        "# 2. Ridge\n",
        "\n",
        "ridge = Ridge(alpha = 0.5)\n",
        "ridge.fit(X_train, y_train)\n",
        "ridge_yhat = ridge.predict(X_test)\n",
        "\n",
        "# 3. Lasso\n",
        "\n",
        "lasso = Lasso(alpha = 0.01)\n",
        "lasso.fit(X_train, y_train)\n",
        "lasso_yhat = lasso.predict(X_test)\n",
        "\n",
        "# 4. Bayesian\n",
        "\n",
        "bayesian = BayesianRidge()\n",
        "bayesian.fit(X_train, y_train)\n",
        "bayesian_yhat = bayesian.predict(X_test)\n",
        "\n",
        "# 5. ElasticNet\n",
        "\n",
        "en = ElasticNet(alpha = 0.01)\n",
        "en.fit(X_train, y_train)\n",
        "en_yhat = en.predict(X_test)"
      ],
      "metadata": {
        "id": "LxMs-Q6VN-IQ",
        "colab": {
          "base_uri": "https://localhost:8080/"
        },
        "outputId": "58cf5b46-1eb0-4161-d7f9-04f31168d9e7"
      },
      "execution_count": 10,
      "outputs": [
        {
          "output_type": "stream",
          "name": "stderr",
          "text": [
            "/usr/local/lib/python3.8/dist-packages/sklearn/utils/validation.py:993: DataConversionWarning: A column-vector y was passed when a 1d array was expected. Please change the shape of y to (n_samples, ), for example using ravel().\n",
            "  y = column_or_1d(y, warn=True)\n"
          ]
        }
      ]
    },
    {
      "cell_type": "markdown",
      "source": [
        "Using the algorithms provided by scikit-learn, we have successfully built five different linear regression models. Now, to know which model is more appropriate for our data, we can evaluate each of the models using the evaluation metrics and come to a conclusion."
      ],
      "metadata": {
        "id": "C--Lq4ujOgNi"
      }
    },
    {
      "cell_type": "code",
      "source": [
        "ols.predict(X_val.iloc[0].values.reshape(1,-1))"
      ],
      "metadata": {
        "id": "9imI7BD2LcUI",
        "colab": {
          "base_uri": "https://localhost:8080/"
        },
        "outputId": "00acf440-6e5f-4f18-e5c0-6e9d86d97a42"
      },
      "execution_count": 11,
      "outputs": [
        {
          "output_type": "stream",
          "name": "stderr",
          "text": [
            "/usr/local/lib/python3.8/dist-packages/sklearn/base.py:450: UserWarning: X does not have valid feature names, but LinearRegression was fitted with feature names\n",
            "  warnings.warn(\n"
          ]
        },
        {
          "output_type": "execute_result",
          "data": {
            "text/plain": [
              "array([[0.92025144]])"
            ]
          },
          "metadata": {},
          "execution_count": 11
        }
      ]
    },
    {
      "cell_type": "markdown",
      "source": [
        "## **Model Evaluation**\n",
        "To evaluate our model we are going to use the ‘explained_variance_score’ metric and the ‘r2_score’ metric functions which are provided by the scikit-learn package in python.\n",
        "\n",
        "When it comes to the ‘explained_variance_score’ metric, the score should not below 0.60 or 60%. If it is the case, then our built model is not sufficient for our data to solve the given case. So, the ideal score of the ‘explained_variance_score’ should be between 0.60 and 1.0.\n",
        "\n",
        "Our next evaluation metric is the ‘r2_score’ (R-squared) metric. What is R-squared? R-squared is a measurement of how well the dependent variable explains the variance of the independent variable. It is the most popular evaluation metric for regression models. The ideal ‘r2_score’ of a build should be more than 0.70 (at least > 0.60).\n",
        "\n",
        "We are now going to compare the metric scores of each model and choose which model is more suitable for the given dataset."
      ],
      "metadata": {
        "id": "jSMMxMQuOoUu"
      }
    },
    {
      "cell_type": "code",
      "source": [
        "# 1. Explained Variance Score\n",
        "\n",
        "print(cl('EXPLAINED VARIANCE SCORE:', attrs = ['bold']))\n",
        "print('-------------------------------------------------------------------------------')\n",
        "print(cl('Explained Variance Score of OLS model is {}'.format(evs(y_test, ols_yhat)), attrs = ['bold']))\n",
        "print('-------------------------------------------------------------------------------')\n",
        "print(cl('Explained Variance Score of Ridge model is {}'.format(evs(y_test, ridge_yhat)), attrs = ['bold']))\n",
        "print('-------------------------------------------------------------------------------')\n",
        "print(cl('Explained Variance Score of Lasso model is {}'.format(evs(y_test, lasso_yhat)), attrs = ['bold']))\n",
        "print('-------------------------------------------------------------------------------')\n",
        "print(cl('Explained Variance Score of Bayesian model is {}'.format(evs(y_test, bayesian_yhat)), attrs = ['bold']))\n",
        "print('-------------------------------------------------------------------------------')\n",
        "print(cl('Explained Variance Score of ElasticNet is {}'.format(evs(y_test, en_yhat)), attrs = ['bold']))\n",
        "print('-------------')"
      ],
      "metadata": {
        "id": "FaabbrKYOMpi",
        "colab": {
          "base_uri": "https://localhost:8080/"
        },
        "outputId": "705db11b-41e9-4db3-c17c-4021be15f80b"
      },
      "execution_count": 12,
      "outputs": [
        {
          "output_type": "stream",
          "name": "stdout",
          "text": [
            "EXPLAINED VARIANCE SCORE:\n",
            "-------------------------------------------------------------------------------\n",
            "Explained Variance Score of OLS model is 1.0\n",
            "-------------------------------------------------------------------------------\n",
            "Explained Variance Score of Ridge model is 0.9999904352807929\n",
            "-------------------------------------------------------------------------------\n",
            "Explained Variance Score of Lasso model is 0.9881919946552962\n",
            "-------------------------------------------------------------------------------\n",
            "Explained Variance Score of Bayesian model is 1.0\n",
            "-------------------------------------------------------------------------------\n",
            "Explained Variance Score of ElasticNet is 0.9891643869261506\n",
            "-------------\n"
          ]
        }
      ]
    },
    {
      "cell_type": "code",
      "source": [
        "# 2. R-squared\n",
        "\n",
        "print(cl('R-SQUARED:', attrs = ['bold']))\n",
        "print('-------------------------------------------------------------------------------')\n",
        "print(cl('R-Squared of OLS model is {}'.format(r2(y_test, ols_yhat)), attrs = ['bold']))\n",
        "print('-------------------------------------------------------------------------------')\n",
        "print(cl('R-Squared of Ridge model is {}'.format(r2(y_test, ridge_yhat)), attrs = ['bold']))\n",
        "print('-------------------------------------------------------------------------------')\n",
        "print(cl('R-Squared of Lasso model is {}'.format(r2(y_test, lasso_yhat)), attrs = ['bold']))\n",
        "print('-------------------------------------------------------------------------------')\n",
        "print(cl('R-Squared of Bayesian model is {}'.format(r2(y_test, bayesian_yhat)), attrs = ['bold']))\n",
        "print('-------------------------------------------------------------------------------')\n",
        "print(cl('R-Squared of ElasticNet is {}'.format(r2(y_test, en_yhat)), attrs = ['bold']))\n",
        "print('-------------------------------------------------------------------------------')"
      ],
      "metadata": {
        "id": "vn9yId5COm1p",
        "colab": {
          "base_uri": "https://localhost:8080/"
        },
        "outputId": "bf57ae9c-6466-41c0-cc5f-5f21d6ec7615"
      },
      "execution_count": 13,
      "outputs": [
        {
          "output_type": "stream",
          "name": "stdout",
          "text": [
            "R-SQUARED:\n",
            "-------------------------------------------------------------------------------\n",
            "R-Squared of OLS model is 1.0\n",
            "-------------------------------------------------------------------------------\n",
            "R-Squared of Ridge model is 0.9999904276828024\n",
            "-------------------------------------------------------------------------------\n",
            "R-Squared of Lasso model is 0.9881916288901701\n",
            "-------------------------------------------------------------------------------\n",
            "R-Squared of Bayesian model is 1.0\n",
            "-------------------------------------------------------------------------------\n",
            "R-Squared of ElasticNet is 0.989163612344243\n",
            "-------------------------------------------------------------------------------\n"
          ]
        }
      ]
    },
    {
      "cell_type": "code",
      "source": [
        "X_test.iloc[0].values.reshape(1,-1)"
      ],
      "metadata": {
        "colab": {
          "base_uri": "https://localhost:8080/"
        },
        "id": "yPnnBH9Q3jQn",
        "outputId": "1cf22763-394f-4008-a06b-27d85088732f"
      },
      "execution_count": 14,
      "outputs": [
        {
          "output_type": "execute_result",
          "data": {
            "text/plain": [
              "array([[0.15715413, 0.67234194, 0.99295765, 0.07804757, 0.79341592,\n",
              "        0.07982713, 0.93127396]])"
            ]
          },
          "metadata": {},
          "execution_count": 14
        }
      ]
    },
    {
      "cell_type": "code",
      "source": [
        "ols.predict([[ 0.15715413, 0.67234194, 0.99295765, 0.07804757, 0.79341592,\n",
        "        0.07982713, 0.93127396 ]])"
      ],
      "metadata": {
        "id": "xZtpDvn9T5FA",
        "colab": {
          "base_uri": "https://localhost:8080/"
        },
        "outputId": "c85a07da-7e27-4d22-a680-4719b714a70c"
      },
      "execution_count": 15,
      "outputs": [
        {
          "output_type": "stream",
          "name": "stderr",
          "text": [
            "/usr/local/lib/python3.8/dist-packages/sklearn/base.py:450: UserWarning: X does not have valid feature names, but LinearRegression was fitted with feature names\n",
            "  warnings.warn(\n"
          ]
        },
        {
          "output_type": "execute_result",
          "data": {
            "text/plain": [
              "array([[0.07804757]])"
            ]
          },
          "metadata": {},
          "execution_count": 15
        }
      ]
    },
    {
      "cell_type": "code",
      "source": [
        "y_test.iloc[0]"
      ],
      "metadata": {
        "colab": {
          "base_uri": "https://localhost:8080/"
        },
        "id": "KgR_t6na4I3f",
        "outputId": "3fa65719-a03e-49ec-ddfe-9a75898f26c7"
      },
      "execution_count": 16,
      "outputs": [
        {
          "output_type": "execute_result",
          "data": {
            "text/plain": [
              "StateofCharge    0.078048\n",
              "Name: 10700, dtype: float64"
            ]
          },
          "metadata": {},
          "execution_count": 16
        }
      ]
    },
    {
      "cell_type": "code",
      "source": [
        "ridge.score(X_val, y_val)"
      ],
      "metadata": {
        "id": "sUecFjkrJSsA",
        "outputId": "4ad76c7d-b4f9-46c4-e179-744310681fbe",
        "colab": {
          "base_uri": "https://localhost:8080/"
        }
      },
      "execution_count": 17,
      "outputs": [
        {
          "output_type": "execute_result",
          "data": {
            "text/plain": [
              "0.9999905252376097"
            ]
          },
          "metadata": {},
          "execution_count": 17
        }
      ]
    }
  ],
  "metadata": {
    "kernelspec": {
      "display_name": "Python 3 (ipykernel)",
      "language": "python",
      "name": "python3"
    },
    "language_info": {
      "codemirror_mode": {
        "name": "ipython",
        "version": 3
      },
      "file_extension": ".py",
      "mimetype": "text/x-python",
      "name": "python",
      "nbconvert_exporter": "python",
      "pygments_lexer": "ipython3",
      "version": "3.9.7"
    },
    "colab": {
      "provenance": [],
      "include_colab_link": true
    }
  },
  "nbformat": 4,
  "nbformat_minor": 0
}